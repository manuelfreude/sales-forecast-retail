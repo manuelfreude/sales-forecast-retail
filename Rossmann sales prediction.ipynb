{
 "cells": [
  {
   "cell_type": "markdown",
   "metadata": {},
   "source": [
    "# Capstone project: predict Rossmann's store sales\n",
    "\n",
    "## Manuel Freude, May 2018\n",
    "\n",
    "## Sales prediction code\n",
    "\n",
    "Report and library sheets will be provided separately"
   ]
  },
  {
   "cell_type": "code",
   "execution_count": 69,
   "metadata": {},
   "outputs": [
    {
     "name": "stdout",
     "output_type": "stream",
     "text": [
      "<class 'pandas.core.frame.DataFrame'>\n",
      "RangeIndex: 1017209 entries, 0 to 1017208\n",
      "Data columns (total 46 columns):\n",
      "Store_ID                     1017209 non-null int64\n",
      "Customers                    1017209 non-null int64\n",
      "Sales                        1017209 non-null int64\n",
      "Open                         1017209 non-null int64\n",
      "H_None                       1017209 non-null int64\n",
      "H_Public                     1017209 non-null int64\n",
      "H_Easter                     1017209 non-null int64\n",
      "H_X-Mas                      1017209 non-null int64\n",
      "SchoolHoliday                1017209 non-null int64\n",
      "Type_A                       1017209 non-null int64\n",
      "Type_B                       1017209 non-null int64\n",
      "Type_C                       1017209 non-null int64\n",
      "Type_D                       1017209 non-null int64\n",
      "Asort_Basic                  1017209 non-null int64\n",
      "Asort_Extra                  1017209 non-null int64\n",
      "Asort_Extended               1017209 non-null int64\n",
      "Promo1                       1017209 non-null int64\n",
      "Promo2                       1017209 non-null int64\n",
      "Promo2SinceWeek              509178 non-null float64\n",
      "Promo2SinceYear              509178 non-null float64\n",
      "Promo2_Feb,May,Aug,Nov       1017209 non-null int64\n",
      "Promo2_Jan,Apr,Jul,Oct       1017209 non-null int64\n",
      "Promo2_Mar,Jun,Sept,Dec      1017209 non-null int64\n",
      "CompetitionDistance          1014567 non-null float64\n",
      "CompetitionOpenSinceMonth    693861 non-null float64\n",
      "CompetitionOpenSinceYear     693861 non-null float64\n",
      "Date                         1017209 non-null object\n",
      "DayOfMonth                   1017209 non-null int64\n",
      "DayOfWeek                    1017209 non-null int64\n",
      "Month                        1017209 non-null int64\n",
      "Year                         1017209 non-null int64\n",
      "2013                         1017209 non-null int64\n",
      "2014                         1017209 non-null int64\n",
      "2015                         1017209 non-null int64\n",
      "Jan                          1017209 non-null int64\n",
      "Feb                          1017209 non-null int64\n",
      "Mar                          1017209 non-null int64\n",
      "Apr                          1017209 non-null int64\n",
      "May                          1017209 non-null int64\n",
      "Jun                          1017209 non-null int64\n",
      "Jul                          1017209 non-null int64\n",
      "Aug                          1017209 non-null int64\n",
      "Sep                          1017209 non-null int64\n",
      "Oct                          1017209 non-null int64\n",
      "Nov                          1017209 non-null int64\n",
      "Dec                          1017209 non-null int64\n",
      "dtypes: float64(5), int64(40), object(1)\n",
      "memory usage: 357.0+ MB\n"
     ]
    }
   ],
   "source": [
    "import pandas as pd\n",
    "import numpy as np\n",
    "import matplotlib as plt\n",
    "%matplotlib inline\n",
    "\n",
    "data = pd.read_csv('cleaned_dataset.csv')\n",
    "data.drop(columns=['Unnamed: 0'] , inplace=True)\n",
    "\n",
    "data.info()"
   ]
  },
  {
   "cell_type": "code",
   "execution_count": 70,
   "metadata": {},
   "outputs": [
    {
     "data": {
      "text/html": [
       "<div>\n",
       "<style scoped>\n",
       "    .dataframe tbody tr th:only-of-type {\n",
       "        vertical-align: middle;\n",
       "    }\n",
       "\n",
       "    .dataframe tbody tr th {\n",
       "        vertical-align: top;\n",
       "    }\n",
       "\n",
       "    .dataframe thead th {\n",
       "        text-align: right;\n",
       "    }\n",
       "</style>\n",
       "<table border=\"1\" class=\"dataframe\">\n",
       "  <thead>\n",
       "    <tr style=\"text-align: right;\">\n",
       "      <th></th>\n",
       "      <th>Store_ID</th>\n",
       "      <th>Customers</th>\n",
       "      <th>Sales</th>\n",
       "      <th>Open</th>\n",
       "      <th>H_None</th>\n",
       "      <th>H_Public</th>\n",
       "      <th>H_Easter</th>\n",
       "      <th>H_X-Mas</th>\n",
       "      <th>SchoolHoliday</th>\n",
       "      <th>Type_A</th>\n",
       "      <th>...</th>\n",
       "      <th>Mar</th>\n",
       "      <th>Apr</th>\n",
       "      <th>May</th>\n",
       "      <th>Jun</th>\n",
       "      <th>Jul</th>\n",
       "      <th>Aug</th>\n",
       "      <th>Sep</th>\n",
       "      <th>Oct</th>\n",
       "      <th>Nov</th>\n",
       "      <th>Dec</th>\n",
       "    </tr>\n",
       "  </thead>\n",
       "  <tbody>\n",
       "    <tr>\n",
       "      <th>0</th>\n",
       "      <td>1</td>\n",
       "      <td>555</td>\n",
       "      <td>5263</td>\n",
       "      <td>1</td>\n",
       "      <td>1</td>\n",
       "      <td>0</td>\n",
       "      <td>0</td>\n",
       "      <td>0</td>\n",
       "      <td>1</td>\n",
       "      <td>0</td>\n",
       "      <td>...</td>\n",
       "      <td>0</td>\n",
       "      <td>0</td>\n",
       "      <td>0</td>\n",
       "      <td>0</td>\n",
       "      <td>1</td>\n",
       "      <td>0</td>\n",
       "      <td>0</td>\n",
       "      <td>0</td>\n",
       "      <td>0</td>\n",
       "      <td>0</td>\n",
       "    </tr>\n",
       "    <tr>\n",
       "      <th>1</th>\n",
       "      <td>1</td>\n",
       "      <td>546</td>\n",
       "      <td>5020</td>\n",
       "      <td>1</td>\n",
       "      <td>1</td>\n",
       "      <td>0</td>\n",
       "      <td>0</td>\n",
       "      <td>0</td>\n",
       "      <td>1</td>\n",
       "      <td>0</td>\n",
       "      <td>...</td>\n",
       "      <td>0</td>\n",
       "      <td>0</td>\n",
       "      <td>0</td>\n",
       "      <td>0</td>\n",
       "      <td>1</td>\n",
       "      <td>0</td>\n",
       "      <td>0</td>\n",
       "      <td>0</td>\n",
       "      <td>0</td>\n",
       "      <td>0</td>\n",
       "    </tr>\n",
       "    <tr>\n",
       "      <th>2</th>\n",
       "      <td>1</td>\n",
       "      <td>523</td>\n",
       "      <td>4782</td>\n",
       "      <td>1</td>\n",
       "      <td>1</td>\n",
       "      <td>0</td>\n",
       "      <td>0</td>\n",
       "      <td>0</td>\n",
       "      <td>1</td>\n",
       "      <td>0</td>\n",
       "      <td>...</td>\n",
       "      <td>0</td>\n",
       "      <td>0</td>\n",
       "      <td>0</td>\n",
       "      <td>0</td>\n",
       "      <td>1</td>\n",
       "      <td>0</td>\n",
       "      <td>0</td>\n",
       "      <td>0</td>\n",
       "      <td>0</td>\n",
       "      <td>0</td>\n",
       "    </tr>\n",
       "    <tr>\n",
       "      <th>3</th>\n",
       "      <td>1</td>\n",
       "      <td>560</td>\n",
       "      <td>5011</td>\n",
       "      <td>1</td>\n",
       "      <td>1</td>\n",
       "      <td>0</td>\n",
       "      <td>0</td>\n",
       "      <td>0</td>\n",
       "      <td>1</td>\n",
       "      <td>0</td>\n",
       "      <td>...</td>\n",
       "      <td>0</td>\n",
       "      <td>0</td>\n",
       "      <td>0</td>\n",
       "      <td>0</td>\n",
       "      <td>1</td>\n",
       "      <td>0</td>\n",
       "      <td>0</td>\n",
       "      <td>0</td>\n",
       "      <td>0</td>\n",
       "      <td>0</td>\n",
       "    </tr>\n",
       "    <tr>\n",
       "      <th>4</th>\n",
       "      <td>1</td>\n",
       "      <td>612</td>\n",
       "      <td>6102</td>\n",
       "      <td>1</td>\n",
       "      <td>1</td>\n",
       "      <td>0</td>\n",
       "      <td>0</td>\n",
       "      <td>0</td>\n",
       "      <td>1</td>\n",
       "      <td>0</td>\n",
       "      <td>...</td>\n",
       "      <td>0</td>\n",
       "      <td>0</td>\n",
       "      <td>0</td>\n",
       "      <td>0</td>\n",
       "      <td>1</td>\n",
       "      <td>0</td>\n",
       "      <td>0</td>\n",
       "      <td>0</td>\n",
       "      <td>0</td>\n",
       "      <td>0</td>\n",
       "    </tr>\n",
       "  </tbody>\n",
       "</table>\n",
       "<p>5 rows × 46 columns</p>\n",
       "</div>"
      ],
      "text/plain": [
       "   Store_ID  Customers  Sales  Open  H_None  H_Public  H_Easter  H_X-Mas  \\\n",
       "0         1        555   5263     1       1         0         0        0   \n",
       "1         1        546   5020     1       1         0         0        0   \n",
       "2         1        523   4782     1       1         0         0        0   \n",
       "3         1        560   5011     1       1         0         0        0   \n",
       "4         1        612   6102     1       1         0         0        0   \n",
       "\n",
       "   SchoolHoliday  Type_A ...   Mar  Apr  May  Jun  Jul  Aug  Sep  Oct  Nov  \\\n",
       "0              1       0 ...     0    0    0    0    1    0    0    0    0   \n",
       "1              1       0 ...     0    0    0    0    1    0    0    0    0   \n",
       "2              1       0 ...     0    0    0    0    1    0    0    0    0   \n",
       "3              1       0 ...     0    0    0    0    1    0    0    0    0   \n",
       "4              1       0 ...     0    0    0    0    1    0    0    0    0   \n",
       "\n",
       "   Dec  \n",
       "0    0  \n",
       "1    0  \n",
       "2    0  \n",
       "3    0  \n",
       "4    0  \n",
       "\n",
       "[5 rows x 46 columns]"
      ]
     },
     "execution_count": 70,
     "metadata": {},
     "output_type": "execute_result"
    }
   ],
   "source": [
    "data.head()"
   ]
  },
  {
   "cell_type": "markdown",
   "metadata": {},
   "source": [
    "There are many dummy variables in the dataset, but also numerical ones. For the numerical ones, I need to check if they are rather normally distributed so that they fit the regression approach. I will do this with the following ones: \n",
    "- Customers\n",
    "- Sales\n",
    "- DayOfMonth\n",
    "- DayOfWeek\n",
    "- Month\n",
    "- Year"
   ]
  },
  {
   "cell_type": "code",
   "execution_count": 71,
   "metadata": {},
   "outputs": [
    {
     "data": {
      "image/png": "[encoded data removed]",
      "text/plain": [
       "<matplotlib.figure.Figure at 0x110758e10>"
      ]
     },
     "metadata": {},
     "output_type": "display_data"
    }
   ],
   "source": [
    "# plotting customers\n",
    "\n",
    "plt.pyplot.hist(data['Customers'], bins=100);"
   ]
  },
  {
   "cell_type": "code",
   "execution_count": 72,
   "metadata": {},
   "outputs": [
    {
     "data": {
      "text/plain": [
       "0      172869\n",
       "560      2414\n",
       "576      2363\n",
       "603      2337\n",
       "571      2330\n",
       "Name: Customers, dtype: int64"
      ]
     },
     "execution_count": 72,
     "metadata": {},
     "output_type": "execute_result"
    }
   ],
   "source": [
    "# checkig on the lower outlier\n",
    "\n",
    "# source: https://stackoverflow.com/questions/35364601/group-by-and-find-top-n-value-counts-pandas\n",
    "\n",
    "data['Customers'].value_counts().nlargest(5)"
   ]
  },
  {
   "cell_type": "markdown",
   "metadata": {},
   "source": [
    "This looks rather normally distributed. There are abnormalities where the customer number is zero. This might either indicated that the shop was not visited at all that day or it was a holiday etc., in that case I would expect the sales numbers to also be zero in many cases. "
   ]
  },
  {
   "cell_type": "code",
   "execution_count": 73,
   "metadata": {},
   "outputs": [
    {
     "data": {
      "image/png": "[encoded data removed]",
      "text/plain": [
       "<matplotlib.figure.Figure at 0x1125485c0>"
      ]
     },
     "metadata": {},
     "output_type": "display_data"
    }
   ],
   "source": [
    "# plotting sales\n",
    "\n",
    "plt.pyplot.hist(data['Sales'], bins=100);"
   ]
  },
  {
   "cell_type": "code",
   "execution_count": 74,
   "metadata": {},
   "outputs": [
    {
     "data": {
      "text/plain": [
       "0       172871\n",
       "5674       215\n",
       "5558       197\n",
       "5483       196\n",
       "6049       195\n",
       "Name: Sales, dtype: int64"
      ]
     },
     "execution_count": 74,
     "metadata": {},
     "output_type": "execute_result"
    }
   ],
   "source": [
    "# checkig on the lower outlier\n",
    "\n",
    "data['Sales'].value_counts().nlargest(5)"
   ]
  },
  {
   "cell_type": "markdown",
   "metadata": {},
   "source": [
    "Similar to customers, the data looks rather normally distributed except for the zero. The number of zeros is very high and almost the same as for the customers number. It might make sense to later on take a subset of the data to exclude the zeros and check how the regressions perform. The holidays will loose their relevancy in that case."
   ]
  },
  {
   "cell_type": "code",
   "execution_count": 79,
   "metadata": {},
   "outputs": [
    {
     "data": {
      "image/png": "[encoded data removed]",
      "text/plain": [
       "<matplotlib.figure.Figure at 0x10b539d30>"
      ]
     },
     "metadata": {},
     "output_type": "display_data"
    }
   ],
   "source": [
    "# plotting day of month\n",
    "\n",
    "plt.pyplot.hist(data['DayOfMonth'], bins=31);"
   ]
  },
  {
   "cell_type": "markdown",
   "metadata": {},
   "source": [
    "Days of month look well-distributed. I was testing if there are any ones really low, but that's not the case. After 28, they decrease due to February usually not having more than 28 days and many months not having 31 days."
   ]
  },
  {
   "cell_type": "code",
   "execution_count": 83,
   "metadata": {},
   "outputs": [
    {
     "data": {
      "image/png": "[encoded data removed]",
      "text/plain": [
       "<matplotlib.figure.Figure at 0x11382e710>"
      ]
     },
     "metadata": {},
     "output_type": "display_data"
    }
   ],
   "source": [
    "# plotting day of week\n",
    "\n",
    "plt.pyplot.hist(data['DayOfWeek'], bins=7);"
   ]
  },
  {
   "cell_type": "code",
   "execution_count": 84,
   "metadata": {},
   "outputs": [
    {
     "data": {
      "text/plain": [
       "5    145845\n",
       "4    145845\n",
       "3    145665\n",
       "2    145664\n",
       "7    144730\n",
       "6    144730\n",
       "1    144730\n",
       "Name: DayOfWeek, dtype: int64"
      ]
     },
     "execution_count": 84,
     "metadata": {},
     "output_type": "execute_result"
    }
   ],
   "source": [
    "# checking some numbers\n",
    "\n",
    "data['DayOfWeek'].value_counts()"
   ]
  },
  {
   "cell_type": "markdown",
   "metadata": {},
   "source": [
    "Sundays are also included, might be days with low sales because shops would be closed most of the time."
   ]
  },
  {
   "cell_type": "code",
   "execution_count": 85,
   "metadata": {},
   "outputs": [
    {
     "data": {
      "image/png": "[encoded data removed]",
      "text/plain": [
       "<matplotlib.figure.Figure at 0x11f1682b0>"
      ]
     },
     "metadata": {},
     "output_type": "display_data"
    }
   ],
   "source": [
    "# plotting month\n",
    "\n",
    "plt.pyplot.hist(data['Month'], bins=12);"
   ]
  },
  {
   "cell_type": "code",
   "execution_count": 86,
   "metadata": {},
   "outputs": [
    {
     "data": {
      "text/plain": [
       "5     103695\n",
       "3     103695\n",
       "1     103694\n",
       "6     100350\n",
       "4     100350\n",
       "7      98115\n",
       "2      93660\n",
       "12     63550\n",
       "10     63550\n",
       "8      63550\n",
       "11     61500\n",
       "9      61500\n",
       "Name: Month, dtype: int64"
      ]
     },
     "execution_count": 86,
     "metadata": {},
     "output_type": "execute_result"
    }
   ],
   "source": [
    "# checking some numbers\n",
    "\n",
    "data['Month'].value_counts()"
   ]
  },
  {
   "cell_type": "markdown",
   "metadata": {},
   "source": [
    "All months are included. The second half of the year a little less, due to the structure of the provided data, which is not covering full years 2013 through 2015."
   ]
  },
  {
   "cell_type": "code",
   "execution_count": 88,
   "metadata": {},
   "outputs": [
    {
     "data": {
      "image/png": "[encoded data removed]",
      "text/plain": [
       "<matplotlib.figure.Figure at 0x10b546cf8>"
      ]
     },
     "metadata": {},
     "output_type": "display_data"
    }
   ],
   "source": [
    "# plotting year\n",
    "\n",
    "plt.pyplot.hist(data['Year'], bins=3);"
   ]
  },
  {
   "cell_type": "code",
   "execution_count": 89,
   "metadata": {},
   "outputs": [
    {
     "data": {
      "text/plain": [
       "2013    406974\n",
       "2014    373855\n",
       "2015    236380\n",
       "Name: Year, dtype: int64"
      ]
     },
     "execution_count": 89,
     "metadata": {},
     "output_type": "execute_result"
    }
   ],
   "source": [
    "# checking some numbers\n",
    "\n",
    "data['Year'].value_counts()"
   ]
  },
  {
   "cell_type": "markdown",
   "metadata": {},
   "source": [
    "Here we can see that we have less data for 2015, as guessed above. So overall, the data looks good for analysis. Next step is to split the dataset into train, test and true set. "
   ]
  },
  {
   "cell_type": "code",
   "execution_count": null,
   "metadata": {},
   "outputs": [],
   "source": []
  }
 ],
 "metadata": {
  "kernelspec": {
   "display_name": "Python 3",
   "language": "python",
   "name": "python3"
  },
  "language_info": {
   "codemirror_mode": {
    "name": "ipython",
    "version": 3
   },
   "file_extension": ".py",
   "mimetype": "text/x-python",
   "name": "python",
   "nbconvert_exporter": "python",
   "pygments_lexer": "ipython3",
   "version": "3.6.4"
  }
 },
 "nbformat": 4,
 "nbformat_minor": 2
}
