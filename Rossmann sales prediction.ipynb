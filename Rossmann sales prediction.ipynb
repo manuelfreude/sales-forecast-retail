{
 "cells": [
  {
   "cell_type": "markdown",
   "metadata": {},
   "source": [
    "# Capstone project: predict Rossmann's store sales\n",
    "\n",
    "## Manuel Freude, May 2018\n",
    "\n",
    "## Sales prediction code\n",
    "\n",
    "Report and library sheets will be provided separately\n",
    "\n",
    "### Exploratory data analysis"
   ]
  },
  {
   "cell_type": "code",
   "execution_count": 107,
   "metadata": {},
   "outputs": [
    {
     "name": "stdout",
     "output_type": "stream",
     "text": [
      "<class 'pandas.core.frame.DataFrame'>\n",
      "RangeIndex: 1017209 entries, 0 to 1017208\n",
      "Data columns (total 46 columns):\n",
      "Store_ID                     1017209 non-null int64\n",
      "Customers                    1017209 non-null int64\n",
      "Sales                        1017209 non-null int64\n",
      "Open                         1017209 non-null int64\n",
      "H_None                       1017209 non-null int64\n",
      "H_Public                     1017209 non-null int64\n",
      "H_Easter                     1017209 non-null int64\n",
      "H_X-Mas                      1017209 non-null int64\n",
      "SchoolHoliday                1017209 non-null int64\n",
      "Type_A                       1017209 non-null int64\n",
      "Type_B                       1017209 non-null int64\n",
      "Type_C                       1017209 non-null int64\n",
      "Type_D                       1017209 non-null int64\n",
      "Asort_Basic                  1017209 non-null int64\n",
      "Asort_Extra                  1017209 non-null int64\n",
      "Asort_Extended               1017209 non-null int64\n",
      "Promo1                       1017209 non-null int64\n",
      "Promo2                       1017209 non-null int64\n",
      "Promo2SinceWeek              509178 non-null float64\n",
      "Promo2SinceYear              509178 non-null float64\n",
      "Promo2_Feb,May,Aug,Nov       1017209 non-null int64\n",
      "Promo2_Jan,Apr,Jul,Oct       1017209 non-null int64\n",
      "Promo2_Mar,Jun,Sept,Dec      1017209 non-null int64\n",
      "CompetitionDistance          1014567 non-null float64\n",
      "CompetitionOpenSinceMonth    693861 non-null float64\n",
      "CompetitionOpenSinceYear     693861 non-null float64\n",
      "Date                         1017209 non-null object\n",
      "DayOfMonth                   1017209 non-null int64\n",
      "DayOfWeek                    1017209 non-null int64\n",
      "Month                        1017209 non-null int64\n",
      "Year                         1017209 non-null int64\n",
      "2013                         1017209 non-null int64\n",
      "2014                         1017209 non-null int64\n",
      "2015                         1017209 non-null int64\n",
      "Jan                          1017209 non-null int64\n",
      "Feb                          1017209 non-null int64\n",
      "Mar                          1017209 non-null int64\n",
      "Apr                          1017209 non-null int64\n",
      "May                          1017209 non-null int64\n",
      "Jun                          1017209 non-null int64\n",
      "Jul                          1017209 non-null int64\n",
      "Aug                          1017209 non-null int64\n",
      "Sep                          1017209 non-null int64\n",
      "Oct                          1017209 non-null int64\n",
      "Nov                          1017209 non-null int64\n",
      "Dec                          1017209 non-null int64\n",
      "dtypes: float64(5), int64(40), object(1)\n",
      "memory usage: 357.0+ MB\n"
     ]
    }
   ],
   "source": [
    "import pandas as pd\n",
    "import numpy as np\n",
    "from matplotlib import pyplot\n",
    "import matplotlib as plt\n",
    "%matplotlib inline\n",
    "\n",
    "data = pd.read_csv('cleaned_dataset.csv')\n",
    "data.drop(columns=['Unnamed: 0'] , inplace=True)\n",
    "\n",
    "data.info()"
   ]
  },
  {
   "cell_type": "code",
   "execution_count": 108,
   "metadata": {},
   "outputs": [
    {
     "data": {
      "text/html": [
       "<div>\n",
       "<style scoped>\n",
       "    .dataframe tbody tr th:only-of-type {\n",
       "        vertical-align: middle;\n",
       "    }\n",
       "\n",
       "    .dataframe tbody tr th {\n",
       "        vertical-align: top;\n",
       "    }\n",
       "\n",
       "    .dataframe thead th {\n",
       "        text-align: right;\n",
       "    }\n",
       "</style>\n",
       "<table border=\"1\" class=\"dataframe\">\n",
       "  <thead>\n",
       "    <tr style=\"text-align: right;\">\n",
       "      <th></th>\n",
       "      <th>Store_ID</th>\n",
       "      <th>Customers</th>\n",
       "      <th>Sales</th>\n",
       "      <th>Open</th>\n",
       "      <th>H_None</th>\n",
       "      <th>H_Public</th>\n",
       "      <th>H_Easter</th>\n",
       "      <th>H_X-Mas</th>\n",
       "      <th>SchoolHoliday</th>\n",
       "      <th>Type_A</th>\n",
       "      <th>...</th>\n",
       "      <th>Mar</th>\n",
       "      <th>Apr</th>\n",
       "      <th>May</th>\n",
       "      <th>Jun</th>\n",
       "      <th>Jul</th>\n",
       "      <th>Aug</th>\n",
       "      <th>Sep</th>\n",
       "      <th>Oct</th>\n",
       "      <th>Nov</th>\n",
       "      <th>Dec</th>\n",
       "    </tr>\n",
       "  </thead>\n",
       "  <tbody>\n",
       "    <tr>\n",
       "      <th>0</th>\n",
       "      <td>1</td>\n",
       "      <td>555</td>\n",
       "      <td>5263</td>\n",
       "      <td>1</td>\n",
       "      <td>1</td>\n",
       "      <td>0</td>\n",
       "      <td>0</td>\n",
       "      <td>0</td>\n",
       "      <td>1</td>\n",
       "      <td>0</td>\n",
       "      <td>...</td>\n",
       "      <td>0</td>\n",
       "      <td>0</td>\n",
       "      <td>0</td>\n",
       "      <td>0</td>\n",
       "      <td>1</td>\n",
       "      <td>0</td>\n",
       "      <td>0</td>\n",
       "      <td>0</td>\n",
       "      <td>0</td>\n",
       "      <td>0</td>\n",
       "    </tr>\n",
       "    <tr>\n",
       "      <th>1</th>\n",
       "      <td>1</td>\n",
       "      <td>546</td>\n",
       "      <td>5020</td>\n",
       "      <td>1</td>\n",
       "      <td>1</td>\n",
       "      <td>0</td>\n",
       "      <td>0</td>\n",
       "      <td>0</td>\n",
       "      <td>1</td>\n",
       "      <td>0</td>\n",
       "      <td>...</td>\n",
       "      <td>0</td>\n",
       "      <td>0</td>\n",
       "      <td>0</td>\n",
       "      <td>0</td>\n",
       "      <td>1</td>\n",
       "      <td>0</td>\n",
       "      <td>0</td>\n",
       "      <td>0</td>\n",
       "      <td>0</td>\n",
       "      <td>0</td>\n",
       "    </tr>\n",
       "    <tr>\n",
       "      <th>2</th>\n",
       "      <td>1</td>\n",
       "      <td>523</td>\n",
       "      <td>4782</td>\n",
       "      <td>1</td>\n",
       "      <td>1</td>\n",
       "      <td>0</td>\n",
       "      <td>0</td>\n",
       "      <td>0</td>\n",
       "      <td>1</td>\n",
       "      <td>0</td>\n",
       "      <td>...</td>\n",
       "      <td>0</td>\n",
       "      <td>0</td>\n",
       "      <td>0</td>\n",
       "      <td>0</td>\n",
       "      <td>1</td>\n",
       "      <td>0</td>\n",
       "      <td>0</td>\n",
       "      <td>0</td>\n",
       "      <td>0</td>\n",
       "      <td>0</td>\n",
       "    </tr>\n",
       "    <tr>\n",
       "      <th>3</th>\n",
       "      <td>1</td>\n",
       "      <td>560</td>\n",
       "      <td>5011</td>\n",
       "      <td>1</td>\n",
       "      <td>1</td>\n",
       "      <td>0</td>\n",
       "      <td>0</td>\n",
       "      <td>0</td>\n",
       "      <td>1</td>\n",
       "      <td>0</td>\n",
       "      <td>...</td>\n",
       "      <td>0</td>\n",
       "      <td>0</td>\n",
       "      <td>0</td>\n",
       "      <td>0</td>\n",
       "      <td>1</td>\n",
       "      <td>0</td>\n",
       "      <td>0</td>\n",
       "      <td>0</td>\n",
       "      <td>0</td>\n",
       "      <td>0</td>\n",
       "    </tr>\n",
       "    <tr>\n",
       "      <th>4</th>\n",
       "      <td>1</td>\n",
       "      <td>612</td>\n",
       "      <td>6102</td>\n",
       "      <td>1</td>\n",
       "      <td>1</td>\n",
       "      <td>0</td>\n",
       "      <td>0</td>\n",
       "      <td>0</td>\n",
       "      <td>1</td>\n",
       "      <td>0</td>\n",
       "      <td>...</td>\n",
       "      <td>0</td>\n",
       "      <td>0</td>\n",
       "      <td>0</td>\n",
       "      <td>0</td>\n",
       "      <td>1</td>\n",
       "      <td>0</td>\n",
       "      <td>0</td>\n",
       "      <td>0</td>\n",
       "      <td>0</td>\n",
       "      <td>0</td>\n",
       "    </tr>\n",
       "  </tbody>\n",
       "</table>\n",
       "<p>5 rows × 46 columns</p>\n",
       "</div>"
      ],
      "text/plain": [
       "   Store_ID  Customers  Sales  Open  H_None  H_Public  H_Easter  H_X-Mas  \\\n",
       "0         1        555   5263     1       1         0         0        0   \n",
       "1         1        546   5020     1       1         0         0        0   \n",
       "2         1        523   4782     1       1         0         0        0   \n",
       "3         1        560   5011     1       1         0         0        0   \n",
       "4         1        612   6102     1       1         0         0        0   \n",
       "\n",
       "   SchoolHoliday  Type_A ...   Mar  Apr  May  Jun  Jul  Aug  Sep  Oct  Nov  \\\n",
       "0              1       0 ...     0    0    0    0    1    0    0    0    0   \n",
       "1              1       0 ...     0    0    0    0    1    0    0    0    0   \n",
       "2              1       0 ...     0    0    0    0    1    0    0    0    0   \n",
       "3              1       0 ...     0    0    0    0    1    0    0    0    0   \n",
       "4              1       0 ...     0    0    0    0    1    0    0    0    0   \n",
       "\n",
       "   Dec  \n",
       "0    0  \n",
       "1    0  \n",
       "2    0  \n",
       "3    0  \n",
       "4    0  \n",
       "\n",
       "[5 rows x 46 columns]"
      ]
     },
     "execution_count": 108,
     "metadata": {},
     "output_type": "execute_result"
    }
   ],
   "source": [
    "data.head()"
   ]
  },
  {
   "cell_type": "markdown",
   "metadata": {},
   "source": [
    "There are many dummy variables in the dataset, but also numerical ones. For the numerical ones, I need to check if they are rather normally distributed so that they fit the regression approach. I will do this with the following ones: \n",
    "- Customers\n",
    "- Sales\n",
    "- DayOfMonth\n",
    "- DayOfWeek\n",
    "- Month\n",
    "- Year"
   ]
  },
  {
   "cell_type": "code",
   "execution_count": 109,
   "metadata": {},
   "outputs": [
    {
     "data": {
      "image/png": "[encoded data removed]",
      "text/plain": [
       "<matplotlib.figure.Figure at 0x1c892e438>"
      ]
     },
     "metadata": {},
     "output_type": "display_data"
    }
   ],
   "source": [
    "# plotting customers\n",
    "\n",
    "pyplot.hist(data['Customers'], bins=100);"
   ]
  },
  {
   "cell_type": "code",
   "execution_count": 110,
   "metadata": {},
   "outputs": [
    {
     "data": {
      "text/plain": [
       "0      172869\n",
       "560      2414\n",
       "576      2363\n",
       "603      2337\n",
       "571      2330\n",
       "Name: Customers, dtype: int64"
      ]
     },
     "execution_count": 110,
     "metadata": {},
     "output_type": "execute_result"
    }
   ],
   "source": [
    "# checkig on the lower outlier\n",
    "\n",
    "# source: https://stackoverflow.com/questions/35364601/group-by-and-find-top-n-value-counts-pandas\n",
    "\n",
    "data['Customers'].value_counts().nlargest(5)"
   ]
  },
  {
   "cell_type": "markdown",
   "metadata": {},
   "source": [
    "This looks rather normally distributed. There are abnormalities where the customer number is zero. This might either indicated that the shop was not visited at all that day or it was a holiday etc., in that case I would expect the sales numbers to also be zero in many cases. "
   ]
  },
  {
   "cell_type": "code",
   "execution_count": 111,
   "metadata": {},
   "outputs": [
    {
     "data": {
      "image/png": "[encoded data removed]",
      "text/plain": [
       "<matplotlib.figure.Figure at 0x113378940>"
      ]
     },
     "metadata": {},
     "output_type": "display_data"
    }
   ],
   "source": [
    "# plotting sales\n",
    "\n",
    "pyplot.hist(data['Sales'], bins=100);"
   ]
  },
  {
   "cell_type": "code",
   "execution_count": 112,
   "metadata": {},
   "outputs": [
    {
     "data": {
      "text/plain": [
       "0       172871\n",
       "5674       215\n",
       "5558       197\n",
       "5483       196\n",
       "6049       195\n",
       "Name: Sales, dtype: int64"
      ]
     },
     "execution_count": 112,
     "metadata": {},
     "output_type": "execute_result"
    }
   ],
   "source": [
    "# checkig on the lower outlier\n",
    "\n",
    "data['Sales'].value_counts().nlargest(5)"
   ]
  },
  {
   "cell_type": "markdown",
   "metadata": {},
   "source": [
    "Similar to customers, the data looks rather normally distributed except for the zero. The number of zeros is very high and almost the same as for the customers number. It might make sense to later on take a subset of the data to exclude the zeros and check how the regressions perform. The holidays will loose their relevancy in that case."
   ]
  },
  {
   "cell_type": "code",
   "execution_count": 113,
   "metadata": {},
   "outputs": [
    {
     "data": {
      "image/png": "[encoded data removed]",
      "text/plain": [
       "<matplotlib.figure.Figure at 0x1201d85c0>"
      ]
     },
     "metadata": {},
     "output_type": "display_data"
    }
   ],
   "source": [
    "# plotting day of month\n",
    "\n",
    "pyplot.hist(data['DayOfMonth'], bins=31);"
   ]
  },
  {
   "cell_type": "markdown",
   "metadata": {},
   "source": [
    "Days of month look well-distributed. I was testing if there are any ones really low, but that's not the case. After 28, they decrease due to February usually not having more than 28 days and many months not having 31 days."
   ]
  },
  {
   "cell_type": "code",
   "execution_count": 114,
   "metadata": {},
   "outputs": [
    {
     "data": {
      "image/png": "[encoded data removed]",
      "text/plain": [
       "<matplotlib.figure.Figure at 0x11ccd5a58>"
      ]
     },
     "metadata": {},
     "output_type": "display_data"
    }
   ],
   "source": [
    "# plotting day of week\n",
    "\n",
    "pyplot.hist(data['DayOfWeek'], bins=7);"
   ]
  },
  {
   "cell_type": "code",
   "execution_count": 115,
   "metadata": {},
   "outputs": [
    {
     "data": {
      "text/plain": [
       "5    145845\n",
       "4    145845\n",
       "3    145665\n",
       "2    145664\n",
       "7    144730\n",
       "6    144730\n",
       "1    144730\n",
       "Name: DayOfWeek, dtype: int64"
      ]
     },
     "execution_count": 115,
     "metadata": {},
     "output_type": "execute_result"
    }
   ],
   "source": [
    "# checking some numbers\n",
    "\n",
    "data['DayOfWeek'].value_counts()"
   ]
  },
  {
   "cell_type": "markdown",
   "metadata": {},
   "source": [
    "Sundays are also included, might be days with low sales because shops would be closed most of the time."
   ]
  },
  {
   "cell_type": "code",
   "execution_count": 116,
   "metadata": {},
   "outputs": [
    {
     "data": {
      "image/png": "[encoded data removed]",
      "text/plain": [
       "<matplotlib.figure.Figure at 0x113323c18>"
      ]
     },
     "metadata": {},
     "output_type": "display_data"
    }
   ],
   "source": [
    "# plotting month\n",
    "\n",
    "pyplot.hist(data['Month'], bins=12);"
   ]
  },
  {
   "cell_type": "code",
   "execution_count": 117,
   "metadata": {},
   "outputs": [
    {
     "data": {
      "text/plain": [
       "5     103695\n",
       "3     103695\n",
       "1     103694\n",
       "6     100350\n",
       "4     100350\n",
       "7      98115\n",
       "2      93660\n",
       "12     63550\n",
       "10     63550\n",
       "8      63550\n",
       "11     61500\n",
       "9      61500\n",
       "Name: Month, dtype: int64"
      ]
     },
     "execution_count": 117,
     "metadata": {},
     "output_type": "execute_result"
    }
   ],
   "source": [
    "# checking some numbers\n",
    "\n",
    "data['Month'].value_counts()"
   ]
  },
  {
   "cell_type": "markdown",
   "metadata": {},
   "source": [
    "All months are included. The second half of the year a little less, due to the structure of the provided data, which is not covering full years 2013 through 2015."
   ]
  },
  {
   "cell_type": "code",
   "execution_count": 118,
   "metadata": {},
   "outputs": [
    {
     "data": {
      "image/png": "[encoded data removed]",
      "text/plain": [
       "<matplotlib.figure.Figure at 0x112d1f080>"
      ]
     },
     "metadata": {},
     "output_type": "display_data"
    }
   ],
   "source": [
    "# plotting year\n",
    "\n",
    "pyplot.hist(data['Year'], bins=3);"
   ]
  },
  {
   "cell_type": "code",
   "execution_count": 119,
   "metadata": {},
   "outputs": [
    {
     "data": {
      "text/plain": [
       "2013    406974\n",
       "2014    373855\n",
       "2015    236380\n",
       "Name: Year, dtype: int64"
      ]
     },
     "execution_count": 119,
     "metadata": {},
     "output_type": "execute_result"
    }
   ],
   "source": [
    "# checking some numbers\n",
    "\n",
    "data['Year'].value_counts()"
   ]
  },
  {
   "cell_type": "markdown",
   "metadata": {},
   "source": [
    "Here we can see that we have less data for 2015, as guessed above. So overall, the data looks good for analysis. Next step is to split the dataset into train, test and true set. "
   ]
  },
  {
   "cell_type": "markdown",
   "metadata": {},
   "source": [
    "#### Multiple instance time series split"
   ]
  },
  {
   "cell_type": "code",
   "execution_count": 120,
   "metadata": {},
   "outputs": [
    {
     "data": {
      "text/html": [
       "<div>\n",
       "<style scoped>\n",
       "    .dataframe tbody tr th:only-of-type {\n",
       "        vertical-align: middle;\n",
       "    }\n",
       "\n",
       "    .dataframe tbody tr th {\n",
       "        vertical-align: top;\n",
       "    }\n",
       "\n",
       "    .dataframe thead th {\n",
       "        text-align: right;\n",
       "    }\n",
       "</style>\n",
       "<table border=\"1\" class=\"dataframe\">\n",
       "  <thead>\n",
       "    <tr style=\"text-align: right;\">\n",
       "      <th></th>\n",
       "      <th>Store_ID</th>\n",
       "      <th>Customers</th>\n",
       "      <th>Sales</th>\n",
       "      <th>Open</th>\n",
       "      <th>H_None</th>\n",
       "      <th>H_Public</th>\n",
       "      <th>H_Easter</th>\n",
       "      <th>H_X-Mas</th>\n",
       "      <th>SchoolHoliday</th>\n",
       "      <th>Type_A</th>\n",
       "      <th>...</th>\n",
       "      <th>Mar</th>\n",
       "      <th>Apr</th>\n",
       "      <th>May</th>\n",
       "      <th>Jun</th>\n",
       "      <th>Jul</th>\n",
       "      <th>Aug</th>\n",
       "      <th>Sep</th>\n",
       "      <th>Oct</th>\n",
       "      <th>Nov</th>\n",
       "      <th>Dec</th>\n",
       "    </tr>\n",
       "  </thead>\n",
       "  <tbody>\n",
       "    <tr>\n",
       "      <th>1017208</th>\n",
       "      <td>1115</td>\n",
       "      <td>0</td>\n",
       "      <td>0</td>\n",
       "      <td>0</td>\n",
       "      <td>0</td>\n",
       "      <td>1</td>\n",
       "      <td>0</td>\n",
       "      <td>0</td>\n",
       "      <td>1</td>\n",
       "      <td>0</td>\n",
       "      <td>...</td>\n",
       "      <td>0</td>\n",
       "      <td>0</td>\n",
       "      <td>0</td>\n",
       "      <td>0</td>\n",
       "      <td>0</td>\n",
       "      <td>0</td>\n",
       "      <td>0</td>\n",
       "      <td>0</td>\n",
       "      <td>0</td>\n",
       "      <td>0</td>\n",
       "    </tr>\n",
       "    <tr>\n",
       "      <th>679363</th>\n",
       "      <td>746</td>\n",
       "      <td>0</td>\n",
       "      <td>0</td>\n",
       "      <td>0</td>\n",
       "      <td>0</td>\n",
       "      <td>1</td>\n",
       "      <td>0</td>\n",
       "      <td>0</td>\n",
       "      <td>1</td>\n",
       "      <td>0</td>\n",
       "      <td>...</td>\n",
       "      <td>0</td>\n",
       "      <td>0</td>\n",
       "      <td>0</td>\n",
       "      <td>0</td>\n",
       "      <td>0</td>\n",
       "      <td>0</td>\n",
       "      <td>0</td>\n",
       "      <td>0</td>\n",
       "      <td>0</td>\n",
       "      <td>0</td>\n",
       "    </tr>\n",
       "    <tr>\n",
       "      <th>155193</th>\n",
       "      <td>171</td>\n",
       "      <td>0</td>\n",
       "      <td>0</td>\n",
       "      <td>0</td>\n",
       "      <td>0</td>\n",
       "      <td>1</td>\n",
       "      <td>0</td>\n",
       "      <td>0</td>\n",
       "      <td>1</td>\n",
       "      <td>1</td>\n",
       "      <td>...</td>\n",
       "      <td>0</td>\n",
       "      <td>0</td>\n",
       "      <td>0</td>\n",
       "      <td>0</td>\n",
       "      <td>0</td>\n",
       "      <td>0</td>\n",
       "      <td>0</td>\n",
       "      <td>0</td>\n",
       "      <td>0</td>\n",
       "      <td>0</td>\n",
       "    </tr>\n",
       "    <tr>\n",
       "      <th>632403</th>\n",
       "      <td>694</td>\n",
       "      <td>0</td>\n",
       "      <td>0</td>\n",
       "      <td>0</td>\n",
       "      <td>0</td>\n",
       "      <td>1</td>\n",
       "      <td>0</td>\n",
       "      <td>0</td>\n",
       "      <td>1</td>\n",
       "      <td>1</td>\n",
       "      <td>...</td>\n",
       "      <td>0</td>\n",
       "      <td>0</td>\n",
       "      <td>0</td>\n",
       "      <td>0</td>\n",
       "      <td>0</td>\n",
       "      <td>0</td>\n",
       "      <td>0</td>\n",
       "      <td>0</td>\n",
       "      <td>0</td>\n",
       "      <td>0</td>\n",
       "    </tr>\n",
       "    <tr>\n",
       "      <th>361623</th>\n",
       "      <td>396</td>\n",
       "      <td>0</td>\n",
       "      <td>0</td>\n",
       "      <td>0</td>\n",
       "      <td>0</td>\n",
       "      <td>1</td>\n",
       "      <td>0</td>\n",
       "      <td>0</td>\n",
       "      <td>1</td>\n",
       "      <td>1</td>\n",
       "      <td>...</td>\n",
       "      <td>0</td>\n",
       "      <td>0</td>\n",
       "      <td>0</td>\n",
       "      <td>0</td>\n",
       "      <td>0</td>\n",
       "      <td>0</td>\n",
       "      <td>0</td>\n",
       "      <td>0</td>\n",
       "      <td>0</td>\n",
       "      <td>0</td>\n",
       "    </tr>\n",
       "  </tbody>\n",
       "</table>\n",
       "<p>5 rows × 46 columns</p>\n",
       "</div>"
      ],
      "text/plain": [
       "         Store_ID  Customers  Sales  Open  H_None  H_Public  H_Easter  \\\n",
       "1017208      1115          0      0     0       0         1         0   \n",
       "679363        746          0      0     0       0         1         0   \n",
       "155193        171          0      0     0       0         1         0   \n",
       "632403        694          0      0     0       0         1         0   \n",
       "361623        396          0      0     0       0         1         0   \n",
       "\n",
       "         H_X-Mas  SchoolHoliday  Type_A ...   Mar  Apr  May  Jun  Jul  Aug  \\\n",
       "1017208        0              1       0 ...     0    0    0    0    0    0   \n",
       "679363         0              1       0 ...     0    0    0    0    0    0   \n",
       "155193         0              1       1 ...     0    0    0    0    0    0   \n",
       "632403         0              1       1 ...     0    0    0    0    0    0   \n",
       "361623         0              1       1 ...     0    0    0    0    0    0   \n",
       "\n",
       "         Sep  Oct  Nov  Dec  \n",
       "1017208    0    0    0    0  \n",
       "679363     0    0    0    0  \n",
       "155193     0    0    0    0  \n",
       "632403     0    0    0    0  \n",
       "361623     0    0    0    0  \n",
       "\n",
       "[5 rows x 46 columns]"
      ]
     },
     "execution_count": 120,
     "metadata": {},
     "output_type": "execute_result"
    }
   ],
   "source": [
    "# making sure we sort the dataset by date to set ground for time series split\n",
    "\n",
    "data.sort_values('Date', inplace=True);\n",
    "\n",
    "data.head()"
   ]
  },
  {
   "cell_type": "code",
   "execution_count": 121,
   "metadata": {},
   "outputs": [
    {
     "data": {
      "text/plain": [
       "1017208    2013-01-01\n",
       "679363     2013-01-01\n",
       "155193     2013-01-01\n",
       "632403     2013-01-01\n",
       "361623     2013-01-01\n",
       "177271     2013-01-01\n",
       "246633     2013-01-01\n",
       "29407      2013-01-01\n",
       "401231     2013-01-01\n",
       "994762     2013-01-01\n",
       "Name: Date, dtype: object"
      ]
     },
     "execution_count": 121,
     "metadata": {},
     "output_type": "execute_result"
    }
   ],
   "source": [
    "data['Date'].head(10)"
   ]
  },
  {
   "cell_type": "code",
   "execution_count": 122,
   "metadata": {},
   "outputs": [
    {
     "data": {
      "text/plain": [
       "812458    2015-07-31\n",
       "559230    2015-07-31\n",
       "886552    2015-07-31\n",
       "94082     2015-07-31\n",
       "558288    2015-07-31\n",
       "557530    2015-07-31\n",
       "212332    2015-07-31\n",
       "982701    2015-07-31\n",
       "769288    2015-07-31\n",
       "0         2015-07-31\n",
       "Name: Date, dtype: object"
      ]
     },
     "execution_count": 122,
     "metadata": {},
     "output_type": "execute_result"
    }
   ],
   "source": [
    "data['Date'].tail(10)"
   ]
  },
  {
   "cell_type": "code",
   "execution_count": 123,
   "metadata": {},
   "outputs": [
    {
     "name": "stdout",
     "output_type": "stream",
     "text": [
      "Observations: 1017209\n",
      "Training Observations: 610325\n",
      "Testing Observations: 203442\n",
      "\"True\" Observations: 203442\n"
     ]
    }
   ],
   "source": [
    "# source: https://machinelearningmastery.com/backtest-machine-learning-models-time-series-forecasting/\n",
    "\n",
    "train_size = int(len(data['Date']) * 0.60)\n",
    "test_size = int(len(data['Date']) * 0.80)\n",
    "train, test, true = data[0:train_size], data[train_size:test_size], data[test_size:len(data['Date'])]\n",
    "print('Observations: %d' % (len(data)))\n",
    "print('Training Observations: %d' % (len(train)))\n",
    "print('Testing Observations: %d' % (len(test)))\n",
    "print('\"True\" Observations: %d' % (len(true)))"
   ]
  },
  {
   "cell_type": "code",
   "execution_count": 124,
   "metadata": {},
   "outputs": [
    {
     "data": {
      "text/html": [
       "<div>\n",
       "<style scoped>\n",
       "    .dataframe tbody tr th:only-of-type {\n",
       "        vertical-align: middle;\n",
       "    }\n",
       "\n",
       "    .dataframe tbody tr th {\n",
       "        vertical-align: top;\n",
       "    }\n",
       "\n",
       "    .dataframe thead th {\n",
       "        text-align: right;\n",
       "    }\n",
       "</style>\n",
       "<table border=\"1\" class=\"dataframe\">\n",
       "  <thead>\n",
       "    <tr style=\"text-align: right;\">\n",
       "      <th></th>\n",
       "      <th>Store_ID</th>\n",
       "      <th>Customers</th>\n",
       "      <th>Sales</th>\n",
       "      <th>Open</th>\n",
       "      <th>H_None</th>\n",
       "      <th>H_Public</th>\n",
       "      <th>H_Easter</th>\n",
       "      <th>H_X-Mas</th>\n",
       "      <th>SchoolHoliday</th>\n",
       "      <th>Type_A</th>\n",
       "      <th>...</th>\n",
       "      <th>Mar</th>\n",
       "      <th>Apr</th>\n",
       "      <th>May</th>\n",
       "      <th>Jun</th>\n",
       "      <th>Jul</th>\n",
       "      <th>Aug</th>\n",
       "      <th>Sep</th>\n",
       "      <th>Oct</th>\n",
       "      <th>Nov</th>\n",
       "      <th>Dec</th>\n",
       "    </tr>\n",
       "  </thead>\n",
       "  <tbody>\n",
       "    <tr>\n",
       "      <th>1017208</th>\n",
       "      <td>1115</td>\n",
       "      <td>0</td>\n",
       "      <td>0</td>\n",
       "      <td>0</td>\n",
       "      <td>0</td>\n",
       "      <td>1</td>\n",
       "      <td>0</td>\n",
       "      <td>0</td>\n",
       "      <td>1</td>\n",
       "      <td>0</td>\n",
       "      <td>...</td>\n",
       "      <td>0</td>\n",
       "      <td>0</td>\n",
       "      <td>0</td>\n",
       "      <td>0</td>\n",
       "      <td>0</td>\n",
       "      <td>0</td>\n",
       "      <td>0</td>\n",
       "      <td>0</td>\n",
       "      <td>0</td>\n",
       "      <td>0</td>\n",
       "    </tr>\n",
       "    <tr>\n",
       "      <th>679363</th>\n",
       "      <td>746</td>\n",
       "      <td>0</td>\n",
       "      <td>0</td>\n",
       "      <td>0</td>\n",
       "      <td>0</td>\n",
       "      <td>1</td>\n",
       "      <td>0</td>\n",
       "      <td>0</td>\n",
       "      <td>1</td>\n",
       "      <td>0</td>\n",
       "      <td>...</td>\n",
       "      <td>0</td>\n",
       "      <td>0</td>\n",
       "      <td>0</td>\n",
       "      <td>0</td>\n",
       "      <td>0</td>\n",
       "      <td>0</td>\n",
       "      <td>0</td>\n",
       "      <td>0</td>\n",
       "      <td>0</td>\n",
       "      <td>0</td>\n",
       "    </tr>\n",
       "    <tr>\n",
       "      <th>155193</th>\n",
       "      <td>171</td>\n",
       "      <td>0</td>\n",
       "      <td>0</td>\n",
       "      <td>0</td>\n",
       "      <td>0</td>\n",
       "      <td>1</td>\n",
       "      <td>0</td>\n",
       "      <td>0</td>\n",
       "      <td>1</td>\n",
       "      <td>1</td>\n",
       "      <td>...</td>\n",
       "      <td>0</td>\n",
       "      <td>0</td>\n",
       "      <td>0</td>\n",
       "      <td>0</td>\n",
       "      <td>0</td>\n",
       "      <td>0</td>\n",
       "      <td>0</td>\n",
       "      <td>0</td>\n",
       "      <td>0</td>\n",
       "      <td>0</td>\n",
       "    </tr>\n",
       "    <tr>\n",
       "      <th>632403</th>\n",
       "      <td>694</td>\n",
       "      <td>0</td>\n",
       "      <td>0</td>\n",
       "      <td>0</td>\n",
       "      <td>0</td>\n",
       "      <td>1</td>\n",
       "      <td>0</td>\n",
       "      <td>0</td>\n",
       "      <td>1</td>\n",
       "      <td>1</td>\n",
       "      <td>...</td>\n",
       "      <td>0</td>\n",
       "      <td>0</td>\n",
       "      <td>0</td>\n",
       "      <td>0</td>\n",
       "      <td>0</td>\n",
       "      <td>0</td>\n",
       "      <td>0</td>\n",
       "      <td>0</td>\n",
       "      <td>0</td>\n",
       "      <td>0</td>\n",
       "    </tr>\n",
       "    <tr>\n",
       "      <th>361623</th>\n",
       "      <td>396</td>\n",
       "      <td>0</td>\n",
       "      <td>0</td>\n",
       "      <td>0</td>\n",
       "      <td>0</td>\n",
       "      <td>1</td>\n",
       "      <td>0</td>\n",
       "      <td>0</td>\n",
       "      <td>1</td>\n",
       "      <td>1</td>\n",
       "      <td>...</td>\n",
       "      <td>0</td>\n",
       "      <td>0</td>\n",
       "      <td>0</td>\n",
       "      <td>0</td>\n",
       "      <td>0</td>\n",
       "      <td>0</td>\n",
       "      <td>0</td>\n",
       "      <td>0</td>\n",
       "      <td>0</td>\n",
       "      <td>0</td>\n",
       "    </tr>\n",
       "  </tbody>\n",
       "</table>\n",
       "<p>5 rows × 46 columns</p>\n",
       "</div>"
      ],
      "text/plain": [
       "         Store_ID  Customers  Sales  Open  H_None  H_Public  H_Easter  \\\n",
       "1017208      1115          0      0     0       0         1         0   \n",
       "679363        746          0      0     0       0         1         0   \n",
       "155193        171          0      0     0       0         1         0   \n",
       "632403        694          0      0     0       0         1         0   \n",
       "361623        396          0      0     0       0         1         0   \n",
       "\n",
       "         H_X-Mas  SchoolHoliday  Type_A ...   Mar  Apr  May  Jun  Jul  Aug  \\\n",
       "1017208        0              1       0 ...     0    0    0    0    0    0   \n",
       "679363         0              1       0 ...     0    0    0    0    0    0   \n",
       "155193         0              1       1 ...     0    0    0    0    0    0   \n",
       "632403         0              1       1 ...     0    0    0    0    0    0   \n",
       "361623         0              1       1 ...     0    0    0    0    0    0   \n",
       "\n",
       "         Sep  Oct  Nov  Dec  \n",
       "1017208    0    0    0    0  \n",
       "679363     0    0    0    0  \n",
       "155193     0    0    0    0  \n",
       "632403     0    0    0    0  \n",
       "361623     0    0    0    0  \n",
       "\n",
       "[5 rows x 46 columns]"
      ]
     },
     "execution_count": 124,
     "metadata": {},
     "output_type": "execute_result"
    }
   ],
   "source": [
    "# comparing heads and info to make sure worked properly (train)\n",
    "\n",
    "train.head()"
   ]
  },
  {
   "cell_type": "code",
   "execution_count": 125,
   "metadata": {},
   "outputs": [
    {
     "data": {
      "text/plain": [
       "1017208    2013-01-01\n",
       "679363     2013-01-01\n",
       "155193     2013-01-01\n",
       "632403     2013-01-01\n",
       "361623     2013-01-01\n",
       "Name: Date, dtype: object"
      ]
     },
     "execution_count": 125,
     "metadata": {},
     "output_type": "execute_result"
    }
   ],
   "source": [
    "# comparing heads and info to make sure worked properly (train)\n",
    "\n",
    "train['Date'].head()"
   ]
  },
  {
   "cell_type": "code",
   "execution_count": 186,
   "metadata": {},
   "outputs": [
    {
     "data": {
      "text/plain": [
       "331300     2014-07-02\n",
       "759504     2014-07-02\n",
       "680700     2014-07-02\n",
       "113706     2014-07-02\n",
       "1008551    2014-07-02\n",
       "Name: Date, dtype: object"
      ]
     },
     "execution_count": 186,
     "metadata": {},
     "output_type": "execute_result"
    }
   ],
   "source": [
    "# comparing heads and info to make sure worked properly (train)\n",
    "\n",
    "train['Date'].tail()"
   ]
  },
  {
   "cell_type": "code",
   "execution_count": 177,
   "metadata": {},
   "outputs": [
    {
     "data": {
      "image/png": "[encoded data removed]",
      "text/plain": [
       "<matplotlib.figure.Figure at 0x11c5cd9e8>"
      ]
     },
     "metadata": {},
     "output_type": "display_data"
    }
   ],
   "source": [
    "# plotting early 60% of sales per day for selected shop\n",
    "\n",
    "x = train.loc[train['Store_ID'] == 100]\n",
    "x = x['Date']\n",
    "y = train.loc[train['Store_ID'] == 100]\n",
    "y = y['Sales']\n",
    "\n",
    "pyplot.plot(x, y, linewidth = 0.6)\n",
    "pyplot.ylabel('Sales per Day')\n",
    "pyplot.xlabel('Date')\n",
    "pyplot.xticks(np.arange(0, 600, step=1))\n",
    "pyplot.show;"
   ]
  },
  {
   "cell_type": "code",
   "execution_count": 127,
   "metadata": {},
   "outputs": [
    {
     "name": "stdout",
     "output_type": "stream",
     "text": [
      "<class 'pandas.core.frame.DataFrame'>\n",
      "Int64Index: 610325 entries, 1017208 to 1008551\n",
      "Data columns (total 46 columns):\n",
      "Store_ID                     610325 non-null int64\n",
      "Customers                    610325 non-null int64\n",
      "Sales                        610325 non-null int64\n",
      "Open                         610325 non-null int64\n",
      "H_None                       610325 non-null int64\n",
      "H_Public                     610325 non-null int64\n",
      "H_Easter                     610325 non-null int64\n",
      "H_X-Mas                      610325 non-null int64\n",
      "SchoolHoliday                610325 non-null int64\n",
      "Type_A                       610325 non-null int64\n",
      "Type_B                       610325 non-null int64\n",
      "Type_C                       610325 non-null int64\n",
      "Type_D                       610325 non-null int64\n",
      "Asort_Basic                  610325 non-null int64\n",
      "Asort_Extra                  610325 non-null int64\n",
      "Asort_Extended               610325 non-null int64\n",
      "Promo1                       610325 non-null int64\n",
      "Promo2                       610325 non-null int64\n",
      "Promo2SinceWeek              312457 non-null float64\n",
      "Promo2SinceYear              312457 non-null float64\n",
      "Promo2_Feb,May,Aug,Nov       610325 non-null int64\n",
      "Promo2_Jan,Apr,Jul,Oct       610325 non-null int64\n",
      "Promo2_Mar,Jun,Sept,Dec      610325 non-null int64\n",
      "CompetitionDistance          608684 non-null float64\n",
      "CompetitionOpenSinceMonth    416566 non-null float64\n",
      "CompetitionOpenSinceYear     416566 non-null float64\n",
      "Date                         610325 non-null object\n",
      "DayOfMonth                   610325 non-null int64\n",
      "DayOfWeek                    610325 non-null int64\n",
      "Month                        610325 non-null int64\n",
      "Year                         610325 non-null int64\n",
      "2013                         610325 non-null int64\n",
      "2014                         610325 non-null int64\n",
      "2015                         610325 non-null int64\n",
      "Jan                          610325 non-null int64\n",
      "Feb                          610325 non-null int64\n",
      "Mar                          610325 non-null int64\n",
      "Apr                          610325 non-null int64\n",
      "May                          610325 non-null int64\n",
      "Jun                          610325 non-null int64\n",
      "Jul                          610325 non-null int64\n",
      "Aug                          610325 non-null int64\n",
      "Sep                          610325 non-null int64\n",
      "Oct                          610325 non-null int64\n",
      "Nov                          610325 non-null int64\n",
      "Dec                          610325 non-null int64\n",
      "dtypes: float64(5), int64(40), object(1)\n",
      "memory usage: 218.9+ MB\n"
     ]
    }
   ],
   "source": [
    "# comparing heads and info to make sure worked properly (train)\n",
    "\n",
    "train.info()"
   ]
  },
  {
   "cell_type": "code",
   "execution_count": 128,
   "metadata": {},
   "outputs": [
    {
     "data": {
      "text/html": [
       "<div>\n",
       "<style scoped>\n",
       "    .dataframe tbody tr th:only-of-type {\n",
       "        vertical-align: middle;\n",
       "    }\n",
       "\n",
       "    .dataframe tbody tr th {\n",
       "        vertical-align: top;\n",
       "    }\n",
       "\n",
       "    .dataframe thead th {\n",
       "        text-align: right;\n",
       "    }\n",
       "</style>\n",
       "<table border=\"1\" class=\"dataframe\">\n",
       "  <thead>\n",
       "    <tr style=\"text-align: right;\">\n",
       "      <th></th>\n",
       "      <th>Store_ID</th>\n",
       "      <th>Customers</th>\n",
       "      <th>Sales</th>\n",
       "      <th>Open</th>\n",
       "      <th>H_None</th>\n",
       "      <th>H_Public</th>\n",
       "      <th>H_Easter</th>\n",
       "      <th>H_X-Mas</th>\n",
       "      <th>SchoolHoliday</th>\n",
       "      <th>Type_A</th>\n",
       "      <th>...</th>\n",
       "      <th>Mar</th>\n",
       "      <th>Apr</th>\n",
       "      <th>May</th>\n",
       "      <th>Jun</th>\n",
       "      <th>Jul</th>\n",
       "      <th>Aug</th>\n",
       "      <th>Sep</th>\n",
       "      <th>Oct</th>\n",
       "      <th>Nov</th>\n",
       "      <th>Dec</th>\n",
       "    </tr>\n",
       "  </thead>\n",
       "  <tbody>\n",
       "    <tr>\n",
       "      <th>582828</th>\n",
       "      <td>640</td>\n",
       "      <td>1017</td>\n",
       "      <td>15005</td>\n",
       "      <td>1</td>\n",
       "      <td>1</td>\n",
       "      <td>0</td>\n",
       "      <td>0</td>\n",
       "      <td>0</td>\n",
       "      <td>0</td>\n",
       "      <td>0</td>\n",
       "      <td>...</td>\n",
       "      <td>0</td>\n",
       "      <td>0</td>\n",
       "      <td>0</td>\n",
       "      <td>0</td>\n",
       "      <td>1</td>\n",
       "      <td>0</td>\n",
       "      <td>0</td>\n",
       "      <td>0</td>\n",
       "      <td>0</td>\n",
       "      <td>0</td>\n",
       "    </tr>\n",
       "    <tr>\n",
       "      <th>464026</th>\n",
       "      <td>509</td>\n",
       "      <td>537</td>\n",
       "      <td>6780</td>\n",
       "      <td>1</td>\n",
       "      <td>1</td>\n",
       "      <td>0</td>\n",
       "      <td>0</td>\n",
       "      <td>0</td>\n",
       "      <td>0</td>\n",
       "      <td>1</td>\n",
       "      <td>...</td>\n",
       "      <td>0</td>\n",
       "      <td>0</td>\n",
       "      <td>0</td>\n",
       "      <td>0</td>\n",
       "      <td>1</td>\n",
       "      <td>0</td>\n",
       "      <td>0</td>\n",
       "      <td>0</td>\n",
       "      <td>0</td>\n",
       "      <td>0</td>\n",
       "    </tr>\n",
       "    <tr>\n",
       "      <th>755736</th>\n",
       "      <td>830</td>\n",
       "      <td>629</td>\n",
       "      <td>6392</td>\n",
       "      <td>1</td>\n",
       "      <td>1</td>\n",
       "      <td>0</td>\n",
       "      <td>0</td>\n",
       "      <td>0</td>\n",
       "      <td>0</td>\n",
       "      <td>1</td>\n",
       "      <td>...</td>\n",
       "      <td>0</td>\n",
       "      <td>0</td>\n",
       "      <td>0</td>\n",
       "      <td>0</td>\n",
       "      <td>1</td>\n",
       "      <td>0</td>\n",
       "      <td>0</td>\n",
       "      <td>0</td>\n",
       "      <td>0</td>\n",
       "      <td>0</td>\n",
       "    </tr>\n",
       "    <tr>\n",
       "      <th>923337</th>\n",
       "      <td>1013</td>\n",
       "      <td>540</td>\n",
       "      <td>5369</td>\n",
       "      <td>1</td>\n",
       "      <td>1</td>\n",
       "      <td>0</td>\n",
       "      <td>0</td>\n",
       "      <td>0</td>\n",
       "      <td>0</td>\n",
       "      <td>1</td>\n",
       "      <td>...</td>\n",
       "      <td>0</td>\n",
       "      <td>0</td>\n",
       "      <td>0</td>\n",
       "      <td>0</td>\n",
       "      <td>1</td>\n",
       "      <td>0</td>\n",
       "      <td>0</td>\n",
       "      <td>0</td>\n",
       "      <td>0</td>\n",
       "      <td>0</td>\n",
       "    </tr>\n",
       "    <tr>\n",
       "      <th>516822</th>\n",
       "      <td>567</td>\n",
       "      <td>818</td>\n",
       "      <td>6743</td>\n",
       "      <td>1</td>\n",
       "      <td>1</td>\n",
       "      <td>0</td>\n",
       "      <td>0</td>\n",
       "      <td>0</td>\n",
       "      <td>0</td>\n",
       "      <td>0</td>\n",
       "      <td>...</td>\n",
       "      <td>0</td>\n",
       "      <td>0</td>\n",
       "      <td>0</td>\n",
       "      <td>0</td>\n",
       "      <td>1</td>\n",
       "      <td>0</td>\n",
       "      <td>0</td>\n",
       "      <td>0</td>\n",
       "      <td>0</td>\n",
       "      <td>0</td>\n",
       "    </tr>\n",
       "  </tbody>\n",
       "</table>\n",
       "<p>5 rows × 46 columns</p>\n",
       "</div>"
      ],
      "text/plain": [
       "        Store_ID  Customers  Sales  Open  H_None  H_Public  H_Easter  H_X-Mas  \\\n",
       "582828       640       1017  15005     1       1         0         0        0   \n",
       "464026       509        537   6780     1       1         0         0        0   \n",
       "755736       830        629   6392     1       1         0         0        0   \n",
       "923337      1013        540   5369     1       1         0         0        0   \n",
       "516822       567        818   6743     1       1         0         0        0   \n",
       "\n",
       "        SchoolHoliday  Type_A ...   Mar  Apr  May  Jun  Jul  Aug  Sep  Oct  \\\n",
       "582828              0       0 ...     0    0    0    0    1    0    0    0   \n",
       "464026              0       1 ...     0    0    0    0    1    0    0    0   \n",
       "755736              0       1 ...     0    0    0    0    1    0    0    0   \n",
       "923337              0       1 ...     0    0    0    0    1    0    0    0   \n",
       "516822              0       0 ...     0    0    0    0    1    0    0    0   \n",
       "\n",
       "        Nov  Dec  \n",
       "582828    0    0  \n",
       "464026    0    0  \n",
       "755736    0    0  \n",
       "923337    0    0  \n",
       "516822    0    0  \n",
       "\n",
       "[5 rows x 46 columns]"
      ]
     },
     "execution_count": 128,
     "metadata": {},
     "output_type": "execute_result"
    }
   ],
   "source": [
    "# comparing heads to make sure worked properly (test)\n",
    "\n",
    "test.head()"
   ]
  },
  {
   "cell_type": "code",
   "execution_count": 129,
   "metadata": {},
   "outputs": [
    {
     "data": {
      "text/plain": [
       "582828    2014-07-02\n",
       "464026    2014-07-02\n",
       "755736    2014-07-02\n",
       "923337    2014-07-02\n",
       "516822    2014-07-02\n",
       "Name: Date, dtype: object"
      ]
     },
     "execution_count": 129,
     "metadata": {},
     "output_type": "execute_result"
    }
   ],
   "source": [
    "# comparing heads and info to make sure worked properly (test)\n",
    "\n",
    "test['Date'].head()"
   ]
  },
  {
   "cell_type": "code",
   "execution_count": 185,
   "metadata": {},
   "outputs": [
    {
     "data": {
      "text/plain": [
       "927835    2015-01-30\n",
       "211572    2015-01-30\n",
       "55804     2015-01-30\n",
       "121420    2015-01-30\n",
       "123304    2015-01-30\n",
       "Name: Date, dtype: object"
      ]
     },
     "execution_count": 185,
     "metadata": {},
     "output_type": "execute_result"
    }
   ],
   "source": [
    "# comparing heads and info to make sure worked properly (test)\n",
    "\n",
    "test['Date'].tail()"
   ]
  },
  {
   "cell_type": "code",
   "execution_count": 182,
   "metadata": {},
   "outputs": [
    {
     "data": {
      "image/png": "[encoded data removed]",
      "text/plain": [
       "<matplotlib.figure.Figure at 0x1295ce278>"
      ]
     },
     "metadata": {},
     "output_type": "display_data"
    }
   ],
   "source": [
    "# plotting upper 60-80% of sales per day for selected shop\n",
    "\n",
    "x = test.loc[test['Store_ID'] == 100]\n",
    "x = x['Date']\n",
    "y = test.loc[test['Store_ID'] == 100]\n",
    "y = y['Sales']\n",
    "\n",
    "pyplot.plot(x, y, linewidth = 0.6)\n",
    "pyplot.ylabel('Sales per Day')\n",
    "pyplot.xlabel('Date')\n",
    "pyplot.show;"
   ]
  },
  {
   "cell_type": "code",
   "execution_count": 130,
   "metadata": {},
   "outputs": [
    {
     "name": "stdout",
     "output_type": "stream",
     "text": [
      "<class 'pandas.core.frame.DataFrame'>\n",
      "Int64Index: 203442 entries, 582828 to 123304\n",
      "Data columns (total 46 columns):\n",
      "Store_ID                     203442 non-null int64\n",
      "Customers                    203442 non-null int64\n",
      "Sales                        203442 non-null int64\n",
      "Open                         203442 non-null int64\n",
      "H_None                       203442 non-null int64\n",
      "H_Public                     203442 non-null int64\n",
      "H_Easter                     203442 non-null int64\n",
      "H_X-Mas                      203442 non-null int64\n",
      "SchoolHoliday                203442 non-null int64\n",
      "Type_A                       203442 non-null int64\n",
      "Type_B                       203442 non-null int64\n",
      "Type_C                       203442 non-null int64\n",
      "Type_D                       203442 non-null int64\n",
      "Asort_Basic                  203442 non-null int64\n",
      "Asort_Extra                  203442 non-null int64\n",
      "Asort_Extended               203442 non-null int64\n",
      "Promo1                       203442 non-null int64\n",
      "Promo2                       203442 non-null int64\n",
      "Promo2SinceWeek              92538 non-null float64\n",
      "Promo2SinceYear              92538 non-null float64\n",
      "Promo2_Feb,May,Aug,Nov       203442 non-null int64\n",
      "Promo2_Jan,Apr,Jul,Oct       203442 non-null int64\n",
      "Promo2_Mar,Jun,Sept,Dec      203442 non-null int64\n",
      "CompetitionDistance          202990 non-null float64\n",
      "CompetitionOpenSinceMonth    138438 non-null float64\n",
      "CompetitionOpenSinceYear     138438 non-null float64\n",
      "Date                         203442 non-null object\n",
      "DayOfMonth                   203442 non-null int64\n",
      "DayOfWeek                    203442 non-null int64\n",
      "Month                        203442 non-null int64\n",
      "Year                         203442 non-null int64\n",
      "2013                         203442 non-null int64\n",
      "2014                         203442 non-null int64\n",
      "2015                         203442 non-null int64\n",
      "Jan                          203442 non-null int64\n",
      "Feb                          203442 non-null int64\n",
      "Mar                          203442 non-null int64\n",
      "Apr                          203442 non-null int64\n",
      "May                          203442 non-null int64\n",
      "Jun                          203442 non-null int64\n",
      "Jul                          203442 non-null int64\n",
      "Aug                          203442 non-null int64\n",
      "Sep                          203442 non-null int64\n",
      "Oct                          203442 non-null int64\n",
      "Nov                          203442 non-null int64\n",
      "Dec                          203442 non-null int64\n",
      "dtypes: float64(5), int64(40), object(1)\n",
      "memory usage: 73.0+ MB\n"
     ]
    }
   ],
   "source": [
    "# comparing heads to make sure worked properly (test)\n",
    "\n",
    "test.info()"
   ]
  },
  {
   "cell_type": "code",
   "execution_count": 78,
   "metadata": {},
   "outputs": [
    {
     "data": {
      "text/html": [
       "<div>\n",
       "<style scoped>\n",
       "    .dataframe tbody tr th:only-of-type {\n",
       "        vertical-align: middle;\n",
       "    }\n",
       "\n",
       "    .dataframe tbody tr th {\n",
       "        vertical-align: top;\n",
       "    }\n",
       "\n",
       "    .dataframe thead th {\n",
       "        text-align: right;\n",
       "    }\n",
       "</style>\n",
       "<table border=\"1\" class=\"dataframe\">\n",
       "  <thead>\n",
       "    <tr style=\"text-align: right;\">\n",
       "      <th></th>\n",
       "      <th>Store_ID</th>\n",
       "      <th>Customers</th>\n",
       "      <th>Sales</th>\n",
       "      <th>Open</th>\n",
       "      <th>H_None</th>\n",
       "      <th>H_Public</th>\n",
       "      <th>H_Easter</th>\n",
       "      <th>H_X-Mas</th>\n",
       "      <th>SchoolHoliday</th>\n",
       "      <th>Type_A</th>\n",
       "      <th>...</th>\n",
       "      <th>Mar</th>\n",
       "      <th>Apr</th>\n",
       "      <th>May</th>\n",
       "      <th>Jun</th>\n",
       "      <th>Jul</th>\n",
       "      <th>Aug</th>\n",
       "      <th>Sep</th>\n",
       "      <th>Oct</th>\n",
       "      <th>Nov</th>\n",
       "      <th>Dec</th>\n",
       "    </tr>\n",
       "  </thead>\n",
       "  <tbody>\n",
       "    <tr>\n",
       "      <th>708012</th>\n",
       "      <td>778</td>\n",
       "      <td>734</td>\n",
       "      <td>5628</td>\n",
       "      <td>1</td>\n",
       "      <td>1</td>\n",
       "      <td>0</td>\n",
       "      <td>0</td>\n",
       "      <td>0</td>\n",
       "      <td>0</td>\n",
       "      <td>1</td>\n",
       "      <td>...</td>\n",
       "      <td>0</td>\n",
       "      <td>0</td>\n",
       "      <td>0</td>\n",
       "      <td>0</td>\n",
       "      <td>0</td>\n",
       "      <td>0</td>\n",
       "      <td>0</td>\n",
       "      <td>0</td>\n",
       "      <td>0</td>\n",
       "      <td>0</td>\n",
       "    </tr>\n",
       "    <tr>\n",
       "      <th>334672</th>\n",
       "      <td>368</td>\n",
       "      <td>964</td>\n",
       "      <td>16270</td>\n",
       "      <td>1</td>\n",
       "      <td>1</td>\n",
       "      <td>0</td>\n",
       "      <td>0</td>\n",
       "      <td>0</td>\n",
       "      <td>0</td>\n",
       "      <td>0</td>\n",
       "      <td>...</td>\n",
       "      <td>0</td>\n",
       "      <td>0</td>\n",
       "      <td>0</td>\n",
       "      <td>0</td>\n",
       "      <td>0</td>\n",
       "      <td>0</td>\n",
       "      <td>0</td>\n",
       "      <td>0</td>\n",
       "      <td>0</td>\n",
       "      <td>0</td>\n",
       "    </tr>\n",
       "    <tr>\n",
       "      <th>579400</th>\n",
       "      <td>636</td>\n",
       "      <td>839</td>\n",
       "      <td>7895</td>\n",
       "      <td>1</td>\n",
       "      <td>1</td>\n",
       "      <td>0</td>\n",
       "      <td>0</td>\n",
       "      <td>0</td>\n",
       "      <td>0</td>\n",
       "      <td>0</td>\n",
       "      <td>...</td>\n",
       "      <td>0</td>\n",
       "      <td>0</td>\n",
       "      <td>0</td>\n",
       "      <td>0</td>\n",
       "      <td>0</td>\n",
       "      <td>0</td>\n",
       "      <td>0</td>\n",
       "      <td>0</td>\n",
       "      <td>0</td>\n",
       "      <td>0</td>\n",
       "    </tr>\n",
       "    <tr>\n",
       "      <th>138214</th>\n",
       "      <td>153</td>\n",
       "      <td>542</td>\n",
       "      <td>6348</td>\n",
       "      <td>1</td>\n",
       "      <td>1</td>\n",
       "      <td>0</td>\n",
       "      <td>0</td>\n",
       "      <td>0</td>\n",
       "      <td>0</td>\n",
       "      <td>1</td>\n",
       "      <td>...</td>\n",
       "      <td>0</td>\n",
       "      <td>0</td>\n",
       "      <td>0</td>\n",
       "      <td>0</td>\n",
       "      <td>0</td>\n",
       "      <td>0</td>\n",
       "      <td>0</td>\n",
       "      <td>0</td>\n",
       "      <td>0</td>\n",
       "      <td>0</td>\n",
       "    </tr>\n",
       "    <tr>\n",
       "      <th>480034</th>\n",
       "      <td>527</td>\n",
       "      <td>1095</td>\n",
       "      <td>13630</td>\n",
       "      <td>1</td>\n",
       "      <td>1</td>\n",
       "      <td>0</td>\n",
       "      <td>0</td>\n",
       "      <td>0</td>\n",
       "      <td>0</td>\n",
       "      <td>0</td>\n",
       "      <td>...</td>\n",
       "      <td>0</td>\n",
       "      <td>0</td>\n",
       "      <td>0</td>\n",
       "      <td>0</td>\n",
       "      <td>0</td>\n",
       "      <td>0</td>\n",
       "      <td>0</td>\n",
       "      <td>0</td>\n",
       "      <td>0</td>\n",
       "      <td>0</td>\n",
       "    </tr>\n",
       "  </tbody>\n",
       "</table>\n",
       "<p>5 rows × 46 columns</p>\n",
       "</div>"
      ],
      "text/plain": [
       "        Store_ID  Customers  Sales  Open  H_None  H_Public  H_Easter  H_X-Mas  \\\n",
       "708012       778        734   5628     1       1         0         0        0   \n",
       "334672       368        964  16270     1       1         0         0        0   \n",
       "579400       636        839   7895     1       1         0         0        0   \n",
       "138214       153        542   6348     1       1         0         0        0   \n",
       "480034       527       1095  13630     1       1         0         0        0   \n",
       "\n",
       "        SchoolHoliday  Type_A ...   Mar  Apr  May  Jun  Jul  Aug  Sep  Oct  \\\n",
       "708012              0       1 ...     0    0    0    0    0    0    0    0   \n",
       "334672              0       0 ...     0    0    0    0    0    0    0    0   \n",
       "579400              0       0 ...     0    0    0    0    0    0    0    0   \n",
       "138214              0       1 ...     0    0    0    0    0    0    0    0   \n",
       "480034              0       0 ...     0    0    0    0    0    0    0    0   \n",
       "\n",
       "        Nov  Dec  \n",
       "708012    0    0  \n",
       "334672    0    0  \n",
       "579400    0    0  \n",
       "138214    0    0  \n",
       "480034    0    0  \n",
       "\n",
       "[5 rows x 46 columns]"
      ]
     },
     "execution_count": 78,
     "metadata": {},
     "output_type": "execute_result"
    }
   ],
   "source": [
    "# comparing heads to make sure worked properly (true)\n",
    "\n",
    "true.head()"
   ]
  },
  {
   "cell_type": "code",
   "execution_count": 79,
   "metadata": {},
   "outputs": [
    {
     "data": {
      "text/plain": [
       "708012    2015-01-30\n",
       "334672    2015-01-30\n",
       "579400    2015-01-30\n",
       "138214    2015-01-30\n",
       "480034    2015-01-30\n",
       "Name: Date, dtype: object"
      ]
     },
     "execution_count": 79,
     "metadata": {},
     "output_type": "execute_result"
    }
   ],
   "source": [
    "# comparing heads to make sure worked properly (true)\n",
    "\n",
    "true['Date'].head()"
   ]
  },
  {
   "cell_type": "code",
   "execution_count": 184,
   "metadata": {},
   "outputs": [
    {
     "data": {
      "text/plain": [
       "557530    2015-07-31\n",
       "212332    2015-07-31\n",
       "982701    2015-07-31\n",
       "769288    2015-07-31\n",
       "0         2015-07-31\n",
       "Name: Date, dtype: object"
      ]
     },
     "execution_count": 184,
     "metadata": {},
     "output_type": "execute_result"
    }
   ],
   "source": [
    "# comparing heads to make sure worked properly (true)\n",
    "\n",
    "true['Date'].tail()"
   ]
  },
  {
   "cell_type": "code",
   "execution_count": 183,
   "metadata": {},
   "outputs": [
    {
     "data": {
      "image/png": "[encoded data removed]",
      "text/plain": [
       "<matplotlib.figure.Figure at 0x10b701ba8>"
      ]
     },
     "metadata": {},
     "output_type": "display_data"
    }
   ],
   "source": [
    "# plotting upper 20% of sales per day for selected shop\n",
    "\n",
    "x = true.loc[true['Store_ID'] == 100]\n",
    "x = x['Date']\n",
    "y = true.loc[true['Store_ID'] == 100]\n",
    "y = y['Sales']\n",
    "\n",
    "pyplot.plot(x, y, linewidth = 0.6)\n",
    "pyplot.ylabel('Sales per Day')\n",
    "pyplot.xlabel('Date')\n",
    "pyplot.show;"
   ]
  },
  {
   "cell_type": "code",
   "execution_count": 80,
   "metadata": {},
   "outputs": [
    {
     "name": "stdout",
     "output_type": "stream",
     "text": [
      "<class 'pandas.core.frame.DataFrame'>\n",
      "Int64Index: 203442 entries, 708012 to 0\n",
      "Data columns (total 46 columns):\n",
      "Store_ID                     203442 non-null int64\n",
      "Customers                    203442 non-null int64\n",
      "Sales                        203442 non-null int64\n",
      "Open                         203442 non-null int64\n",
      "H_None                       203442 non-null int64\n",
      "H_Public                     203442 non-null int64\n",
      "H_Easter                     203442 non-null int64\n",
      "H_X-Mas                      203442 non-null int64\n",
      "SchoolHoliday                203442 non-null int64\n",
      "Type_A                       203442 non-null int64\n",
      "Type_B                       203442 non-null int64\n",
      "Type_C                       203442 non-null int64\n",
      "Type_D                       203442 non-null int64\n",
      "Asort_Basic                  203442 non-null int64\n",
      "Asort_Extra                  203442 non-null int64\n",
      "Asort_Extended               203442 non-null int64\n",
      "Promo1                       203442 non-null int64\n",
      "Promo2                       203442 non-null int64\n",
      "Promo2SinceWeek              104183 non-null float64\n",
      "Promo2SinceYear              104183 non-null float64\n",
      "Promo2_Feb,May,Aug,Nov       203442 non-null int64\n",
      "Promo2_Jan,Apr,Jul,Oct       203442 non-null int64\n",
      "Promo2_Mar,Jun,Sept,Dec      203442 non-null int64\n",
      "CompetitionDistance          202893 non-null float64\n",
      "CompetitionOpenSinceMonth    138857 non-null float64\n",
      "CompetitionOpenSinceYear     138857 non-null float64\n",
      "Date                         203442 non-null object\n",
      "DayOfMonth                   203442 non-null int64\n",
      "DayOfWeek                    203442 non-null int64\n",
      "Month                        203442 non-null int64\n",
      "Year                         203442 non-null int64\n",
      "2013                         203442 non-null int64\n",
      "2014                         203442 non-null int64\n",
      "2015                         203442 non-null int64\n",
      "Jan                          203442 non-null int64\n",
      "Feb                          203442 non-null int64\n",
      "Mar                          203442 non-null int64\n",
      "Apr                          203442 non-null int64\n",
      "May                          203442 non-null int64\n",
      "Jun                          203442 non-null int64\n",
      "Jul                          203442 non-null int64\n",
      "Aug                          203442 non-null int64\n",
      "Sep                          203442 non-null int64\n",
      "Oct                          203442 non-null int64\n",
      "Nov                          203442 non-null int64\n",
      "Dec                          203442 non-null int64\n",
      "dtypes: float64(5), int64(40), object(1)\n",
      "memory usage: 73.0+ MB\n"
     ]
    }
   ],
   "source": [
    "# comparing heads to make sure worked properly (true)\n",
    "\n",
    "true.info()"
   ]
  },
  {
   "cell_type": "code",
   "execution_count": null,
   "metadata": {},
   "outputs": [],
   "source": []
  }
 ],
 "metadata": {
  "kernelspec": {
   "display_name": "Python 3",
   "language": "python",
   "name": "python3"
  },
  "language_info": {
   "codemirror_mode": {
    "name": "ipython",
    "version": 3
   },
   "file_extension": ".py",
   "mimetype": "text/x-python",
   "name": "python",
   "nbconvert_exporter": "python",
   "pygments_lexer": "ipython3",
   "version": "3.6.4"
  }
 },
 "nbformat": 4,
 "nbformat_minor": 2
}
