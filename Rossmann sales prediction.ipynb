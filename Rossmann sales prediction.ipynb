{
 "cells": [
  {
   "cell_type": "markdown",
   "metadata": {},
   "source": [
    "# Capstone project: predict Rossmann's store sales\n",
    "\n",
    "## Manuel Freude, May 2018\n",
    "\n",
    "## Sales prediction code\n",
    "\n",
    "Report and library sheets will be provided separately\n",
    "\n",
    "### Exploratory data analysis"
   ]
  },
  {
   "cell_type": "code",
   "execution_count": 2,
   "metadata": {},
   "outputs": [
    {
     "name": "stdout",
     "output_type": "stream",
     "text": [
      "<class 'pandas.core.frame.DataFrame'>\n",
      "RangeIndex: 1017209 entries, 0 to 1017208\n",
      "Data columns (total 47 columns):\n",
      "Intercept                    1017209 non-null int64\n",
      "Store_ID                     1017209 non-null int64\n",
      "Customers                    1017209 non-null int64\n",
      "Sales                        1017209 non-null int64\n",
      "Open                         1017209 non-null int64\n",
      "H_None                       1017209 non-null int64\n",
      "H_Public                     1017209 non-null int64\n",
      "H_Easter                     1017209 non-null int64\n",
      "H_X-Mas                      1017209 non-null int64\n",
      "SchoolHoliday                1017209 non-null int64\n",
      "Type_A                       1017209 non-null int64\n",
      "Type_B                       1017209 non-null int64\n",
      "Type_C                       1017209 non-null int64\n",
      "Type_D                       1017209 non-null int64\n",
      "Assort_Basic                 1017209 non-null int64\n",
      "Assort_Extra                 1017209 non-null int64\n",
      "Assort_Extended              1017209 non-null int64\n",
      "Promo1                       1017209 non-null int64\n",
      "Promo2                       1017209 non-null int64\n",
      "Promo2SinceWeek              509178 non-null float64\n",
      "Promo2SinceYear              509178 non-null float64\n",
      "Promo2_Feb,May,Aug,Nov       1017209 non-null int64\n",
      "Promo2_Jan,Apr,Jul,Oct       1017209 non-null int64\n",
      "Promo2_Mar,Jun,Sept,Dec      1017209 non-null int64\n",
      "CompetitionDistance          1014567 non-null float64\n",
      "CompetitionOpenSinceMonth    693861 non-null float64\n",
      "CompetitionOpenSinceYear     693861 non-null float64\n",
      "Date                         1017209 non-null object\n",
      "DayOfMonth                   1017209 non-null int64\n",
      "DayOfWeek                    1017209 non-null int64\n",
      "Month                        1017209 non-null int64\n",
      "Year                         1017209 non-null int64\n",
      "2013                         1017209 non-null int64\n",
      "2014                         1017209 non-null int64\n",
      "2015                         1017209 non-null int64\n",
      "Jan                          1017209 non-null int64\n",
      "Feb                          1017209 non-null int64\n",
      "Mar                          1017209 non-null int64\n",
      "Apr                          1017209 non-null int64\n",
      "May                          1017209 non-null int64\n",
      "Jun                          1017209 non-null int64\n",
      "Jul                          1017209 non-null int64\n",
      "Aug                          1017209 non-null int64\n",
      "Sep                          1017209 non-null int64\n",
      "Oct                          1017209 non-null int64\n",
      "Nov                          1017209 non-null int64\n",
      "Dec                          1017209 non-null int64\n",
      "dtypes: float64(5), int64(41), object(1)\n",
      "memory usage: 364.8+ MB\n"
     ]
    }
   ],
   "source": [
    "import pandas as pd\n",
    "import numpy as np\n",
    "from matplotlib import pyplot\n",
    "import matplotlib as plt\n",
    "import seaborn as sns\n",
    "%matplotlib inline\n",
    "\n",
    "data = pd.read_csv('cleaned_dataset.csv')\n",
    "data.drop(columns=['Unnamed: 0'] , inplace=True)\n",
    "\n",
    "data.info()"
   ]
  },
  {
   "cell_type": "code",
   "execution_count": 3,
   "metadata": {},
   "outputs": [
    {
     "data": {
      "text/html": [
       "<div>\n",
       "<style scoped>\n",
       "    .dataframe tbody tr th:only-of-type {\n",
       "        vertical-align: middle;\n",
       "    }\n",
       "\n",
       "    .dataframe tbody tr th {\n",
       "        vertical-align: top;\n",
       "    }\n",
       "\n",
       "    .dataframe thead th {\n",
       "        text-align: right;\n",
       "    }\n",
       "</style>\n",
       "<table border=\"1\" class=\"dataframe\">\n",
       "  <thead>\n",
       "    <tr style=\"text-align: right;\">\n",
       "      <th></th>\n",
       "      <th>Intercept</th>\n",
       "      <th>Store_ID</th>\n",
       "      <th>Customers</th>\n",
       "      <th>Sales</th>\n",
       "      <th>Open</th>\n",
       "      <th>H_None</th>\n",
       "      <th>H_Public</th>\n",
       "      <th>H_Easter</th>\n",
       "      <th>H_X-Mas</th>\n",
       "      <th>SchoolHoliday</th>\n",
       "      <th>...</th>\n",
       "      <th>Mar</th>\n",
       "      <th>Apr</th>\n",
       "      <th>May</th>\n",
       "      <th>Jun</th>\n",
       "      <th>Jul</th>\n",
       "      <th>Aug</th>\n",
       "      <th>Sep</th>\n",
       "      <th>Oct</th>\n",
       "      <th>Nov</th>\n",
       "      <th>Dec</th>\n",
       "    </tr>\n",
       "  </thead>\n",
       "  <tbody>\n",
       "    <tr>\n",
       "      <th>0</th>\n",
       "      <td>1</td>\n",
       "      <td>1</td>\n",
       "      <td>555</td>\n",
       "      <td>5263</td>\n",
       "      <td>1</td>\n",
       "      <td>1</td>\n",
       "      <td>0</td>\n",
       "      <td>0</td>\n",
       "      <td>0</td>\n",
       "      <td>1</td>\n",
       "      <td>...</td>\n",
       "      <td>0</td>\n",
       "      <td>0</td>\n",
       "      <td>0</td>\n",
       "      <td>0</td>\n",
       "      <td>1</td>\n",
       "      <td>0</td>\n",
       "      <td>0</td>\n",
       "      <td>0</td>\n",
       "      <td>0</td>\n",
       "      <td>0</td>\n",
       "    </tr>\n",
       "    <tr>\n",
       "      <th>1</th>\n",
       "      <td>1</td>\n",
       "      <td>1</td>\n",
       "      <td>546</td>\n",
       "      <td>5020</td>\n",
       "      <td>1</td>\n",
       "      <td>1</td>\n",
       "      <td>0</td>\n",
       "      <td>0</td>\n",
       "      <td>0</td>\n",
       "      <td>1</td>\n",
       "      <td>...</td>\n",
       "      <td>0</td>\n",
       "      <td>0</td>\n",
       "      <td>0</td>\n",
       "      <td>0</td>\n",
       "      <td>1</td>\n",
       "      <td>0</td>\n",
       "      <td>0</td>\n",
       "      <td>0</td>\n",
       "      <td>0</td>\n",
       "      <td>0</td>\n",
       "    </tr>\n",
       "    <tr>\n",
       "      <th>2</th>\n",
       "      <td>1</td>\n",
       "      <td>1</td>\n",
       "      <td>523</td>\n",
       "      <td>4782</td>\n",
       "      <td>1</td>\n",
       "      <td>1</td>\n",
       "      <td>0</td>\n",
       "      <td>0</td>\n",
       "      <td>0</td>\n",
       "      <td>1</td>\n",
       "      <td>...</td>\n",
       "      <td>0</td>\n",
       "      <td>0</td>\n",
       "      <td>0</td>\n",
       "      <td>0</td>\n",
       "      <td>1</td>\n",
       "      <td>0</td>\n",
       "      <td>0</td>\n",
       "      <td>0</td>\n",
       "      <td>0</td>\n",
       "      <td>0</td>\n",
       "    </tr>\n",
       "    <tr>\n",
       "      <th>3</th>\n",
       "      <td>1</td>\n",
       "      <td>1</td>\n",
       "      <td>560</td>\n",
       "      <td>5011</td>\n",
       "      <td>1</td>\n",
       "      <td>1</td>\n",
       "      <td>0</td>\n",
       "      <td>0</td>\n",
       "      <td>0</td>\n",
       "      <td>1</td>\n",
       "      <td>...</td>\n",
       "      <td>0</td>\n",
       "      <td>0</td>\n",
       "      <td>0</td>\n",
       "      <td>0</td>\n",
       "      <td>1</td>\n",
       "      <td>0</td>\n",
       "      <td>0</td>\n",
       "      <td>0</td>\n",
       "      <td>0</td>\n",
       "      <td>0</td>\n",
       "    </tr>\n",
       "    <tr>\n",
       "      <th>4</th>\n",
       "      <td>1</td>\n",
       "      <td>1</td>\n",
       "      <td>612</td>\n",
       "      <td>6102</td>\n",
       "      <td>1</td>\n",
       "      <td>1</td>\n",
       "      <td>0</td>\n",
       "      <td>0</td>\n",
       "      <td>0</td>\n",
       "      <td>1</td>\n",
       "      <td>...</td>\n",
       "      <td>0</td>\n",
       "      <td>0</td>\n",
       "      <td>0</td>\n",
       "      <td>0</td>\n",
       "      <td>1</td>\n",
       "      <td>0</td>\n",
       "      <td>0</td>\n",
       "      <td>0</td>\n",
       "      <td>0</td>\n",
       "      <td>0</td>\n",
       "    </tr>\n",
       "  </tbody>\n",
       "</table>\n",
       "<p>5 rows × 47 columns</p>\n",
       "</div>"
      ],
      "text/plain": [
       "   Intercept  Store_ID  Customers  Sales  Open  H_None  H_Public  H_Easter  \\\n",
       "0          1         1        555   5263     1       1         0         0   \n",
       "1          1         1        546   5020     1       1         0         0   \n",
       "2          1         1        523   4782     1       1         0         0   \n",
       "3          1         1        560   5011     1       1         0         0   \n",
       "4          1         1        612   6102     1       1         0         0   \n",
       "\n",
       "   H_X-Mas  SchoolHoliday ...   Mar  Apr  May  Jun  Jul  Aug  Sep  Oct  Nov  \\\n",
       "0        0              1 ...     0    0    0    0    1    0    0    0    0   \n",
       "1        0              1 ...     0    0    0    0    1    0    0    0    0   \n",
       "2        0              1 ...     0    0    0    0    1    0    0    0    0   \n",
       "3        0              1 ...     0    0    0    0    1    0    0    0    0   \n",
       "4        0              1 ...     0    0    0    0    1    0    0    0    0   \n",
       "\n",
       "   Dec  \n",
       "0    0  \n",
       "1    0  \n",
       "2    0  \n",
       "3    0  \n",
       "4    0  \n",
       "\n",
       "[5 rows x 47 columns]"
      ]
     },
     "execution_count": 3,
     "metadata": {},
     "output_type": "execute_result"
    }
   ],
   "source": [
    "data.head()"
   ]
  },
  {
   "cell_type": "markdown",
   "metadata": {},
   "source": [
    "There are many dummy variables in the dataset, but also numerical ones. For the numerical ones, I need to check if they are rather normally distributed so that they fit the regression approach. I will do this with the following ones: \n",
    "- Customers\n",
    "- Sales\n",
    "- DayOfMonth\n",
    "- DayOfWeek\n",
    "- Month\n",
    "- Year"
   ]
  },
  {
   "cell_type": "code",
   "execution_count": 4,
   "metadata": {},
   "outputs": [
    {
     "data": {
      "image/png": "[encoded data removed]",
      "text/plain": [
       "<matplotlib.figure.Figure at 0x1a2d8f7f60>"
      ]
     },
     "metadata": {},
     "output_type": "display_data"
    }
   ],
   "source": [
    "# plotting customers\n",
    "\n",
    "pyplot.hist(data['Customers'], bins=100);"
   ]
  },
  {
   "cell_type": "code",
   "execution_count": 5,
   "metadata": {},
   "outputs": [
    {
     "data": {
      "text/plain": [
       "0      172869\n",
       "560      2414\n",
       "576      2363\n",
       "603      2337\n",
       "571      2330\n",
       "Name: Customers, dtype: int64"
      ]
     },
     "execution_count": 5,
     "metadata": {},
     "output_type": "execute_result"
    }
   ],
   "source": [
    "# checkig on the lower outlier\n",
    "\n",
    "# source: https://stackoverflow.com/questions/35364601/group-by-and-find-top-n-value-counts-pandas\n",
    "\n",
    "data['Customers'].value_counts().nlargest(5)"
   ]
  },
  {
   "cell_type": "markdown",
   "metadata": {},
   "source": [
    "This looks rather normally distributed. There are abnormalities where the customer number is zero. This might either indicated that the shop was not visited at all that day or it was a holiday etc., in that case I would expect the sales numbers to also be zero in many cases. "
   ]
  },
  {
   "cell_type": "code",
   "execution_count": 6,
   "metadata": {},
   "outputs": [
    {
     "data": {
      "image/png": "[encoded data removed]",
      "text/plain": [
       "<matplotlib.figure.Figure at 0x1a2d8cddd8>"
      ]
     },
     "metadata": {},
     "output_type": "display_data"
    }
   ],
   "source": [
    "# plotting sales\n",
    "\n",
    "pyplot.hist(data['Sales'], bins=100);"
   ]
  },
  {
   "cell_type": "code",
   "execution_count": 7,
   "metadata": {},
   "outputs": [
    {
     "data": {
      "text/plain": [
       "0       172871\n",
       "5674       215\n",
       "5558       197\n",
       "5483       196\n",
       "6049       195\n",
       "Name: Sales, dtype: int64"
      ]
     },
     "execution_count": 7,
     "metadata": {},
     "output_type": "execute_result"
    }
   ],
   "source": [
    "# checkig on the lower outlier\n",
    "\n",
    "data['Sales'].value_counts().nlargest(5)"
   ]
  },
  {
   "cell_type": "markdown",
   "metadata": {},
   "source": [
    "Similar to customers, the data looks rather normally distributed except for the zero. The number of zeros is very high and almost the same as for the customers number. It might make sense to later on take a subset of the data to exclude the zeros and check how the regressions perform. The holidays will loose their relevancy in that case."
   ]
  },
  {
   "cell_type": "code",
   "execution_count": 8,
   "metadata": {},
   "outputs": [
    {
     "data": {
      "image/png": "[encoded data removed]",
      "text/plain": [
       "<matplotlib.figure.Figure at 0x1a1fe6b780>"
      ]
     },
     "metadata": {},
     "output_type": "display_data"
    }
   ],
   "source": [
    "# plotting day of month\n",
    "\n",
    "pyplot.hist(data['DayOfMonth'], bins=31);"
   ]
  },
  {
   "cell_type": "markdown",
   "metadata": {},
   "source": [
    "Days of month look well-distributed. I was testing if there are any ones really low, but that's not the case. After 28, they decrease due to February usually not having more than 28 days and many months not having 31 days."
   ]
  },
  {
   "cell_type": "code",
   "execution_count": 9,
   "metadata": {},
   "outputs": [
    {
     "data": {
      "image/png": "[encoded data removed]",
      "text/plain": [
       "<matplotlib.figure.Figure at 0x1a2778fa90>"
      ]
     },
     "metadata": {},
     "output_type": "display_data"
    }
   ],
   "source": [
    "# plotting day of week\n",
    "\n",
    "pyplot.hist(data['DayOfWeek'], bins=7);"
   ]
  },
  {
   "cell_type": "code",
   "execution_count": 10,
   "metadata": {},
   "outputs": [
    {
     "data": {
      "text/plain": [
       "5    145845\n",
       "4    145845\n",
       "3    145665\n",
       "2    145664\n",
       "7    144730\n",
       "6    144730\n",
       "1    144730\n",
       "Name: DayOfWeek, dtype: int64"
      ]
     },
     "execution_count": 10,
     "metadata": {},
     "output_type": "execute_result"
    }
   ],
   "source": [
    "# checking some numbers\n",
    "\n",
    "data['DayOfWeek'].value_counts()"
   ]
  },
  {
   "cell_type": "markdown",
   "metadata": {},
   "source": [
    "Sundays are also included, might be days with low sales because shops would be closed most of the time."
   ]
  },
  {
   "cell_type": "code",
   "execution_count": 11,
   "metadata": {},
   "outputs": [
    {
     "data": {
      "image/png": "[encoded data removed]",
      "text/plain": [
       "<matplotlib.figure.Figure at 0x111bf9908>"
      ]
     },
     "metadata": {},
     "output_type": "display_data"
    }
   ],
   "source": [
    "# plotting month\n",
    "\n",
    "pyplot.hist(data['Month'], bins=12);"
   ]
  },
  {
   "cell_type": "code",
   "execution_count": 12,
   "metadata": {},
   "outputs": [
    {
     "data": {
      "text/plain": [
       "5     103695\n",
       "3     103695\n",
       "1     103694\n",
       "6     100350\n",
       "4     100350\n",
       "7      98115\n",
       "2      93660\n",
       "12     63550\n",
       "10     63550\n",
       "8      63550\n",
       "11     61500\n",
       "9      61500\n",
       "Name: Month, dtype: int64"
      ]
     },
     "execution_count": 12,
     "metadata": {},
     "output_type": "execute_result"
    }
   ],
   "source": [
    "# checking some numbers\n",
    "\n",
    "data['Month'].value_counts()"
   ]
  },
  {
   "cell_type": "markdown",
   "metadata": {},
   "source": [
    "All months are included. The second half of the year a little less, due to the structure of the provided data, which is not covering full years 2013 through 2015."
   ]
  },
  {
   "cell_type": "code",
   "execution_count": 13,
   "metadata": {},
   "outputs": [
    {
     "data": {
      "image/png": "[encoded data removed]",
      "text/plain": [
       "<matplotlib.figure.Figure at 0x111c702e8>"
      ]
     },
     "metadata": {},
     "output_type": "display_data"
    }
   ],
   "source": [
    "# plotting year\n",
    "\n",
    "pyplot.hist(data['Year'], bins=3)\n",
    "pyplot.xticks(rotation=45);"
   ]
  },
  {
   "cell_type": "code",
   "execution_count": 14,
   "metadata": {},
   "outputs": [
    {
     "data": {
      "text/plain": [
       "2013    406974\n",
       "2014    373855\n",
       "2015    236380\n",
       "Name: Year, dtype: int64"
      ]
     },
     "execution_count": 14,
     "metadata": {},
     "output_type": "execute_result"
    }
   ],
   "source": [
    "# checking some numbers\n",
    "\n",
    "data['Year'].value_counts()"
   ]
  },
  {
   "cell_type": "markdown",
   "metadata": {},
   "source": [
    "Here we can see that we have less data for 2015, as guessed above. So overall, the data looks good for analysis. Next step is to split the dataset into train, test and true set. "
   ]
  },
  {
   "cell_type": "markdown",
   "metadata": {},
   "source": [
    "#### Multiple instance time series split"
   ]
  },
  {
   "cell_type": "code",
   "execution_count": 15,
   "metadata": {},
   "outputs": [
    {
     "data": {
      "text/html": [
       "<div>\n",
       "<style scoped>\n",
       "    .dataframe tbody tr th:only-of-type {\n",
       "        vertical-align: middle;\n",
       "    }\n",
       "\n",
       "    .dataframe tbody tr th {\n",
       "        vertical-align: top;\n",
       "    }\n",
       "\n",
       "    .dataframe thead th {\n",
       "        text-align: right;\n",
       "    }\n",
       "</style>\n",
       "<table border=\"1\" class=\"dataframe\">\n",
       "  <thead>\n",
       "    <tr style=\"text-align: right;\">\n",
       "      <th></th>\n",
       "      <th>Intercept</th>\n",
       "      <th>Store_ID</th>\n",
       "      <th>Customers</th>\n",
       "      <th>Sales</th>\n",
       "      <th>Open</th>\n",
       "      <th>H_None</th>\n",
       "      <th>H_Public</th>\n",
       "      <th>H_Easter</th>\n",
       "      <th>H_X-Mas</th>\n",
       "      <th>SchoolHoliday</th>\n",
       "      <th>...</th>\n",
       "      <th>Mar</th>\n",
       "      <th>Apr</th>\n",
       "      <th>May</th>\n",
       "      <th>Jun</th>\n",
       "      <th>Jul</th>\n",
       "      <th>Aug</th>\n",
       "      <th>Sep</th>\n",
       "      <th>Oct</th>\n",
       "      <th>Nov</th>\n",
       "      <th>Dec</th>\n",
       "    </tr>\n",
       "  </thead>\n",
       "  <tbody>\n",
       "    <tr>\n",
       "      <th>1017208</th>\n",
       "      <td>1</td>\n",
       "      <td>1115</td>\n",
       "      <td>0</td>\n",
       "      <td>0</td>\n",
       "      <td>0</td>\n",
       "      <td>0</td>\n",
       "      <td>1</td>\n",
       "      <td>0</td>\n",
       "      <td>0</td>\n",
       "      <td>1</td>\n",
       "      <td>...</td>\n",
       "      <td>0</td>\n",
       "      <td>0</td>\n",
       "      <td>0</td>\n",
       "      <td>0</td>\n",
       "      <td>0</td>\n",
       "      <td>0</td>\n",
       "      <td>0</td>\n",
       "      <td>0</td>\n",
       "      <td>0</td>\n",
       "      <td>0</td>\n",
       "    </tr>\n",
       "    <tr>\n",
       "      <th>679363</th>\n",
       "      <td>1</td>\n",
       "      <td>746</td>\n",
       "      <td>0</td>\n",
       "      <td>0</td>\n",
       "      <td>0</td>\n",
       "      <td>0</td>\n",
       "      <td>1</td>\n",
       "      <td>0</td>\n",
       "      <td>0</td>\n",
       "      <td>1</td>\n",
       "      <td>...</td>\n",
       "      <td>0</td>\n",
       "      <td>0</td>\n",
       "      <td>0</td>\n",
       "      <td>0</td>\n",
       "      <td>0</td>\n",
       "      <td>0</td>\n",
       "      <td>0</td>\n",
       "      <td>0</td>\n",
       "      <td>0</td>\n",
       "      <td>0</td>\n",
       "    </tr>\n",
       "    <tr>\n",
       "      <th>155193</th>\n",
       "      <td>1</td>\n",
       "      <td>171</td>\n",
       "      <td>0</td>\n",
       "      <td>0</td>\n",
       "      <td>0</td>\n",
       "      <td>0</td>\n",
       "      <td>1</td>\n",
       "      <td>0</td>\n",
       "      <td>0</td>\n",
       "      <td>1</td>\n",
       "      <td>...</td>\n",
       "      <td>0</td>\n",
       "      <td>0</td>\n",
       "      <td>0</td>\n",
       "      <td>0</td>\n",
       "      <td>0</td>\n",
       "      <td>0</td>\n",
       "      <td>0</td>\n",
       "      <td>0</td>\n",
       "      <td>0</td>\n",
       "      <td>0</td>\n",
       "    </tr>\n",
       "    <tr>\n",
       "      <th>632403</th>\n",
       "      <td>1</td>\n",
       "      <td>694</td>\n",
       "      <td>0</td>\n",
       "      <td>0</td>\n",
       "      <td>0</td>\n",
       "      <td>0</td>\n",
       "      <td>1</td>\n",
       "      <td>0</td>\n",
       "      <td>0</td>\n",
       "      <td>1</td>\n",
       "      <td>...</td>\n",
       "      <td>0</td>\n",
       "      <td>0</td>\n",
       "      <td>0</td>\n",
       "      <td>0</td>\n",
       "      <td>0</td>\n",
       "      <td>0</td>\n",
       "      <td>0</td>\n",
       "      <td>0</td>\n",
       "      <td>0</td>\n",
       "      <td>0</td>\n",
       "    </tr>\n",
       "    <tr>\n",
       "      <th>361623</th>\n",
       "      <td>1</td>\n",
       "      <td>396</td>\n",
       "      <td>0</td>\n",
       "      <td>0</td>\n",
       "      <td>0</td>\n",
       "      <td>0</td>\n",
       "      <td>1</td>\n",
       "      <td>0</td>\n",
       "      <td>0</td>\n",
       "      <td>1</td>\n",
       "      <td>...</td>\n",
       "      <td>0</td>\n",
       "      <td>0</td>\n",
       "      <td>0</td>\n",
       "      <td>0</td>\n",
       "      <td>0</td>\n",
       "      <td>0</td>\n",
       "      <td>0</td>\n",
       "      <td>0</td>\n",
       "      <td>0</td>\n",
       "      <td>0</td>\n",
       "    </tr>\n",
       "  </tbody>\n",
       "</table>\n",
       "<p>5 rows × 47 columns</p>\n",
       "</div>"
      ],
      "text/plain": [
       "         Intercept  Store_ID  Customers  Sales  Open  H_None  H_Public  \\\n",
       "1017208          1      1115          0      0     0       0         1   \n",
       "679363           1       746          0      0     0       0         1   \n",
       "155193           1       171          0      0     0       0         1   \n",
       "632403           1       694          0      0     0       0         1   \n",
       "361623           1       396          0      0     0       0         1   \n",
       "\n",
       "         H_Easter  H_X-Mas  SchoolHoliday ...   Mar  Apr  May  Jun  Jul  Aug  \\\n",
       "1017208         0        0              1 ...     0    0    0    0    0    0   \n",
       "679363          0        0              1 ...     0    0    0    0    0    0   \n",
       "155193          0        0              1 ...     0    0    0    0    0    0   \n",
       "632403          0        0              1 ...     0    0    0    0    0    0   \n",
       "361623          0        0              1 ...     0    0    0    0    0    0   \n",
       "\n",
       "         Sep  Oct  Nov  Dec  \n",
       "1017208    0    0    0    0  \n",
       "679363     0    0    0    0  \n",
       "155193     0    0    0    0  \n",
       "632403     0    0    0    0  \n",
       "361623     0    0    0    0  \n",
       "\n",
       "[5 rows x 47 columns]"
      ]
     },
     "execution_count": 15,
     "metadata": {},
     "output_type": "execute_result"
    }
   ],
   "source": [
    "# making sure we sort the dataset by date to set ground for time series split\n",
    "\n",
    "data.sort_values('Date', inplace=True);\n",
    "\n",
    "data.head()"
   ]
  },
  {
   "cell_type": "code",
   "execution_count": 16,
   "metadata": {},
   "outputs": [
    {
     "data": {
      "text/plain": [
       "1017208    2013-01-01\n",
       "679363     2013-01-01\n",
       "155193     2013-01-01\n",
       "632403     2013-01-01\n",
       "361623     2013-01-01\n",
       "177271     2013-01-01\n",
       "246633     2013-01-01\n",
       "29407      2013-01-01\n",
       "401231     2013-01-01\n",
       "994762     2013-01-01\n",
       "Name: Date, dtype: object"
      ]
     },
     "execution_count": 16,
     "metadata": {},
     "output_type": "execute_result"
    }
   ],
   "source": [
    "data['Date'].head(10)"
   ]
  },
  {
   "cell_type": "code",
   "execution_count": 17,
   "metadata": {},
   "outputs": [
    {
     "data": {
      "text/plain": [
       "812458    2015-07-31\n",
       "559230    2015-07-31\n",
       "886552    2015-07-31\n",
       "94082     2015-07-31\n",
       "558288    2015-07-31\n",
       "557530    2015-07-31\n",
       "212332    2015-07-31\n",
       "982701    2015-07-31\n",
       "769288    2015-07-31\n",
       "0         2015-07-31\n",
       "Name: Date, dtype: object"
      ]
     },
     "execution_count": 17,
     "metadata": {},
     "output_type": "execute_result"
    }
   ],
   "source": [
    "data['Date'].tail(10)"
   ]
  },
  {
   "cell_type": "code",
   "execution_count": 18,
   "metadata": {},
   "outputs": [
    {
     "name": "stdout",
     "output_type": "stream",
     "text": [
      "Observations: 1017209\n",
      "Training Observations: 610325\n",
      "Testing Observations: 203442\n",
      "\"True\" Observations: 203442\n"
     ]
    }
   ],
   "source": [
    "# source: https://machinelearningmastery.com/backtest-machine-learning-models-time-series-forecasting/\n",
    "\n",
    "train_size = int(len(data['Date']) * 0.60)\n",
    "test_size = int(len(data['Date']) * 0.80)\n",
    "train, test, true = data[0:train_size], data[train_size:test_size], data[test_size:len(data['Date'])]\n",
    "print('Observations: %d' % (len(data)))\n",
    "print('Training Observations: %d' % (len(train)))\n",
    "print('Testing Observations: %d' % (len(test)))\n",
    "print('\"True\" Observations: %d' % (len(true)))"
   ]
  },
  {
   "cell_type": "code",
   "execution_count": 19,
   "metadata": {},
   "outputs": [
    {
     "data": {
      "text/html": [
       "<div>\n",
       "<style scoped>\n",
       "    .dataframe tbody tr th:only-of-type {\n",
       "        vertical-align: middle;\n",
       "    }\n",
       "\n",
       "    .dataframe tbody tr th {\n",
       "        vertical-align: top;\n",
       "    }\n",
       "\n",
       "    .dataframe thead th {\n",
       "        text-align: right;\n",
       "    }\n",
       "</style>\n",
       "<table border=\"1\" class=\"dataframe\">\n",
       "  <thead>\n",
       "    <tr style=\"text-align: right;\">\n",
       "      <th></th>\n",
       "      <th>Intercept</th>\n",
       "      <th>Store_ID</th>\n",
       "      <th>Customers</th>\n",
       "      <th>Sales</th>\n",
       "      <th>Open</th>\n",
       "      <th>H_None</th>\n",
       "      <th>H_Public</th>\n",
       "      <th>H_Easter</th>\n",
       "      <th>H_X-Mas</th>\n",
       "      <th>SchoolHoliday</th>\n",
       "      <th>...</th>\n",
       "      <th>Mar</th>\n",
       "      <th>Apr</th>\n",
       "      <th>May</th>\n",
       "      <th>Jun</th>\n",
       "      <th>Jul</th>\n",
       "      <th>Aug</th>\n",
       "      <th>Sep</th>\n",
       "      <th>Oct</th>\n",
       "      <th>Nov</th>\n",
       "      <th>Dec</th>\n",
       "    </tr>\n",
       "  </thead>\n",
       "  <tbody>\n",
       "    <tr>\n",
       "      <th>1017208</th>\n",
       "      <td>1</td>\n",
       "      <td>1115</td>\n",
       "      <td>0</td>\n",
       "      <td>0</td>\n",
       "      <td>0</td>\n",
       "      <td>0</td>\n",
       "      <td>1</td>\n",
       "      <td>0</td>\n",
       "      <td>0</td>\n",
       "      <td>1</td>\n",
       "      <td>...</td>\n",
       "      <td>0</td>\n",
       "      <td>0</td>\n",
       "      <td>0</td>\n",
       "      <td>0</td>\n",
       "      <td>0</td>\n",
       "      <td>0</td>\n",
       "      <td>0</td>\n",
       "      <td>0</td>\n",
       "      <td>0</td>\n",
       "      <td>0</td>\n",
       "    </tr>\n",
       "    <tr>\n",
       "      <th>679363</th>\n",
       "      <td>1</td>\n",
       "      <td>746</td>\n",
       "      <td>0</td>\n",
       "      <td>0</td>\n",
       "      <td>0</td>\n",
       "      <td>0</td>\n",
       "      <td>1</td>\n",
       "      <td>0</td>\n",
       "      <td>0</td>\n",
       "      <td>1</td>\n",
       "      <td>...</td>\n",
       "      <td>0</td>\n",
       "      <td>0</td>\n",
       "      <td>0</td>\n",
       "      <td>0</td>\n",
       "      <td>0</td>\n",
       "      <td>0</td>\n",
       "      <td>0</td>\n",
       "      <td>0</td>\n",
       "      <td>0</td>\n",
       "      <td>0</td>\n",
       "    </tr>\n",
       "    <tr>\n",
       "      <th>155193</th>\n",
       "      <td>1</td>\n",
       "      <td>171</td>\n",
       "      <td>0</td>\n",
       "      <td>0</td>\n",
       "      <td>0</td>\n",
       "      <td>0</td>\n",
       "      <td>1</td>\n",
       "      <td>0</td>\n",
       "      <td>0</td>\n",
       "      <td>1</td>\n",
       "      <td>...</td>\n",
       "      <td>0</td>\n",
       "      <td>0</td>\n",
       "      <td>0</td>\n",
       "      <td>0</td>\n",
       "      <td>0</td>\n",
       "      <td>0</td>\n",
       "      <td>0</td>\n",
       "      <td>0</td>\n",
       "      <td>0</td>\n",
       "      <td>0</td>\n",
       "    </tr>\n",
       "    <tr>\n",
       "      <th>632403</th>\n",
       "      <td>1</td>\n",
       "      <td>694</td>\n",
       "      <td>0</td>\n",
       "      <td>0</td>\n",
       "      <td>0</td>\n",
       "      <td>0</td>\n",
       "      <td>1</td>\n",
       "      <td>0</td>\n",
       "      <td>0</td>\n",
       "      <td>1</td>\n",
       "      <td>...</td>\n",
       "      <td>0</td>\n",
       "      <td>0</td>\n",
       "      <td>0</td>\n",
       "      <td>0</td>\n",
       "      <td>0</td>\n",
       "      <td>0</td>\n",
       "      <td>0</td>\n",
       "      <td>0</td>\n",
       "      <td>0</td>\n",
       "      <td>0</td>\n",
       "    </tr>\n",
       "    <tr>\n",
       "      <th>361623</th>\n",
       "      <td>1</td>\n",
       "      <td>396</td>\n",
       "      <td>0</td>\n",
       "      <td>0</td>\n",
       "      <td>0</td>\n",
       "      <td>0</td>\n",
       "      <td>1</td>\n",
       "      <td>0</td>\n",
       "      <td>0</td>\n",
       "      <td>1</td>\n",
       "      <td>...</td>\n",
       "      <td>0</td>\n",
       "      <td>0</td>\n",
       "      <td>0</td>\n",
       "      <td>0</td>\n",
       "      <td>0</td>\n",
       "      <td>0</td>\n",
       "      <td>0</td>\n",
       "      <td>0</td>\n",
       "      <td>0</td>\n",
       "      <td>0</td>\n",
       "    </tr>\n",
       "  </tbody>\n",
       "</table>\n",
       "<p>5 rows × 47 columns</p>\n",
       "</div>"
      ],
      "text/plain": [
       "         Intercept  Store_ID  Customers  Sales  Open  H_None  H_Public  \\\n",
       "1017208          1      1115          0      0     0       0         1   \n",
       "679363           1       746          0      0     0       0         1   \n",
       "155193           1       171          0      0     0       0         1   \n",
       "632403           1       694          0      0     0       0         1   \n",
       "361623           1       396          0      0     0       0         1   \n",
       "\n",
       "         H_Easter  H_X-Mas  SchoolHoliday ...   Mar  Apr  May  Jun  Jul  Aug  \\\n",
       "1017208         0        0              1 ...     0    0    0    0    0    0   \n",
       "679363          0        0              1 ...     0    0    0    0    0    0   \n",
       "155193          0        0              1 ...     0    0    0    0    0    0   \n",
       "632403          0        0              1 ...     0    0    0    0    0    0   \n",
       "361623          0        0              1 ...     0    0    0    0    0    0   \n",
       "\n",
       "         Sep  Oct  Nov  Dec  \n",
       "1017208    0    0    0    0  \n",
       "679363     0    0    0    0  \n",
       "155193     0    0    0    0  \n",
       "632403     0    0    0    0  \n",
       "361623     0    0    0    0  \n",
       "\n",
       "[5 rows x 47 columns]"
      ]
     },
     "execution_count": 19,
     "metadata": {},
     "output_type": "execute_result"
    }
   ],
   "source": [
    "# comparing heads and info to make sure worked properly (train)\n",
    "\n",
    "train.head()"
   ]
  },
  {
   "cell_type": "code",
   "execution_count": 20,
   "metadata": {},
   "outputs": [
    {
     "data": {
      "text/plain": [
       "1017208    2013-01-01\n",
       "679363     2013-01-01\n",
       "155193     2013-01-01\n",
       "632403     2013-01-01\n",
       "361623     2013-01-01\n",
       "Name: Date, dtype: object"
      ]
     },
     "execution_count": 20,
     "metadata": {},
     "output_type": "execute_result"
    }
   ],
   "source": [
    "# comparing heads and info to make sure worked properly (train)\n",
    "\n",
    "train['Date'].head()"
   ]
  },
  {
   "cell_type": "code",
   "execution_count": 21,
   "metadata": {},
   "outputs": [
    {
     "data": {
      "text/plain": [
       "331300     2014-07-02\n",
       "759504     2014-07-02\n",
       "680700     2014-07-02\n",
       "113706     2014-07-02\n",
       "1008551    2014-07-02\n",
       "Name: Date, dtype: object"
      ]
     },
     "execution_count": 21,
     "metadata": {},
     "output_type": "execute_result"
    }
   ],
   "source": [
    "# comparing heads and info to make sure worked properly (train)\n",
    "\n",
    "train['Date'].tail()"
   ]
  },
  {
   "cell_type": "code",
   "execution_count": 22,
   "metadata": {},
   "outputs": [
    {
     "data": {
      "image/png": "[encoded data removed]",
      "text/plain": [
       "<matplotlib.figure.Figure at 0x111cd4400>"
      ]
     },
     "metadata": {},
     "output_type": "display_data"
    }
   ],
   "source": [
    "# plotting early 60% of sales per day for selected shop\n",
    "\n",
    "x = train.loc[train['Store_ID'] == 100]\n",
    "x = x['Date']\n",
    "y = train.loc[train['Store_ID'] == 100]\n",
    "y = y['Sales']\n",
    "\n",
    "pyplot.plot(x, y, linewidth = 0.6)\n",
    "pyplot.ylabel('Sales per Day')\n",
    "pyplot.xlabel('Date')\n",
    "pyplot.show;"
   ]
  },
  {
   "cell_type": "code",
   "execution_count": 23,
   "metadata": {},
   "outputs": [
    {
     "data": {
      "text/html": [
       "<div>\n",
       "<style scoped>\n",
       "    .dataframe tbody tr th:only-of-type {\n",
       "        vertical-align: middle;\n",
       "    }\n",
       "\n",
       "    .dataframe tbody tr th {\n",
       "        vertical-align: top;\n",
       "    }\n",
       "\n",
       "    .dataframe thead th {\n",
       "        text-align: right;\n",
       "    }\n",
       "</style>\n",
       "<table border=\"1\" class=\"dataframe\">\n",
       "  <thead>\n",
       "    <tr style=\"text-align: right;\">\n",
       "      <th></th>\n",
       "      <th>Intercept</th>\n",
       "      <th>Store_ID</th>\n",
       "      <th>Customers</th>\n",
       "      <th>Sales</th>\n",
       "      <th>Open</th>\n",
       "      <th>H_None</th>\n",
       "      <th>H_Public</th>\n",
       "      <th>H_Easter</th>\n",
       "      <th>H_X-Mas</th>\n",
       "      <th>SchoolHoliday</th>\n",
       "      <th>...</th>\n",
       "      <th>Mar</th>\n",
       "      <th>Apr</th>\n",
       "      <th>May</th>\n",
       "      <th>Jun</th>\n",
       "      <th>Jul</th>\n",
       "      <th>Aug</th>\n",
       "      <th>Sep</th>\n",
       "      <th>Oct</th>\n",
       "      <th>Nov</th>\n",
       "      <th>Dec</th>\n",
       "    </tr>\n",
       "  </thead>\n",
       "  <tbody>\n",
       "    <tr>\n",
       "      <th>582828</th>\n",
       "      <td>1</td>\n",
       "      <td>640</td>\n",
       "      <td>1017</td>\n",
       "      <td>15005</td>\n",
       "      <td>1</td>\n",
       "      <td>1</td>\n",
       "      <td>0</td>\n",
       "      <td>0</td>\n",
       "      <td>0</td>\n",
       "      <td>0</td>\n",
       "      <td>...</td>\n",
       "      <td>0</td>\n",
       "      <td>0</td>\n",
       "      <td>0</td>\n",
       "      <td>0</td>\n",
       "      <td>1</td>\n",
       "      <td>0</td>\n",
       "      <td>0</td>\n",
       "      <td>0</td>\n",
       "      <td>0</td>\n",
       "      <td>0</td>\n",
       "    </tr>\n",
       "    <tr>\n",
       "      <th>464026</th>\n",
       "      <td>1</td>\n",
       "      <td>509</td>\n",
       "      <td>537</td>\n",
       "      <td>6780</td>\n",
       "      <td>1</td>\n",
       "      <td>1</td>\n",
       "      <td>0</td>\n",
       "      <td>0</td>\n",
       "      <td>0</td>\n",
       "      <td>0</td>\n",
       "      <td>...</td>\n",
       "      <td>0</td>\n",
       "      <td>0</td>\n",
       "      <td>0</td>\n",
       "      <td>0</td>\n",
       "      <td>1</td>\n",
       "      <td>0</td>\n",
       "      <td>0</td>\n",
       "      <td>0</td>\n",
       "      <td>0</td>\n",
       "      <td>0</td>\n",
       "    </tr>\n",
       "    <tr>\n",
       "      <th>755736</th>\n",
       "      <td>1</td>\n",
       "      <td>830</td>\n",
       "      <td>629</td>\n",
       "      <td>6392</td>\n",
       "      <td>1</td>\n",
       "      <td>1</td>\n",
       "      <td>0</td>\n",
       "      <td>0</td>\n",
       "      <td>0</td>\n",
       "      <td>0</td>\n",
       "      <td>...</td>\n",
       "      <td>0</td>\n",
       "      <td>0</td>\n",
       "      <td>0</td>\n",
       "      <td>0</td>\n",
       "      <td>1</td>\n",
       "      <td>0</td>\n",
       "      <td>0</td>\n",
       "      <td>0</td>\n",
       "      <td>0</td>\n",
       "      <td>0</td>\n",
       "    </tr>\n",
       "    <tr>\n",
       "      <th>923337</th>\n",
       "      <td>1</td>\n",
       "      <td>1013</td>\n",
       "      <td>540</td>\n",
       "      <td>5369</td>\n",
       "      <td>1</td>\n",
       "      <td>1</td>\n",
       "      <td>0</td>\n",
       "      <td>0</td>\n",
       "      <td>0</td>\n",
       "      <td>0</td>\n",
       "      <td>...</td>\n",
       "      <td>0</td>\n",
       "      <td>0</td>\n",
       "      <td>0</td>\n",
       "      <td>0</td>\n",
       "      <td>1</td>\n",
       "      <td>0</td>\n",
       "      <td>0</td>\n",
       "      <td>0</td>\n",
       "      <td>0</td>\n",
       "      <td>0</td>\n",
       "    </tr>\n",
       "    <tr>\n",
       "      <th>516822</th>\n",
       "      <td>1</td>\n",
       "      <td>567</td>\n",
       "      <td>818</td>\n",
       "      <td>6743</td>\n",
       "      <td>1</td>\n",
       "      <td>1</td>\n",
       "      <td>0</td>\n",
       "      <td>0</td>\n",
       "      <td>0</td>\n",
       "      <td>0</td>\n",
       "      <td>...</td>\n",
       "      <td>0</td>\n",
       "      <td>0</td>\n",
       "      <td>0</td>\n",
       "      <td>0</td>\n",
       "      <td>1</td>\n",
       "      <td>0</td>\n",
       "      <td>0</td>\n",
       "      <td>0</td>\n",
       "      <td>0</td>\n",
       "      <td>0</td>\n",
       "    </tr>\n",
       "  </tbody>\n",
       "</table>\n",
       "<p>5 rows × 47 columns</p>\n",
       "</div>"
      ],
      "text/plain": [
       "        Intercept  Store_ID  Customers  Sales  Open  H_None  H_Public  \\\n",
       "582828          1       640       1017  15005     1       1         0   \n",
       "464026          1       509        537   6780     1       1         0   \n",
       "755736          1       830        629   6392     1       1         0   \n",
       "923337          1      1013        540   5369     1       1         0   \n",
       "516822          1       567        818   6743     1       1         0   \n",
       "\n",
       "        H_Easter  H_X-Mas  SchoolHoliday ...   Mar  Apr  May  Jun  Jul  Aug  \\\n",
       "582828         0        0              0 ...     0    0    0    0    1    0   \n",
       "464026         0        0              0 ...     0    0    0    0    1    0   \n",
       "755736         0        0              0 ...     0    0    0    0    1    0   \n",
       "923337         0        0              0 ...     0    0    0    0    1    0   \n",
       "516822         0        0              0 ...     0    0    0    0    1    0   \n",
       "\n",
       "        Sep  Oct  Nov  Dec  \n",
       "582828    0    0    0    0  \n",
       "464026    0    0    0    0  \n",
       "755736    0    0    0    0  \n",
       "923337    0    0    0    0  \n",
       "516822    0    0    0    0  \n",
       "\n",
       "[5 rows x 47 columns]"
      ]
     },
     "execution_count": 23,
     "metadata": {},
     "output_type": "execute_result"
    }
   ],
   "source": [
    "# comparing heads to make sure worked properly (test)\n",
    "\n",
    "test.head()"
   ]
  },
  {
   "cell_type": "code",
   "execution_count": 24,
   "metadata": {},
   "outputs": [
    {
     "data": {
      "text/plain": [
       "582828    2014-07-02\n",
       "464026    2014-07-02\n",
       "755736    2014-07-02\n",
       "923337    2014-07-02\n",
       "516822    2014-07-02\n",
       "Name: Date, dtype: object"
      ]
     },
     "execution_count": 24,
     "metadata": {},
     "output_type": "execute_result"
    }
   ],
   "source": [
    "# comparing heads and info to make sure worked properly (test)\n",
    "\n",
    "test['Date'].head()"
   ]
  },
  {
   "cell_type": "code",
   "execution_count": 25,
   "metadata": {},
   "outputs": [
    {
     "data": {
      "text/plain": [
       "927835    2015-01-30\n",
       "211572    2015-01-30\n",
       "55804     2015-01-30\n",
       "121420    2015-01-30\n",
       "123304    2015-01-30\n",
       "Name: Date, dtype: object"
      ]
     },
     "execution_count": 25,
     "metadata": {},
     "output_type": "execute_result"
    }
   ],
   "source": [
    "# comparing heads and info to make sure worked properly (test)\n",
    "\n",
    "test['Date'].tail()"
   ]
  },
  {
   "cell_type": "code",
   "execution_count": 26,
   "metadata": {},
   "outputs": [
    {
     "data": {
      "image/png": "[encoded data removed]",
      "text/plain": [
       "<matplotlib.figure.Figure at 0x111ca4128>"
      ]
     },
     "metadata": {},
     "output_type": "display_data"
    }
   ],
   "source": [
    "# plotting upper 60-80% of sales per day for selected shop\n",
    "\n",
    "x = test.loc[test['Store_ID'] == 100]\n",
    "x = x['Date']\n",
    "y = test.loc[test['Store_ID'] == 100]\n",
    "y = y['Sales']\n",
    "\n",
    "pyplot.plot(x, y, linewidth = 0.6)\n",
    "pyplot.ylabel('Sales per Day')\n",
    "pyplot.xlabel('Date')\n",
    "pyplot.show;"
   ]
  },
  {
   "cell_type": "code",
   "execution_count": 27,
   "metadata": {},
   "outputs": [
    {
     "data": {
      "text/html": [
       "<div>\n",
       "<style scoped>\n",
       "    .dataframe tbody tr th:only-of-type {\n",
       "        vertical-align: middle;\n",
       "    }\n",
       "\n",
       "    .dataframe tbody tr th {\n",
       "        vertical-align: top;\n",
       "    }\n",
       "\n",
       "    .dataframe thead th {\n",
       "        text-align: right;\n",
       "    }\n",
       "</style>\n",
       "<table border=\"1\" class=\"dataframe\">\n",
       "  <thead>\n",
       "    <tr style=\"text-align: right;\">\n",
       "      <th></th>\n",
       "      <th>Intercept</th>\n",
       "      <th>Store_ID</th>\n",
       "      <th>Customers</th>\n",
       "      <th>Sales</th>\n",
       "      <th>Open</th>\n",
       "      <th>H_None</th>\n",
       "      <th>H_Public</th>\n",
       "      <th>H_Easter</th>\n",
       "      <th>H_X-Mas</th>\n",
       "      <th>SchoolHoliday</th>\n",
       "      <th>...</th>\n",
       "      <th>Mar</th>\n",
       "      <th>Apr</th>\n",
       "      <th>May</th>\n",
       "      <th>Jun</th>\n",
       "      <th>Jul</th>\n",
       "      <th>Aug</th>\n",
       "      <th>Sep</th>\n",
       "      <th>Oct</th>\n",
       "      <th>Nov</th>\n",
       "      <th>Dec</th>\n",
       "    </tr>\n",
       "  </thead>\n",
       "  <tbody>\n",
       "    <tr>\n",
       "      <th>708012</th>\n",
       "      <td>1</td>\n",
       "      <td>778</td>\n",
       "      <td>734</td>\n",
       "      <td>5628</td>\n",
       "      <td>1</td>\n",
       "      <td>1</td>\n",
       "      <td>0</td>\n",
       "      <td>0</td>\n",
       "      <td>0</td>\n",
       "      <td>0</td>\n",
       "      <td>...</td>\n",
       "      <td>0</td>\n",
       "      <td>0</td>\n",
       "      <td>0</td>\n",
       "      <td>0</td>\n",
       "      <td>0</td>\n",
       "      <td>0</td>\n",
       "      <td>0</td>\n",
       "      <td>0</td>\n",
       "      <td>0</td>\n",
       "      <td>0</td>\n",
       "    </tr>\n",
       "    <tr>\n",
       "      <th>334672</th>\n",
       "      <td>1</td>\n",
       "      <td>368</td>\n",
       "      <td>964</td>\n",
       "      <td>16270</td>\n",
       "      <td>1</td>\n",
       "      <td>1</td>\n",
       "      <td>0</td>\n",
       "      <td>0</td>\n",
       "      <td>0</td>\n",
       "      <td>0</td>\n",
       "      <td>...</td>\n",
       "      <td>0</td>\n",
       "      <td>0</td>\n",
       "      <td>0</td>\n",
       "      <td>0</td>\n",
       "      <td>0</td>\n",
       "      <td>0</td>\n",
       "      <td>0</td>\n",
       "      <td>0</td>\n",
       "      <td>0</td>\n",
       "      <td>0</td>\n",
       "    </tr>\n",
       "    <tr>\n",
       "      <th>579400</th>\n",
       "      <td>1</td>\n",
       "      <td>636</td>\n",
       "      <td>839</td>\n",
       "      <td>7895</td>\n",
       "      <td>1</td>\n",
       "      <td>1</td>\n",
       "      <td>0</td>\n",
       "      <td>0</td>\n",
       "      <td>0</td>\n",
       "      <td>0</td>\n",
       "      <td>...</td>\n",
       "      <td>0</td>\n",
       "      <td>0</td>\n",
       "      <td>0</td>\n",
       "      <td>0</td>\n",
       "      <td>0</td>\n",
       "      <td>0</td>\n",
       "      <td>0</td>\n",
       "      <td>0</td>\n",
       "      <td>0</td>\n",
       "      <td>0</td>\n",
       "    </tr>\n",
       "    <tr>\n",
       "      <th>138214</th>\n",
       "      <td>1</td>\n",
       "      <td>153</td>\n",
       "      <td>542</td>\n",
       "      <td>6348</td>\n",
       "      <td>1</td>\n",
       "      <td>1</td>\n",
       "      <td>0</td>\n",
       "      <td>0</td>\n",
       "      <td>0</td>\n",
       "      <td>0</td>\n",
       "      <td>...</td>\n",
       "      <td>0</td>\n",
       "      <td>0</td>\n",
       "      <td>0</td>\n",
       "      <td>0</td>\n",
       "      <td>0</td>\n",
       "      <td>0</td>\n",
       "      <td>0</td>\n",
       "      <td>0</td>\n",
       "      <td>0</td>\n",
       "      <td>0</td>\n",
       "    </tr>\n",
       "    <tr>\n",
       "      <th>480034</th>\n",
       "      <td>1</td>\n",
       "      <td>527</td>\n",
       "      <td>1095</td>\n",
       "      <td>13630</td>\n",
       "      <td>1</td>\n",
       "      <td>1</td>\n",
       "      <td>0</td>\n",
       "      <td>0</td>\n",
       "      <td>0</td>\n",
       "      <td>0</td>\n",
       "      <td>...</td>\n",
       "      <td>0</td>\n",
       "      <td>0</td>\n",
       "      <td>0</td>\n",
       "      <td>0</td>\n",
       "      <td>0</td>\n",
       "      <td>0</td>\n",
       "      <td>0</td>\n",
       "      <td>0</td>\n",
       "      <td>0</td>\n",
       "      <td>0</td>\n",
       "    </tr>\n",
       "  </tbody>\n",
       "</table>\n",
       "<p>5 rows × 47 columns</p>\n",
       "</div>"
      ],
      "text/plain": [
       "        Intercept  Store_ID  Customers  Sales  Open  H_None  H_Public  \\\n",
       "708012          1       778        734   5628     1       1         0   \n",
       "334672          1       368        964  16270     1       1         0   \n",
       "579400          1       636        839   7895     1       1         0   \n",
       "138214          1       153        542   6348     1       1         0   \n",
       "480034          1       527       1095  13630     1       1         0   \n",
       "\n",
       "        H_Easter  H_X-Mas  SchoolHoliday ...   Mar  Apr  May  Jun  Jul  Aug  \\\n",
       "708012         0        0              0 ...     0    0    0    0    0    0   \n",
       "334672         0        0              0 ...     0    0    0    0    0    0   \n",
       "579400         0        0              0 ...     0    0    0    0    0    0   \n",
       "138214         0        0              0 ...     0    0    0    0    0    0   \n",
       "480034         0        0              0 ...     0    0    0    0    0    0   \n",
       "\n",
       "        Sep  Oct  Nov  Dec  \n",
       "708012    0    0    0    0  \n",
       "334672    0    0    0    0  \n",
       "579400    0    0    0    0  \n",
       "138214    0    0    0    0  \n",
       "480034    0    0    0    0  \n",
       "\n",
       "[5 rows x 47 columns]"
      ]
     },
     "execution_count": 27,
     "metadata": {},
     "output_type": "execute_result"
    }
   ],
   "source": [
    "# comparing heads to make sure worked properly (true)\n",
    "\n",
    "true.head()"
   ]
  },
  {
   "cell_type": "code",
   "execution_count": 28,
   "metadata": {},
   "outputs": [
    {
     "data": {
      "text/plain": [
       "708012    2015-01-30\n",
       "334672    2015-01-30\n",
       "579400    2015-01-30\n",
       "138214    2015-01-30\n",
       "480034    2015-01-30\n",
       "Name: Date, dtype: object"
      ]
     },
     "execution_count": 28,
     "metadata": {},
     "output_type": "execute_result"
    }
   ],
   "source": [
    "# comparing heads to make sure worked properly (true)\n",
    "\n",
    "true['Date'].head()"
   ]
  },
  {
   "cell_type": "code",
   "execution_count": 29,
   "metadata": {},
   "outputs": [
    {
     "data": {
      "text/plain": [
       "557530    2015-07-31\n",
       "212332    2015-07-31\n",
       "982701    2015-07-31\n",
       "769288    2015-07-31\n",
       "0         2015-07-31\n",
       "Name: Date, dtype: object"
      ]
     },
     "execution_count": 29,
     "metadata": {},
     "output_type": "execute_result"
    }
   ],
   "source": [
    "# comparing heads to make sure worked properly (true)\n",
    "\n",
    "true['Date'].tail()"
   ]
  },
  {
   "cell_type": "code",
   "execution_count": 30,
   "metadata": {},
   "outputs": [
    {
     "data": {
      "image/png": "[encoded data removed]",
      "text/plain": [
       "<matplotlib.figure.Figure at 0x111cbd4a8>"
      ]
     },
     "metadata": {},
     "output_type": "display_data"
    }
   ],
   "source": [
    "# plotting upper 20% of sales per day for selected shop\n",
    "\n",
    "x = true.loc[true['Store_ID'] == 100]\n",
    "x = x['Date']\n",
    "y = true.loc[true['Store_ID'] == 100]\n",
    "y = y['Sales']\n",
    "\n",
    "pyplot.plot(x, y, linewidth = 0.6)\n",
    "pyplot.ylabel('Sales per Day')\n",
    "pyplot.xlabel('Date')\n",
    "pyplot.show;"
   ]
  },
  {
   "cell_type": "markdown",
   "metadata": {},
   "source": [
    "# Correlation heatmap"
   ]
  },
  {
   "cell_type": "code",
   "execution_count": 31,
   "metadata": {},
   "outputs": [
    {
     "name": "stdout",
     "output_type": "stream",
     "text": [
      "<class 'pandas.core.frame.DataFrame'>\n",
      "Int64Index: 610325 entries, 1017208 to 1008551\n",
      "Data columns (total 47 columns):\n",
      "Intercept                    610325 non-null int64\n",
      "Store_ID                     610325 non-null int64\n",
      "Customers                    610325 non-null int64\n",
      "Sales                        610325 non-null int64\n",
      "Open                         610325 non-null int64\n",
      "H_None                       610325 non-null int64\n",
      "H_Public                     610325 non-null int64\n",
      "H_Easter                     610325 non-null int64\n",
      "H_X-Mas                      610325 non-null int64\n",
      "SchoolHoliday                610325 non-null int64\n",
      "Type_A                       610325 non-null int64\n",
      "Type_B                       610325 non-null int64\n",
      "Type_C                       610325 non-null int64\n",
      "Type_D                       610325 non-null int64\n",
      "Assort_Basic                 610325 non-null int64\n",
      "Assort_Extra                 610325 non-null int64\n",
      "Assort_Extended              610325 non-null int64\n",
      "Promo1                       610325 non-null int64\n",
      "Promo2                       610325 non-null int64\n",
      "Promo2SinceWeek              312457 non-null float64\n",
      "Promo2SinceYear              312457 non-null float64\n",
      "Promo2_Feb,May,Aug,Nov       610325 non-null int64\n",
      "Promo2_Jan,Apr,Jul,Oct       610325 non-null int64\n",
      "Promo2_Mar,Jun,Sept,Dec      610325 non-null int64\n",
      "CompetitionDistance          608684 non-null float64\n",
      "CompetitionOpenSinceMonth    416566 non-null float64\n",
      "CompetitionOpenSinceYear     416566 non-null float64\n",
      "Date                         610325 non-null object\n",
      "DayOfMonth                   610325 non-null int64\n",
      "DayOfWeek                    610325 non-null int64\n",
      "Month                        610325 non-null int64\n",
      "Year                         610325 non-null int64\n",
      "2013                         610325 non-null int64\n",
      "2014                         610325 non-null int64\n",
      "2015                         610325 non-null int64\n",
      "Jan                          610325 non-null int64\n",
      "Feb                          610325 non-null int64\n",
      "Mar                          610325 non-null int64\n",
      "Apr                          610325 non-null int64\n",
      "May                          610325 non-null int64\n",
      "Jun                          610325 non-null int64\n",
      "Jul                          610325 non-null int64\n",
      "Aug                          610325 non-null int64\n",
      "Sep                          610325 non-null int64\n",
      "Oct                          610325 non-null int64\n",
      "Nov                          610325 non-null int64\n",
      "Dec                          610325 non-null int64\n",
      "dtypes: float64(5), int64(41), object(1)\n",
      "memory usage: 223.5+ MB\n"
     ]
    }
   ],
   "source": [
    "# looking at variables to find numeric ones for correlation checks\n",
    "\n",
    "train.info()"
   ]
  },
  {
   "cell_type": "code",
   "execution_count": 32,
   "metadata": {},
   "outputs": [
    {
     "data": {
      "image/png": "[encoded data removed]",
      "text/plain": [
       "<matplotlib.figure.Figure at 0x1a25f3ae10>"
      ]
     },
     "metadata": {},
     "output_type": "display_data"
    }
   ],
   "source": [
    "# plotting a correlation heatmap\n",
    "# source: https://seaborn.pydata.org/examples/many_pairwise_correlations.html\n",
    "\n",
    "sns.set(style=\"white\")\n",
    "\n",
    "train_corr = train[['Customers', 'Sales', 'DayOfMonth', 'DayOfWeek']]\n",
    "\n",
    "corr = train_corr.corr()\n",
    "\n",
    "f, ax = pyplot.subplots()\n",
    "\n",
    "cmap = sns.diverging_palette(220, 10, as_cmap=True)\n",
    "\n",
    "sns.heatmap(corr, cmap=cmap, vmax=.3, center=0, annot=True, fmt='.2f',\n",
    "            square=True, linewidths=.5, cbar_kws={\"shrink\": .5});"
   ]
  },
  {
   "cell_type": "markdown",
   "metadata": {},
   "source": [
    "# Benchmark model"
   ]
  },
  {
   "cell_type": "markdown",
   "metadata": {},
   "source": [
    "### \"All in one\" model"
   ]
  },
  {
   "cell_type": "code",
   "execution_count": 33,
   "metadata": {},
   "outputs": [
    {
     "name": "stdout",
     "output_type": "stream",
     "text": [
      "Coefficients: \n",
      " [ -2.07890421e-12   7.17061649e+00   8.59988117e+02   9.31797745e+01\n",
      "  -4.25209147e+02  -6.42906322e+02  -7.92913316e+02   6.64193827e+01\n",
      "   5.70394805e+02  -2.48524441e+03   4.53551620e+02   1.46129798e+03\n",
      "   1.18090059e+03  -2.60751660e+03   1.42661601e+03   1.11602271e+03\n",
      "   1.32794998e+02   6.32402354e+00  -4.67699651e+01   5.21689338e+01\n",
      "   1.40145201e+02  -5.95191377e+01   1.95695408e-02  -1.82037759e+00\n",
      "  -2.36040265e+00  -2.92627646e-01  -4.34333059e+01   3.64548859e+01\n",
      "   5.34480223e+01  -5.34480223e+01   5.34480223e+01   1.13686838e-13\n",
      "   8.76125820e+01   7.36588681e+01   7.88269602e+01  -2.68642923e+01\n",
      "  -1.23465498e+01  -1.89296492e+01  -2.92757747e+00  -1.85957785e+02\n",
      "  -2.52576204e+02  -2.41441505e+02  -3.22258769e+01   5.33171030e+02]\n",
      "Mean squared error: 1431793.22\n",
      "Root mean squared percentage error: 1196.58\n",
      "Variance score: 0.91\n"
     ]
    }
   ],
   "source": [
    "# setting up the linear regression benchmark model\n",
    "\n",
    "# source: http://scikit-learn.org/stable/auto_examples/linear_model/plot_ols.html#sphx-glr-auto-examples-linear-model-plot-ols-py\n",
    "# source: https://stackoverflow.com/questions/33113947/using-scikit-learn-sklearn-how-to-handle-missing-data-for-linear-regression\n",
    "\n",
    "from sklearn import datasets, linear_model\n",
    "from sklearn.metrics import mean_squared_error, r2_score\n",
    "from sklearn.preprocessing import Imputer\n",
    "\n",
    "imputer = Imputer()\n",
    "\n",
    "X_train = train.drop(['Store_ID', 'Sales', 'Date'], axis=1)\n",
    "X_train = imputer.fit_transform(X_train)\n",
    "\n",
    "y_train = train['Sales']\n",
    "\n",
    "X_test = test.drop(['Store_ID', 'Sales', 'Date'], axis=1)\n",
    "X_test = imputer.fit_transform(X_test)\n",
    "\n",
    "y_test = test['Sales']\n",
    "\n",
    "l_reg = linear_model.LinearRegression()\n",
    "l_reg.fit(X_train, y_train)\n",
    "sales_lr_pred = l_reg.predict(X_test)\n",
    "\n",
    "RMSPE = np.sqrt(mean_squared_error(y_test, sales_lr_pred))\n",
    "\n",
    "\n",
    "# printing output coefficients\n",
    "\n",
    "print('Coefficients: \\n', l_reg.coef_)\n",
    "\n",
    "# mean squared error\n",
    "print('Mean squared error: %.2f'\n",
    "      % mean_squared_error(y_test, sales_lr_pred))\n",
    "\n",
    "print('Root mean squared percentage error: %.2f' % RMSPE)\n",
    "\n",
    "# explained variance score: 1 is perfect prediction\n",
    "print('Variance score: %.2f' % r2_score(y_test, sales_lr_pred))"
   ]
  },
  {
   "cell_type": "code",
   "execution_count": 34,
   "metadata": {},
   "outputs": [
    {
     "name": "stderr",
     "output_type": "stream",
     "text": [
      "/Users/manuelfreude/anaconda3/lib/python3.6/site-packages/statsmodels/compat/pandas.py:56: FutureWarning: The pandas.core.datetools module is deprecated and will be removed in a future version. Please use the pandas.tseries module instead.\n",
      "  from pandas.core import datetools\n"
     ]
    },
    {
     "name": "stdout",
     "output_type": "stream",
     "text": [
      "                            OLS Regression Results                            \n",
      "==============================================================================\n",
      "Dep. Variable:                  Sales   R-squared:                       0.903\n",
      "Model:                            OLS   Adj. R-squared:                  0.903\n",
      "Method:                 Least Squares   F-statistic:                 1.631e+05\n",
      "Date:                Thu, 31 May 2018   Prob (F-statistic):               0.00\n",
      "Time:                        19:00:31   Log-Likelihood:            -5.1869e+06\n",
      "No. Observations:              610325   AIC:                         1.037e+07\n",
      "Df Residuals:                  610289   BIC:                         1.037e+07\n",
      "Df Model:                          35                                         \n",
      "Covariance Type:            nonrobust                                         \n",
      "==============================================================================\n",
      "                 coef    std err          t      P>|t|      [0.025      0.975]\n",
      "------------------------------------------------------------------------------\n",
      "const         -0.0042      0.001     -2.823      0.005      -0.007      -0.001\n",
      "x1             7.1706      0.005   1443.599      0.000       7.161       7.180\n",
      "x2           859.9881      6.330    135.861      0.000     847.582     872.395\n",
      "x3            93.1798      6.802     13.699      0.000      79.848     106.511\n",
      "x4          -425.2091     13.527    -31.434      0.000    -451.722    -398.697\n",
      "x5          -642.9063     20.272    -31.714      0.000    -682.639    -603.174\n",
      "x6          -792.9133     27.676    -28.650      0.000    -847.157    -738.670\n",
      "x7            66.4194      4.638     14.322      0.000      57.330      75.509\n",
      "x8           570.3938      5.067    112.559      0.000     560.462     580.326\n",
      "x9         -2485.2454     14.293   -173.881      0.000   -2513.259   -2457.232\n",
      "x10          453.5506      5.687     79.755      0.000     442.405     464.696\n",
      "x11         1461.2969      5.538    263.864      0.000    1450.443    1472.151\n",
      "x12         1180.8992      8.326    141.839      0.000    1164.581    1197.217\n",
      "x13        -2607.5180     16.491   -158.119      0.000   -2639.839   -2575.197\n",
      "x14         1426.6146      8.475    168.341      0.000    1410.005    1443.225\n",
      "x15         1116.0227      3.536    315.642      0.000    1109.093    1122.953\n",
      "x16          132.7950      2.524     52.615      0.000     127.848     137.742\n",
      "x17            6.3240      0.155     40.799      0.000       6.020       6.628\n",
      "x18          -46.7700      1.322    -35.370      0.000     -49.362     -44.178\n",
      "x19           52.1689      3.706     14.078      0.000      44.906      59.432\n",
      "x20          140.1452      2.747     51.026      0.000     134.762     145.528\n",
      "x21          -59.5191      4.038    -14.740      0.000     -67.433     -51.605\n",
      "x22            0.0196      0.000     93.924      0.000       0.019       0.020\n",
      "x23           -1.8204      0.579     -3.145      0.002      -2.955      -0.686\n",
      "x24           -2.3604      0.300     -7.876      0.000      -2.948      -1.773\n",
      "x25           -0.2926      0.175     -1.672      0.095      -0.636       0.050\n",
      "x26          -43.4333      0.996    -43.589      0.000     -45.386     -41.480\n",
      "x27           36.4547      0.530     68.840      0.000      35.417      37.493\n",
      "x28           47.8685      1.357     35.267      0.000      45.208      50.529\n",
      "x29          -56.2398      2.258    -24.910      0.000     -60.665     -51.815\n",
      "x30           56.2357      2.256     24.923      0.000      51.813      60.658\n",
      "x31         9.125e-14   3.38e-15     26.992      0.000    8.46e-14    9.79e-14\n",
      "x32           87.6112      3.941     22.232      0.000      79.887      95.335\n",
      "x33           73.6577      4.646     15.852      0.000      64.551      82.765\n",
      "x34           78.8260      4.224     18.661      0.000      70.547      87.105\n",
      "x35          -26.8651      4.581     -5.865      0.000     -35.843     -17.887\n",
      "x36          -12.3472      4.637     -2.662      0.008     -21.436      -3.258\n",
      "x37          -18.9301      4.709     -4.020      0.000     -28.159      -9.701\n",
      "x38           -2.9278      6.077     -0.482      0.630     -14.839       8.984\n",
      "x39         -185.9579      6.264    -29.686      0.000    -198.236    -173.680\n",
      "x40         -252.5761      6.088    -41.486      0.000    -264.509    -240.643\n",
      "x41         -241.4412      5.844    -41.314      0.000    -252.895    -229.987\n",
      "x42          -32.2254      5.764     -5.590      0.000     -43.523     -20.927\n",
      "x43          533.1717      5.488     97.143      0.000     522.414     543.929\n",
      "==============================================================================\n",
      "Omnibus:                   176586.834   Durbin-Watson:                   1.762\n",
      "Prob(Omnibus):                  0.000   Jarque-Bera (JB):          2180378.277\n",
      "Skew:                           1.043   Prob(JB):                         0.00\n",
      "Kurtosis:                      12.022   Cond. No.                     3.38e+17\n",
      "==============================================================================\n",
      "\n",
      "Warnings:\n",
      "[1] Standard Errors assume that the covariance matrix of the errors is correctly specified.\n",
      "[2] The smallest eigenvalue is 4.92e-22. This might indicate that there are\n",
      "strong multicollinearity problems or that the design matrix is singular.\n"
     ]
    }
   ],
   "source": [
    "# conducting a regression with statsmodel for better coefficient summary\n",
    "\n",
    "import statsmodels.api as sm\n",
    "\n",
    "imputer = Imputer()\n",
    "\n",
    "X_train = train.drop(['Store_ID', 'Sales', 'Date'], axis=1)\n",
    "X_train = imputer.fit_transform(X_train)\n",
    "\n",
    "y_train = train['Sales']\n",
    "\n",
    "X_test = test.drop(['Store_ID', 'Sales', 'Date'], axis=1)\n",
    "X_test = imputer.fit_transform(X_test)\n",
    "\n",
    "y_test = test['Sales']\n",
    "\n",
    "sm_lr_model = sm.OLS(y_train, X_train)\n",
    "results = sm_lr_model.fit()\n",
    "print(results.summary())"
   ]
  },
  {
   "cell_type": "markdown",
   "metadata": {},
   "source": [
    "This is a warning as expected because I included all dummy variables in the model. As a next step, I will build a basic model and add complexity to see how many variables and which variables should be included. "
   ]
  },
  {
   "cell_type": "markdown",
   "metadata": {},
   "source": [
    "## \"Basic\" model"
   ]
  },
  {
   "cell_type": "code",
   "execution_count": 35,
   "metadata": {},
   "outputs": [
    {
     "name": "stdout",
     "output_type": "stream",
     "text": [
      "Coefficients: \n",
      " [   6.99971221 -244.93690355]\n",
      "Mean squared error: 2774559.47\n",
      "Root mean squared percentage error: 1665.70\n",
      "Variance score: 0.82\n"
     ]
    }
   ],
   "source": [
    "# running l_reg for basic model, day of month is out due to missing correlation identified above\n",
    "\n",
    "X_train = train[['Customers', 'DayOfWeek']]\n",
    "X_train = imputer.fit_transform(X_train)\n",
    "y_train = train['Sales']\n",
    "\n",
    "X_test = test[['Customers', 'DayOfWeek']]\n",
    "X_test = imputer.fit_transform(X_test)\n",
    "y_test = test['Sales']\n",
    "\n",
    "l_reg = linear_model.LinearRegression()\n",
    "l_reg.fit(X_train, y_train)\n",
    "sales_lr_pred = l_reg.predict(X_test)\n",
    "\n",
    "RMSPE = np.sqrt(mean_squared_error(y_test, sales_lr_pred))\n",
    "\n",
    "\n",
    "# printing output coefficients\n",
    "\n",
    "print('Coefficients: \\n', l_reg.coef_)\n",
    "\n",
    "# mean squared error\n",
    "print('Mean squared error: %.2f'\n",
    "      % mean_squared_error(y_test, sales_lr_pred))\n",
    "\n",
    "print('Root mean squared percentage error: %.2f' % RMSPE)\n",
    "\n",
    "# explained variance score: 1 is perfect prediction\n",
    "print('Variance score: %.2f' % r2_score(y_test, sales_lr_pred))"
   ]
  },
  {
   "cell_type": "code",
   "execution_count": 36,
   "metadata": {},
   "outputs": [
    {
     "name": "stdout",
     "output_type": "stream",
     "text": [
      "                            OLS Regression Results                            \n",
      "==============================================================================\n",
      "Dep. Variable:                  Sales   R-squared:                       0.821\n",
      "Model:                            OLS   Adj. R-squared:                  0.821\n",
      "Method:                 Least Squares   F-statistic:                 1.395e+06\n",
      "Date:                Thu, 31 May 2018   Prob (F-statistic):               0.00\n",
      "Time:                        19:00:32   Log-Likelihood:            -5.3759e+06\n",
      "No. Observations:              610325   AIC:                         1.075e+07\n",
      "Df Residuals:                  610322   BIC:                         1.075e+07\n",
      "Df Model:                           2                                         \n",
      "Covariance Type:            nonrobust                                         \n",
      "==============================================================================\n",
      "                 coef    std err          t      P>|t|      [0.025      0.975]\n",
      "------------------------------------------------------------------------------\n",
      "const       2245.3619      6.612    339.591      0.000    2232.403    2258.321\n",
      "x1             6.9997      0.005   1450.566      0.000       6.990       7.009\n",
      "x2          -244.9369      1.119   -218.816      0.000    -247.131    -242.743\n",
      "==============================================================================\n",
      "Omnibus:                   101346.637   Durbin-Watson:                   1.517\n",
      "Prob(Omnibus):                  0.000   Jarque-Bera (JB):          2099297.981\n",
      "Skew:                          -0.110   Prob(JB):                         0.00\n",
      "Kurtosis:                      12.083   Cond. No.                     2.52e+03\n",
      "==============================================================================\n",
      "\n",
      "Warnings:\n",
      "[1] Standard Errors assume that the covariance matrix of the errors is correctly specified.\n",
      "[2] The condition number is large, 2.52e+03. This might indicate that there are\n",
      "strong multicollinearity or other numerical problems.\n"
     ]
    }
   ],
   "source": [
    "# running statsmodel regression with basic model with an intercept\n",
    "\n",
    "X_train = train[['Intercept', 'Customers', 'DayOfWeek']]\n",
    "X_train = imputer.fit_transform(X_train)\n",
    "y_train = train['Sales']\n",
    "\n",
    "X_test = test[['Intercept', 'Customers', 'DayOfWeek']]\n",
    "X_test = imputer.fit_transform(X_test)\n",
    "y_test = test['Sales']\n",
    "\n",
    "sm_lr_model = sm.OLS(y_train, X_train)\n",
    "results = sm_lr_model.fit()\n",
    "print(results.summary())"
   ]
  },
  {
   "cell_type": "markdown",
   "metadata": {},
   "source": [
    "## \"Store type\" model"
   ]
  },
  {
   "cell_type": "code",
   "execution_count": 37,
   "metadata": {},
   "outputs": [
    {
     "name": "stdout",
     "output_type": "stream",
     "text": [
      "Coefficients: \n",
      " [    7.91354887  -164.88162859 -6090.85524204  -136.9725035   1132.5503054 ]\n",
      "Mean squared error: 1974017.93\n",
      "Root mean squared percentage error: 1405.00\n",
      "Variance score: 0.87\n"
     ]
    }
   ],
   "source": [
    "# running l_reg for store type model\n",
    "\n",
    "X_train = train[['Customers', 'DayOfWeek', 'Type_B', 'Type_C', 'Type_D']]\n",
    "X_train = imputer.fit_transform(X_train)\n",
    "y_train = train['Sales']\n",
    "\n",
    "X_test = test[['Customers', 'DayOfWeek', 'Type_B', 'Type_C', 'Type_D']]\n",
    "X_test = imputer.fit_transform(X_test)\n",
    "y_test = test['Sales']\n",
    "\n",
    "l_reg = linear_model.LinearRegression()\n",
    "l_reg.fit(X_train, y_train)\n",
    "sales_lr_pred = l_reg.predict(X_test)\n",
    "\n",
    "RMSPE = np.sqrt(mean_squared_error(y_test, sales_lr_pred))\n",
    "\n",
    "\n",
    "# printing output coefficients\n",
    "\n",
    "print('Coefficients: \\n', l_reg.coef_)\n",
    "\n",
    "# mean squared error\n",
    "print('Mean squared error: %.2f'\n",
    "      % mean_squared_error(y_test, sales_lr_pred))\n",
    "\n",
    "print('Root mean squared percentage error: %.2f' % RMSPE)\n",
    "\n",
    "# explained variance score: 1 is perfect prediction\n",
    "print('Variance score: %.2f' % r2_score(y_test, sales_lr_pred))"
   ]
  },
  {
   "cell_type": "code",
   "execution_count": 38,
   "metadata": {},
   "outputs": [
    {
     "name": "stdout",
     "output_type": "stream",
     "text": [
      "                            OLS Regression Results                            \n",
      "==============================================================================\n",
      "Dep. Variable:                  Sales   R-squared:                       0.872\n",
      "Model:                            OLS   Adj. R-squared:                  0.872\n",
      "Method:                 Least Squares   F-statistic:                 8.338e+05\n",
      "Date:                Thu, 31 May 2018   Prob (F-statistic):               0.00\n",
      "Time:                        19:00:32   Log-Likelihood:            -5.2721e+06\n",
      "No. Observations:              610325   AIC:                         1.054e+07\n",
      "Df Residuals:                  610319   BIC:                         1.054e+07\n",
      "Df Model:                           5                                         \n",
      "Covariance Type:            nonrobust                                         \n",
      "==============================================================================\n",
      "                 coef    std err          t      P>|t|      [0.025      0.975]\n",
      "------------------------------------------------------------------------------\n",
      "const       1109.4534      6.183    179.443      0.000    1097.335    1121.571\n",
      "x1             7.9135      0.004   1767.434      0.000       7.905       7.922\n",
      "x2          -164.8816      0.958   -172.063      0.000    -166.760    -163.003\n",
      "x3         -6090.8552     15.436   -394.581      0.000   -6121.110   -6060.601\n",
      "x4          -136.9725      5.354    -25.582      0.000    -147.467    -126.478\n",
      "x5          1132.5503      3.997    283.317      0.000    1124.715    1140.385\n",
      "==============================================================================\n",
      "Omnibus:                   118371.436   Durbin-Watson:                   1.556\n",
      "Prob(Omnibus):                  0.000   Jarque-Bera (JB):          1397758.507\n",
      "Skew:                           0.593   Prob(JB):                         0.00\n",
      "Kurtosis:                      10.318   Cond. No.                     6.92e+03\n",
      "==============================================================================\n",
      "\n",
      "Warnings:\n",
      "[1] Standard Errors assume that the covariance matrix of the errors is correctly specified.\n",
      "[2] The condition number is large, 6.92e+03. This might indicate that there are\n",
      "strong multicollinearity or other numerical problems.\n"
     ]
    }
   ],
   "source": [
    "# running statsmodel regression with store type model with an intercept\n",
    "\n",
    "X_train = train[['Intercept', 'Customers', 'DayOfWeek', 'Type_B', 'Type_C', 'Type_D']]\n",
    "X_train = imputer.fit_transform(X_train)\n",
    "y_train = train['Sales']\n",
    "\n",
    "X_test = test[['Intercept', 'Customers', 'DayOfWeek', 'Type_B', 'Type_C', 'Type_D']]\n",
    "X_test = imputer.fit_transform(X_test)\n",
    "y_test = test['Sales']\n",
    "\n",
    "sm_lr_model = sm.OLS(y_train, X_train)\n",
    "results = sm_lr_model.fit()\n",
    "print(results.summary())"
   ]
  },
  {
   "cell_type": "markdown",
   "metadata": {},
   "source": [
    "Store type added value for clearing more r squared, I keep it in. Statsmodels shows a multicollinearity or \"other numerical problems\" warning, I will carefully watch not adding to any multicollinearity problems when selecting dummy variables. "
   ]
  },
  {
   "cell_type": "markdown",
   "metadata": {},
   "source": [
    "## \"Store type and assortment\" model"
   ]
  },
  {
   "cell_type": "code",
   "execution_count": 39,
   "metadata": {},
   "outputs": [
    {
     "name": "stdout",
     "output_type": "stream",
     "text": [
      "Coefficients: \n",
      " [    7.89957951  -166.09415965 -4017.25252224  -162.22399769  1070.40971507\n",
      " -3753.87066006   225.85356583]\n",
      "Mean squared error: 1868028.97\n",
      "Root mean squared percentage error: 1366.76\n",
      "Variance score: 0.88\n"
     ]
    }
   ],
   "source": [
    "# running l_reg for store type and assortment model\n",
    "\n",
    "X_train = train[['Customers', 'DayOfWeek', 'Type_B', 'Type_C', 'Type_D', 'Assort_Extra', 'Assort_Extended']]\n",
    "X_train = imputer.fit_transform(X_train)\n",
    "y_train = train['Sales']\n",
    "\n",
    "X_test = test[['Customers', 'DayOfWeek', 'Type_B', 'Type_C', 'Type_D', 'Assort_Extra', 'Assort_Extended']]\n",
    "X_test = imputer.fit_transform(X_test)\n",
    "y_test = test['Sales']\n",
    "\n",
    "l_reg = linear_model.LinearRegression()\n",
    "l_reg.fit(X_train, y_train)\n",
    "sales_lr_pred = l_reg.predict(X_test)\n",
    "\n",
    "RMSPE = np.sqrt(mean_squared_error(y_test, sales_lr_pred))\n",
    "\n",
    "\n",
    "# printing output coefficients\n",
    "\n",
    "print('Coefficients: \\n', l_reg.coef_)\n",
    "\n",
    "# mean squared error\n",
    "print('Mean squared error: %.2f'\n",
    "      % mean_squared_error(y_test, sales_lr_pred))\n",
    "\n",
    "print('Root mean squared percentage error: %.2f' % RMSPE)\n",
    "\n",
    "# explained variance score: 1 is perfect prediction\n",
    "print('Variance score: %.2f' % r2_score(y_test, sales_lr_pred))"
   ]
  },
  {
   "cell_type": "code",
   "execution_count": 40,
   "metadata": {},
   "outputs": [
    {
     "name": "stdout",
     "output_type": "stream",
     "text": [
      "                            OLS Regression Results                            \n",
      "==============================================================================\n",
      "Dep. Variable:                  Sales   R-squared:                       0.877\n",
      "Model:                            OLS   Adj. R-squared:                  0.877\n",
      "Method:                 Least Squares   F-statistic:                 6.207e+05\n",
      "Date:                Thu, 31 May 2018   Prob (F-statistic):               0.00\n",
      "Time:                        19:00:33   Log-Likelihood:            -5.2611e+06\n",
      "No. Observations:              610325   AIC:                         1.052e+07\n",
      "Df Residuals:                  610317   BIC:                         1.052e+07\n",
      "Df Model:                           7                                         \n",
      "Covariance Type:            nonrobust                                         \n",
      "==============================================================================\n",
      "                 coef    std err          t      P>|t|      [0.025      0.975]\n",
      "------------------------------------------------------------------------------\n",
      "const       1040.5512      6.163    168.831      0.000    1028.471    1052.631\n",
      "x1             7.8996      0.004   1793.487      0.000       7.891       7.908\n",
      "x2          -166.0942      0.941   -176.439      0.000    -167.939    -164.249\n",
      "x3         -4017.2525     21.160   -189.850      0.000   -4058.726   -3975.779\n",
      "x4          -162.2240      5.274    -30.762      0.000    -172.560    -151.888\n",
      "x5          1070.4097      4.048    264.415      0.000    1062.475    1078.344\n",
      "x6         -3753.8707     27.850   -134.788      0.000   -3808.456   -3699.285\n",
      "x7           225.8536      3.570     63.262      0.000     218.856     232.851\n",
      "==============================================================================\n",
      "Omnibus:                   122287.247   Durbin-Watson:                   1.537\n",
      "Prob(Omnibus):                  0.000   Jarque-Bera (JB):          1148652.927\n",
      "Skew:                           0.699   Prob(JB):                         0.00\n",
      "Kurtosis:                       9.574   Cond. No.                     1.48e+04\n",
      "==============================================================================\n",
      "\n",
      "Warnings:\n",
      "[1] Standard Errors assume that the covariance matrix of the errors is correctly specified.\n",
      "[2] The condition number is large, 1.48e+04. This might indicate that there are\n",
      "strong multicollinearity or other numerical problems.\n"
     ]
    }
   ],
   "source": [
    "# running statsmodel regression with store type and assortment model with an intercept\n",
    "\n",
    "X_train = train[['Intercept', 'Customers', 'DayOfWeek', 'Type_B', 'Type_C', 'Type_D', 'Assort_Extra', 'Assort_Extended']]\n",
    "X_train = imputer.fit_transform(X_train)\n",
    "y_train = train['Sales']\n",
    "\n",
    "X_test = test[['Intercept', 'Customers', 'DayOfWeek', 'Type_B', 'Type_C', 'Type_D', 'Assort_Extra', 'Assort_Extended']]\n",
    "X_test = imputer.fit_transform(X_test)\n",
    "y_test = test['Sales']\n",
    "\n",
    "sm_lr_model = sm.OLS(y_train, X_train)\n",
    "results = sm_lr_model.fit()\n",
    "print(results.summary())"
   ]
  },
  {
   "cell_type": "markdown",
   "metadata": {},
   "source": [
    "This added a little more explanatory value. I'll now build the full linear regression model with correct dummy variables."
   ]
  },
  {
   "cell_type": "markdown",
   "metadata": {},
   "source": [
    "## Final benchmark model"
   ]
  },
  {
   "cell_type": "code",
   "execution_count": 41,
   "metadata": {},
   "outputs": [
    {
     "name": "stdout",
     "output_type": "stream",
     "text": [
      "Coefficients: \n",
      " [  7.17071732e+00   8.59746177e+02   9.32264897e+01  -4.23439753e+02\n",
      "  -6.43433064e+02  -7.95700430e+02   6.63111938e+01  -3.05571852e+03\n",
      "  -1.16843117e+02   8.90915334e+02  -3.78843034e+03   2.45712705e+02\n",
      "   1.11648803e+03   1.84970916e+02   6.32372046e+00  -4.67710522e+01\n",
      "   8.79714972e+01  -1.11683956e+02   1.95702143e-02  -1.81999993e+00\n",
      "  -2.36026179e+00  -4.34027195e+01   2.50707795e+01   1.60425273e+02\n",
      "  -2.84217094e-14  -2.06877852e+00   1.40059045e+01  -8.01179908e+01\n",
      "  -5.45813301e+01  -4.94951073e+01  -2.19734805e+01  -1.93779572e+02\n",
      "  -2.48881991e+02  -2.26545016e+02  -5.80746394e+00   5.71056016e+02]\n",
      "Mean squared error: 1437813.31\n",
      "Root mean squared percentage error: 1199.09\n",
      "Variance score: 0.91\n"
     ]
    }
   ],
   "source": [
    "# setting up the linear regression benchmark model\n",
    "\n",
    "imputer = Imputer()\n",
    "\n",
    "X_train = train.drop(['Intercept',\n",
    "                      'Store_ID', \n",
    "                      'Sales', \n",
    "                      'Date', \n",
    "                      'DayOfMonth', \n",
    "                      'Type_A', \n",
    "                      'Assort_Basic', \n",
    "                      'Promo2_Feb,May,Aug,Nov',\n",
    "                      'Year',\n",
    "                      '2013',\n",
    "                      'Jan'], axis=1)\n",
    "\n",
    "X_train = imputer.fit_transform(X_train)\n",
    "\n",
    "y_train = train['Sales']\n",
    "\n",
    "X_test = test.drop(['Intercept',\n",
    "                      'Store_ID', \n",
    "                      'Sales', \n",
    "                      'Date', \n",
    "                      'DayOfMonth', \n",
    "                      'Type_A', \n",
    "                      'Assort_Basic', \n",
    "                      'Promo2_Feb,May,Aug,Nov',\n",
    "                      'Year',\n",
    "                      '2013',\n",
    "                      'Jan'], axis=1)\n",
    "\n",
    "X_test = imputer.fit_transform(X_test)\n",
    "\n",
    "y_test = test['Sales']\n",
    "\n",
    "l_reg = linear_model.LinearRegression()\n",
    "l_reg.fit(X_train, y_train)\n",
    "sales_lr_pred = l_reg.predict(X_test)\n",
    "\n",
    "RMSPE = np.sqrt(mean_squared_error(y_test, sales_lr_pred))\n",
    "\n",
    "\n",
    "# printing output coefficients\n",
    "\n",
    "print('Coefficients: \\n', l_reg.coef_)\n",
    "\n",
    "# mean squared error\n",
    "print('Mean squared error: %.2f'\n",
    "      % mean_squared_error(y_test, sales_lr_pred))\n",
    "\n",
    "print('Root mean squared percentage error: %.2f' % RMSPE)\n",
    "\n",
    "# explained variance score: 1 is perfect prediction\n",
    "print('Variance score: %.2f' % r2_score(y_test, sales_lr_pred))"
   ]
  },
  {
   "cell_type": "code",
   "execution_count": 42,
   "metadata": {},
   "outputs": [
    {
     "name": "stdout",
     "output_type": "stream",
     "text": [
      "                            OLS Regression Results                            \n",
      "==============================================================================\n",
      "Dep. Variable:                  Sales   R-squared:                       0.903\n",
      "Model:                            OLS   Adj. R-squared:                  0.903\n",
      "Method:                 Least Squares   F-statistic:                 1.679e+05\n",
      "Date:                Thu, 31 May 2018   Prob (F-statistic):               0.00\n",
      "Time:                        19:00:38   Log-Likelihood:            -5.1869e+06\n",
      "No. Observations:              610325   AIC:                         1.037e+07\n",
      "Df Residuals:                  610290   BIC:                         1.037e+07\n",
      "Df Model:                          34                                         \n",
      "Covariance Type:            nonrobust                                         \n",
      "==============================================================================\n",
      "                 coef    std err          t      P>|t|      [0.025      0.975]\n",
      "------------------------------------------------------------------------------\n",
      "const       9.796e+04   2727.645     35.913      0.000    9.26e+04    1.03e+05\n",
      "x1             7.1707      0.005   1443.723      0.000       7.161       7.180\n",
      "x2           859.7462      6.328    135.858      0.000     847.343     872.149\n",
      "x3            93.2265      6.802     13.706      0.000      79.895     106.558\n",
      "x4          -423.4398     13.486    -31.400      0.000    -449.871    -397.008\n",
      "x5          -643.4331     20.269    -31.744      0.000    -683.161    -603.706\n",
      "x6          -795.7004     27.626    -28.803      0.000    -849.846    -741.555\n",
      "x7            66.3112      4.637     14.300      0.000      57.222      75.400\n",
      "x8         -3055.7185     18.981   -160.989      0.000   -3092.920   -3018.517\n",
      "x9          -116.8431      4.711    -24.802      0.000    -126.076    -107.610\n",
      "x10          890.9153      3.636    245.008      0.000     883.788     898.042\n",
      "x11        -3788.4303     24.713   -153.300      0.000   -3836.866   -3739.995\n",
      "x12          245.7127      3.213     76.479      0.000     239.416     252.010\n",
      "x13         1116.4880      3.525    316.756      0.000    1109.580    1123.396\n",
      "x14          184.9709      5.054     36.597      0.000     175.065     194.877\n",
      "x15            6.3237      0.155     40.797      0.000       6.020       6.628\n",
      "x16          -46.7711      1.322    -35.371      0.000     -49.363     -44.179\n",
      "x17           87.9715      5.279     16.666      0.000      77.626      98.317\n",
      "x18         -111.6840      6.743    -16.562      0.000    -124.900     -98.468\n",
      "x19            0.0196      0.000     93.927      0.000       0.019       0.020\n",
      "x20           -1.8200      0.579     -3.145      0.002      -2.954      -0.686\n",
      "x21           -2.3603      0.300     -7.876      0.000      -2.948      -1.773\n",
      "x22          -43.4027      0.996    -43.566      0.000     -45.355     -41.450\n",
      "x23          218.2801      5.422     40.262      0.000     207.654     228.906\n",
      "x24          160.4253      4.303     37.285      0.000     151.992     168.858\n",
      "x25        -1.501e-12   3.16e-14    -47.456      0.000   -1.56e-12   -1.44e-12\n",
      "x26         -195.2781      8.458    -23.088      0.000    -211.856    -178.701\n",
      "x27         -372.4128     12.187    -30.558      0.000    -396.299    -348.527\n",
      "x28         -659.7461     17.085    -38.616      0.000    -693.231    -626.261\n",
      "x29         -827.4188     22.157    -37.344      0.000    -870.845    -783.993\n",
      "x30        -1015.5419     27.374    -37.098      0.000   -1069.195    -961.889\n",
      "x31        -1181.2296     32.881    -35.925      0.000   -1245.674   -1116.785\n",
      "x32        -1546.2451     38.182    -40.497      0.000   -1621.080   -1471.410\n",
      "x33        -1794.5568     43.467    -41.285      0.000   -1879.751   -1709.363\n",
      "x34        -1965.4292     48.778    -40.294      0.000   -2061.032   -1869.826\n",
      "x35        -1937.9010     54.132    -35.800      0.000   -2043.997   -1831.805\n",
      "x36        -1554.2469     59.486    -26.128      0.000   -1670.838   -1437.655\n",
      "==============================================================================\n",
      "Omnibus:                   176551.808   Durbin-Watson:                   1.762\n",
      "Prob(Omnibus):                  0.000   Jarque-Bera (JB):          2179738.402\n",
      "Skew:                           1.043   Prob(JB):                         0.00\n",
      "Kurtosis:                      12.020   Cond. No.                     1.42e+16\n",
      "==============================================================================\n",
      "\n",
      "Warnings:\n",
      "[1] Standard Errors assume that the covariance matrix of the errors is correctly specified.\n",
      "[2] The smallest eigenvalue is 2.76e-19. This might indicate that there are\n",
      "strong multicollinearity problems or that the design matrix is singular.\n"
     ]
    }
   ],
   "source": [
    "# running statsmodel regression with store type and assortment model with an intercept\n",
    "\n",
    "X_train = train.drop(['Store_ID', \n",
    "                      'Sales', \n",
    "                      'Date', \n",
    "                      'DayOfMonth', \n",
    "                      'Type_A', \n",
    "                      'Assort_Basic', \n",
    "                      'Promo2_Feb,May,Aug,Nov',\n",
    "                      'Year',\n",
    "                      '2013',\n",
    "                      'Jan'], axis=1)\n",
    "\n",
    "X_train = imputer.fit_transform(X_train)\n",
    "y_train = train['Sales']\n",
    "\n",
    "X_test = test.drop(['Store_ID', \n",
    "                      'Sales', \n",
    "                      'Date', \n",
    "                      'DayOfMonth', \n",
    "                      'Type_A', \n",
    "                      'Assort_Basic', \n",
    "                      'Promo2_Feb,May,Aug,Nov',\n",
    "                      'Year',\n",
    "                      '2013',\n",
    "                      'Jan'], axis=1)\n",
    "\n",
    "X_test = imputer.fit_transform(X_test)\n",
    "y_test = test['Sales']\n",
    "\n",
    "sm_lr_model = sm.OLS(y_train, X_train)\n",
    "results = sm_lr_model.fit()\n",
    "print(results.summary())"
   ]
  },
  {
   "cell_type": "markdown",
   "metadata": {},
   "source": [
    "The overall r squared and mean squared error values are just about the same as in the \"all in one model\", I have cleared out some multicollinear variables and will use this final benchmark model going forward. "
   ]
  },
  {
   "cell_type": "markdown",
   "metadata": {},
   "source": [
    "# Model preparation"
   ]
  },
  {
   "cell_type": "markdown",
   "metadata": {},
   "source": [
    "## Preparing the data"
   ]
  },
  {
   "cell_type": "code",
   "execution_count": 43,
   "metadata": {},
   "outputs": [],
   "source": [
    "X_train = train.drop(['Intercept',\n",
    "                      'Store_ID', \n",
    "                      'Sales', \n",
    "                      'Date', \n",
    "                      'DayOfMonth', \n",
    "                      'Type_A', \n",
    "                      'Assort_Basic', \n",
    "                      'Promo2_Feb,May,Aug,Nov',\n",
    "                      'Year',\n",
    "                      '2013',\n",
    "                      'Jan'], axis=1)\n",
    "\n",
    "X_train = imputer.fit_transform(X_train)\n",
    "\n",
    "y_train = train['Sales']\n",
    "\n",
    "X_test = test.drop(['Intercept',\n",
    "                      'Store_ID', \n",
    "                      'Sales', \n",
    "                      'Date', \n",
    "                      'DayOfMonth', \n",
    "                      'Type_A', \n",
    "                      'Assort_Basic', \n",
    "                      'Promo2_Feb,May,Aug,Nov',\n",
    "                      'Year',\n",
    "                      '2013',\n",
    "                      'Jan'], axis=1)\n",
    "\n",
    "X_test = imputer.fit_transform(X_test)\n",
    "\n",
    "y_test = test['Sales']"
   ]
  },
  {
   "cell_type": "markdown",
   "metadata": {},
   "source": [
    "## Support Vector Regression (Linear SVR)"
   ]
  },
  {
   "cell_type": "code",
   "execution_count": 59,
   "metadata": {},
   "outputs": [
    {
     "name": "stdout",
     "output_type": "stream",
     "text": [
      "Coefficients: \n",
      " [  6.92048875e+00   8.64262823e+02   1.99372517e+02  -2.66367631e+02\n",
      "  -1.66253650e+02  -7.43051929e+01   9.10775414e+00  -1.75795695e+03\n",
      "  -9.10168763e+01   8.49387629e+02  -1.40256759e+03   3.26494600e+02\n",
      "   1.10545243e+03   8.81858172e+01   1.05548654e+01   9.00033829e-01\n",
      "   9.54542629e+01  -9.57905336e+01  -2.94667396e-01   9.65440206e-01\n",
      "  -1.15859806e+00  -4.31876049e+01   2.37030628e+01   1.76499602e+02\n",
      "   0.00000000e+00   6.70688562e+01   5.36664942e+01  -7.32998664e+01\n",
      "  -4.93969449e+01  -4.83146062e+01   1.13942449e+00  -1.30589222e+02\n",
      "  -1.97531098e+02  -1.75160257e+02  -8.33107562e+00   4.23200644e+02]\n",
      "Mean squared error: 10179850.44\n",
      "Root mean squared percentage error: 3190.59\n",
      "Variance score: 0.33\n"
     ]
    }
   ],
   "source": [
    "# source: http://scikit-learn.org/stable/modules/generated/sklearn.svm.LinearSVR.html#sklearn.svm.LinearSVR\n",
    "# less than 5 minutes computation time\n",
    "\n",
    "from sklearn.svm import LinearSVR\n",
    "\n",
    "SVR = svm.LinearSVR()\n",
    "SVR.fit(X_train, y_train)\n",
    "SVR_pred = SVR.predict(X_test)\n",
    "\n",
    "RMSPE = np.sqrt(mean_squared_error(y_test, SVR_pred))\n",
    "\n",
    "\n",
    "# printing output coefficients\n",
    "\n",
    "print('Coefficients: \\n', SVR.coef_)\n",
    "\n",
    "# mean squared error\n",
    "print('Mean squared error: %.2f'\n",
    "      % mean_squared_error(y_test, SVR_pred))\n",
    "\n",
    "print('Root mean squared percentage error: %.2f' % RMSPE)\n",
    "\n",
    "# explained variance score: 1 is perfect prediction\n",
    "print('Variance score: %.2f' % r2_score(y_test, SVR_pred))"
   ]
  },
  {
   "cell_type": "markdown",
   "metadata": {},
   "source": [
    "## ElasticNet"
   ]
  },
  {
   "cell_type": "code",
   "execution_count": 44,
   "metadata": {},
   "outputs": [
    {
     "name": "stdout",
     "output_type": "stream",
     "text": [
      "Coefficients: \n",
      " [  7.04789238e+00   1.97688552e+02   5.50528488e+01  -4.72993788e+01\n",
      "  -1.69857031e+01  -7.62542231e+00  -7.01984854e+00  -1.42764230e+02\n",
      "  -4.09105489e+01   2.97328581e+02  -1.02801292e+02   1.54456367e+02\n",
      "   3.50193131e+02   9.12388352e+01   7.48607420e+00  -5.10891383e+01\n",
      "   7.13835401e+01  -1.12188148e+00   2.97539213e-02   3.56374775e+00\n",
      "   2.11078136e+00  -1.68438293e+02   2.34255025e+01   3.71555822e+01\n",
      "   0.00000000e+00   6.74283200e+00   1.82666170e+01  -6.38808541e+00\n",
      "  -4.85919431e+00  -2.27442705e+00   6.87870954e+00  -9.72469943e+00\n",
      "  -2.54696407e+01  -2.57425084e+01  -0.00000000e+00   4.70901671e+01]\n",
      "Mean squared error: 2270791.12\n",
      "Root mean squared percentage error: 1506.91\n",
      "Variance score: 0.85\n"
     ]
    }
   ],
   "source": [
    "# source: http://scikit-learn.org/stable/modules/linear_model.html#elastic-net\n",
    "# less than 1 minute computation time\n",
    "\n",
    "from sklearn.linear_model import ElasticNet\n",
    "\n",
    "Elastic = ElasticNet()\n",
    "Elastic.fit(X_train, y_train)\n",
    "Elastic_pred = Elastic.predict(X_test)\n",
    "\n",
    "RMSPE = np.sqrt(mean_squared_error(y_test, Elastic_pred))\n",
    "\n",
    "\n",
    "# printing output coefficients\n",
    "\n",
    "print('Coefficients: \\n', Elastic.coef_)\n",
    "\n",
    "# mean squared error\n",
    "print('Mean squared error: %.2f'\n",
    "      % mean_squared_error(y_test, Elastic_pred))\n",
    "\n",
    "print('Root mean squared percentage error: %.2f' % RMSPE)\n",
    "\n",
    "# explained variance score: 1 is perfect prediction\n",
    "print('Variance score: %.2f' % r2_score(y_test, Elastic_pred))"
   ]
  },
  {
   "cell_type": "markdown",
   "metadata": {},
   "source": [
    "## Lasso"
   ]
  },
  {
   "cell_type": "code",
   "execution_count": 45,
   "metadata": {},
   "outputs": [
    {
     "name": "stdout",
     "output_type": "stream",
     "text": [
      "Coefficients: \n",
      " [  7.17018459e+00   8.82760702e+02   1.12387042e+02  -3.35910823e+02\n",
      "  -4.44144338e+02  -4.22666851e+02   3.62996166e+01  -3.05737770e+03\n",
      "  -1.07377039e+02   8.90395843e+02  -3.66488130e+03   2.42487398e+02\n",
      "   1.11268216e+03   1.74489119e+02   6.36175035e+00  -4.67178586e+01\n",
      "   9.39413692e+01  -9.28466953e+01   1.96742460e-02  -1.67348463e+00\n",
      "  -2.23587951e+00  -4.15935275e+01   1.27611937e+01   1.60348804e+02\n",
      "   0.00000000e+00   2.76010612e+00   2.67770002e+01  -4.40299258e+01\n",
      "  -8.47482107e+00   0.00000000e+00   3.80312791e+01  -8.47617969e+01\n",
      "  -1.39050508e+02  -1.01646188e+02   8.84751314e+01   6.65364994e+02]\n",
      "Mean squared error: 1438798.12\n",
      "Root mean squared percentage error: 1199.50\n",
      "Variance score: 0.91\n"
     ]
    }
   ],
   "source": [
    "# source: http://scikit-learn.org/stable/modules/linear_model.html#lasso\n",
    "# less than 1 minute computation time\n",
    "\n",
    "lasso = linear_model.Lasso()\n",
    "lasso.fit(X_train, y_train)\n",
    "lasso_pred = lasso.predict(X_test)\n",
    "\n",
    "RMSPE = np.sqrt(mean_squared_error(y_test, lasso_pred))\n",
    "\n",
    "\n",
    "# printing output coefficients\n",
    "\n",
    "print('Coefficients: \\n', lasso.coef_)\n",
    "\n",
    "# mean squared error\n",
    "print('Mean squared error: %.2f'\n",
    "      % mean_squared_error(y_test, lasso_pred))\n",
    "\n",
    "print('Root mean squared percentage error: %.2f' % RMSPE)\n",
    "\n",
    "# explained variance score: 1 is perfect prediction\n",
    "print('Variance score: %.2f' % r2_score(y_test, lasso_pred))"
   ]
  },
  {
   "cell_type": "markdown",
   "metadata": {},
   "source": [
    "## XGBoost regressor"
   ]
  },
  {
   "cell_type": "code",
   "execution_count": 62,
   "metadata": {},
   "outputs": [
    {
     "name": "stdout",
     "output_type": "stream",
     "text": [
      "Mean squared error: 908112.68\n",
      "Root mean squared percentage error: 952.95\n",
      "Variance score: 0.94\n"
     ]
    }
   ],
   "source": [
    "# source: https://machinelearningmastery.com/develop-first-xgboost-model-python-scikit-learn/\n",
    "# less than 5 minutes computation time\n",
    "\n",
    "from xgboost import XGBRegressor\n",
    "\n",
    "XGB = XGBRegressor()\n",
    "XGB.fit(X_train, y_train)\n",
    "XGB_pred = XGB.predict(X_test)\n",
    "\n",
    "RMSPE = np.sqrt(mean_squared_error(y_test, XGB_pred))\n",
    "\n",
    "\n",
    "# printing output coefficients\n",
    "\n",
    "# print('Coefficients: \\n', XGB.coef_)\n",
    "\n",
    "# mean squared error\n",
    "print('Mean squared error: %.2f'\n",
    "      % mean_squared_error(y_test, XGB_pred))\n",
    "\n",
    "print('Root mean squared percentage error: %.2f' % RMSPE)\n",
    "\n",
    "# explained variance score: 1 is perfect prediction\n",
    "print('Variance score: %.2f' % r2_score(y_test, XGB_pred))"
   ]
  },
  {
   "cell_type": "markdown",
   "metadata": {},
   "source": [
    "## MLP regressor"
   ]
  },
  {
   "cell_type": "code",
   "execution_count": 55,
   "metadata": {},
   "outputs": [
    {
     "name": "stdout",
     "output_type": "stream",
     "text": [
      "Mean squared error: 976428.37\n",
      "Root mean squared percentage error: 988.14\n",
      "Variance score: 0.94\n"
     ]
    }
   ],
   "source": [
    "# source: http://scikit-learn.org/stable/modules/generated/sklearn.neural_network.MLPRegressor.html\n",
    "# less than 5 minutes computation time\n",
    "\n",
    "from sklearn.neural_network import MLPRegressor\n",
    "\n",
    "MLP = MLPRegressor()\n",
    "MLP.fit(X_train, y_train)\n",
    "MLP_pred = MLP.predict(X_test)\n",
    "\n",
    "RMSPE = np.sqrt(mean_squared_error(y_test, MLP_pred))\n",
    "\n",
    "\n",
    "# printing output coefficients\n",
    "\n",
    "# print('Coefficients: \\n', MLP.coef_)\n",
    "\n",
    "# mean squared error\n",
    "print('Mean squared error: %.2f'\n",
    "      % mean_squared_error(y_test, MLP_pred))\n",
    "\n",
    "print('Root mean squared percentage error: %.2f' % RMSPE)\n",
    "\n",
    "# explained variance score: 1 is perfect prediction\n",
    "print('Variance score: %.2f' % r2_score(y_test, MLP_pred))"
   ]
  },
  {
   "cell_type": "markdown",
   "metadata": {},
   "source": [
    "## AdaBoost regressor"
   ]
  },
  {
   "cell_type": "code",
   "execution_count": 64,
   "metadata": {},
   "outputs": [
    {
     "name": "stdout",
     "output_type": "stream",
     "text": [
      "Mean squared error: 1437829.46\n",
      "Root mean squared percentage error: 1199.10\n",
      "Variance score: 0.91\n"
     ]
    }
   ],
   "source": [
    "# source: http://scikit-learn.org/stable/modules/generated/sklearn.ensemble.AdaBoostRegressor.html\n",
    "# less than 5 minutes computation time\n",
    "\n",
    "from sklearn.ensemble import AdaBoostRegressor\n",
    "\n",
    "Ada = AdaBoostRegressor(base_estimator=linear_model.LinearRegression(), learning_rate=0.005)\n",
    "Ada.fit(X_train, y_train)\n",
    "Ada_pred = Ada.predict(X_test)\n",
    "\n",
    "# if this doesn't work, use: \n",
    "# from sklearn.tree import DecisionTreeRegressor\n",
    "# DecisionTreeRegressor()\n",
    "\n",
    "RMSPE = np.sqrt(mean_squared_error(y_test, Ada_pred))\n",
    "\n",
    "\n",
    "# printing output coefficients\n",
    "\n",
    "# print('Coefficients: \\n', SVR.coef_)\n",
    "\n",
    "# mean squared error\n",
    "print('Mean squared error: %.2f'\n",
    "      % mean_squared_error(y_test, Ada_pred))\n",
    "\n",
    "print('Root mean squared percentage error: %.2f' % RMSPE)\n",
    "\n",
    "# explained variance score: 1 is perfect prediction\n",
    "print('Variance score: %.2f' % r2_score(y_test, Ada_pred))"
   ]
  },
  {
   "cell_type": "markdown",
   "metadata": {},
   "source": [
    "## Performance comparison"
   ]
  },
  {
   "cell_type": "code",
   "execution_count": null,
   "metadata": {},
   "outputs": [],
   "source": [
    "# source: https://stackoverflow.com/questions/10715965/add-one-row-in-a-pandas-dataframe\n",
    "\n",
    "scores = pandas.DataFrame(data = {'Regressor':['Linear'], 'MSE':[value], 'RMSPE':[value]})\n",
    "\n",
    "scores.append({'Regressor':'Name', 'MSE': value, 'RMSPE': value}, ignore_index=True)"
   ]
  },
  {
   "cell_type": "markdown",
   "metadata": {},
   "source": [
    "# Fine-tuning of three top-performing models"
   ]
  },
  {
   "cell_type": "code",
   "execution_count": null,
   "metadata": {},
   "outputs": [],
   "source": []
  },
  {
   "cell_type": "code",
   "execution_count": null,
   "metadata": {},
   "outputs": [],
   "source": []
  },
  {
   "cell_type": "code",
   "execution_count": null,
   "metadata": {},
   "outputs": [],
   "source": []
  },
  {
   "cell_type": "markdown",
   "metadata": {},
   "source": [
    "# Predicting the \"true\" dataset"
   ]
  },
  {
   "cell_type": "code",
   "execution_count": null,
   "metadata": {},
   "outputs": [],
   "source": []
  }
 ],
 "metadata": {
  "kernelspec": {
   "display_name": "Python 3",
   "language": "python",
   "name": "python3"
  },
  "language_info": {
   "codemirror_mode": {
    "name": "ipython",
    "version": 3
   },
   "file_extension": ".py",
   "mimetype": "text/x-python",
   "name": "python",
   "nbconvert_exporter": "python",
   "pygments_lexer": "ipython3",
   "version": "3.6.4"
  }
 },
 "nbformat": 4,
 "nbformat_minor": 2
}
