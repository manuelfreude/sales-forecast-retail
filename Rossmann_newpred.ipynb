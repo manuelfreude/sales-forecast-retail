{
 "cells": [
  {
   "cell_type": "markdown",
   "metadata": {},
   "source": [
    "# Capstone project: predict Rossmann's store sales\n",
    "\n",
    "## Manuel Freude, May 2018\n",
    "\n",
    "## Sales prediction code\n",
    "\n",
    "Report and library sheets will be provided separately\n",
    "\n",
    "### Exploratory data analysis"
   ]
  },
  {
   "cell_type": "code",
   "execution_count": 1,
   "metadata": {},
   "outputs": [
    {
     "name": "stdout",
     "output_type": "stream",
     "text": [
      "<class 'pandas.core.frame.DataFrame'>\n",
      "RangeIndex: 1017209 entries, 0 to 1017208\n",
      "Data columns (total 54 columns):\n",
      "Intercept                    1017209 non-null int64\n",
      "Store_ID                     1017209 non-null int64\n",
      "Customers                    1017209 non-null int64\n",
      "Sales                        1017209 non-null int64\n",
      "Open                         1017209 non-null int64\n",
      "H_None                       1017209 non-null int64\n",
      "H_Public                     1017209 non-null int64\n",
      "H_Easter                     1017209 non-null int64\n",
      "H_X-Mas                      1017209 non-null int64\n",
      "SchoolHoliday                1017209 non-null int64\n",
      "Type_A                       1017209 non-null int64\n",
      "Type_B                       1017209 non-null int64\n",
      "Type_C                       1017209 non-null int64\n",
      "Type_D                       1017209 non-null int64\n",
      "Assort_Basic                 1017209 non-null int64\n",
      "Assort_Extra                 1017209 non-null int64\n",
      "Assort_Extended              1017209 non-null int64\n",
      "Promo1                       1017209 non-null int64\n",
      "Promo2                       1017209 non-null int64\n",
      "Promo2SinceWeek              509178 non-null float64\n",
      "Promo2SinceYear              509178 non-null float64\n",
      "Promo2_Feb,May,Aug,Nov       1017209 non-null int64\n",
      "Promo2_Jan,Apr,Jul,Oct       1017209 non-null int64\n",
      "Promo2_Mar,Jun,Sept,Dec      1017209 non-null int64\n",
      "CompetitionDistance          1014567 non-null float64\n",
      "CompetitionOpenSinceMonth    693861 non-null float64\n",
      "CompetitionOpenSinceYear     693861 non-null float64\n",
      "Date                         1017209 non-null object\n",
      "DayOfMonth                   1017209 non-null int64\n",
      "DayOfWeek                    1017209 non-null int64\n",
      "Month                        1017209 non-null int64\n",
      "Year                         1017209 non-null int64\n",
      "2013                         1017209 non-null int64\n",
      "2014                         1017209 non-null int64\n",
      "2015                         1017209 non-null int64\n",
      "Jan                          1017209 non-null int64\n",
      "Feb                          1017209 non-null int64\n",
      "Mar                          1017209 non-null int64\n",
      "Apr                          1017209 non-null int64\n",
      "May                          1017209 non-null int64\n",
      "Jun                          1017209 non-null int64\n",
      "Jul                          1017209 non-null int64\n",
      "Aug                          1017209 non-null int64\n",
      "Sep                          1017209 non-null int64\n",
      "Oct                          1017209 non-null int64\n",
      "Nov                          1017209 non-null int64\n",
      "Dec                          1017209 non-null int64\n",
      "Mon                          1017209 non-null int64\n",
      "Tue                          1017209 non-null int64\n",
      "Wed                          1017209 non-null int64\n",
      "Thu                          1017209 non-null int64\n",
      "Fri                          1017209 non-null int64\n",
      "Sat                          1017209 non-null int64\n",
      "Sun                          1017209 non-null int64\n",
      "dtypes: float64(5), int64(48), object(1)\n",
      "memory usage: 419.1+ MB\n"
     ]
    }
   ],
   "source": [
    "import pandas as pd\n",
    "import numpy as np\n",
    "from matplotlib import pyplot\n",
    "import matplotlib as plt\n",
    "import seaborn as sns\n",
    "from datetime import datetime\n",
    "%matplotlib inline\n",
    "\n",
    "data = pd.read_csv('cleaned_dataset.csv')\n",
    "data.drop(columns=['Unnamed: 0'] , inplace=True)\n",
    "\n",
    "data.info()"
   ]
  },
  {
   "cell_type": "code",
   "execution_count": 2,
   "metadata": {},
   "outputs": [
    {
     "data": {
      "text/html": [
       "<div>\n",
       "<style scoped>\n",
       "    .dataframe tbody tr th:only-of-type {\n",
       "        vertical-align: middle;\n",
       "    }\n",
       "\n",
       "    .dataframe tbody tr th {\n",
       "        vertical-align: top;\n",
       "    }\n",
       "\n",
       "    .dataframe thead th {\n",
       "        text-align: right;\n",
       "    }\n",
       "</style>\n",
       "<table border=\"1\" class=\"dataframe\">\n",
       "  <thead>\n",
       "    <tr style=\"text-align: right;\">\n",
       "      <th></th>\n",
       "      <th>Intercept</th>\n",
       "      <th>Store_ID</th>\n",
       "      <th>Customers</th>\n",
       "      <th>Sales</th>\n",
       "      <th>Open</th>\n",
       "      <th>H_None</th>\n",
       "      <th>H_Public</th>\n",
       "      <th>H_Easter</th>\n",
       "      <th>H_X-Mas</th>\n",
       "      <th>SchoolHoliday</th>\n",
       "      <th>...</th>\n",
       "      <th>Oct</th>\n",
       "      <th>Nov</th>\n",
       "      <th>Dec</th>\n",
       "      <th>Mon</th>\n",
       "      <th>Tue</th>\n",
       "      <th>Wed</th>\n",
       "      <th>Thu</th>\n",
       "      <th>Fri</th>\n",
       "      <th>Sat</th>\n",
       "      <th>Sun</th>\n",
       "    </tr>\n",
       "  </thead>\n",
       "  <tbody>\n",
       "    <tr>\n",
       "      <th>0</th>\n",
       "      <td>1</td>\n",
       "      <td>1</td>\n",
       "      <td>555</td>\n",
       "      <td>5263</td>\n",
       "      <td>1</td>\n",
       "      <td>1</td>\n",
       "      <td>0</td>\n",
       "      <td>0</td>\n",
       "      <td>0</td>\n",
       "      <td>1</td>\n",
       "      <td>...</td>\n",
       "      <td>0</td>\n",
       "      <td>0</td>\n",
       "      <td>0</td>\n",
       "      <td>0</td>\n",
       "      <td>0</td>\n",
       "      <td>0</td>\n",
       "      <td>0</td>\n",
       "      <td>1</td>\n",
       "      <td>0</td>\n",
       "      <td>0</td>\n",
       "    </tr>\n",
       "    <tr>\n",
       "      <th>1</th>\n",
       "      <td>1</td>\n",
       "      <td>1</td>\n",
       "      <td>546</td>\n",
       "      <td>5020</td>\n",
       "      <td>1</td>\n",
       "      <td>1</td>\n",
       "      <td>0</td>\n",
       "      <td>0</td>\n",
       "      <td>0</td>\n",
       "      <td>1</td>\n",
       "      <td>...</td>\n",
       "      <td>0</td>\n",
       "      <td>0</td>\n",
       "      <td>0</td>\n",
       "      <td>0</td>\n",
       "      <td>0</td>\n",
       "      <td>0</td>\n",
       "      <td>1</td>\n",
       "      <td>0</td>\n",
       "      <td>0</td>\n",
       "      <td>0</td>\n",
       "    </tr>\n",
       "    <tr>\n",
       "      <th>2</th>\n",
       "      <td>1</td>\n",
       "      <td>1</td>\n",
       "      <td>523</td>\n",
       "      <td>4782</td>\n",
       "      <td>1</td>\n",
       "      <td>1</td>\n",
       "      <td>0</td>\n",
       "      <td>0</td>\n",
       "      <td>0</td>\n",
       "      <td>1</td>\n",
       "      <td>...</td>\n",
       "      <td>0</td>\n",
       "      <td>0</td>\n",
       "      <td>0</td>\n",
       "      <td>0</td>\n",
       "      <td>0</td>\n",
       "      <td>1</td>\n",
       "      <td>0</td>\n",
       "      <td>0</td>\n",
       "      <td>0</td>\n",
       "      <td>0</td>\n",
       "    </tr>\n",
       "    <tr>\n",
       "      <th>3</th>\n",
       "      <td>1</td>\n",
       "      <td>1</td>\n",
       "      <td>560</td>\n",
       "      <td>5011</td>\n",
       "      <td>1</td>\n",
       "      <td>1</td>\n",
       "      <td>0</td>\n",
       "      <td>0</td>\n",
       "      <td>0</td>\n",
       "      <td>1</td>\n",
       "      <td>...</td>\n",
       "      <td>0</td>\n",
       "      <td>0</td>\n",
       "      <td>0</td>\n",
       "      <td>0</td>\n",
       "      <td>1</td>\n",
       "      <td>0</td>\n",
       "      <td>0</td>\n",
       "      <td>0</td>\n",
       "      <td>0</td>\n",
       "      <td>0</td>\n",
       "    </tr>\n",
       "    <tr>\n",
       "      <th>4</th>\n",
       "      <td>1</td>\n",
       "      <td>1</td>\n",
       "      <td>612</td>\n",
       "      <td>6102</td>\n",
       "      <td>1</td>\n",
       "      <td>1</td>\n",
       "      <td>0</td>\n",
       "      <td>0</td>\n",
       "      <td>0</td>\n",
       "      <td>1</td>\n",
       "      <td>...</td>\n",
       "      <td>0</td>\n",
       "      <td>0</td>\n",
       "      <td>0</td>\n",
       "      <td>1</td>\n",
       "      <td>0</td>\n",
       "      <td>0</td>\n",
       "      <td>0</td>\n",
       "      <td>0</td>\n",
       "      <td>0</td>\n",
       "      <td>0</td>\n",
       "    </tr>\n",
       "  </tbody>\n",
       "</table>\n",
       "<p>5 rows × 54 columns</p>\n",
       "</div>"
      ],
      "text/plain": [
       "   Intercept Store_ID  Customers  Sales  Open  H_None  H_Public  H_Easter  \\\n",
       "0          1        1        555   5263     1       1         0         0   \n",
       "1          1        1        546   5020     1       1         0         0   \n",
       "2          1        1        523   4782     1       1         0         0   \n",
       "3          1        1        560   5011     1       1         0         0   \n",
       "4          1        1        612   6102     1       1         0         0   \n",
       "\n",
       "   H_X-Mas  SchoolHoliday ...   Oct  Nov  Dec  Mon  Tue  Wed  Thu  Fri  Sat  \\\n",
       "0        0              1 ...     0    0    0    0    0    0    0    1    0   \n",
       "1        0              1 ...     0    0    0    0    0    0    1    0    0   \n",
       "2        0              1 ...     0    0    0    0    0    1    0    0    0   \n",
       "3        0              1 ...     0    0    0    0    1    0    0    0    0   \n",
       "4        0              1 ...     0    0    0    1    0    0    0    0    0   \n",
       "\n",
       "   Sun  \n",
       "0    0  \n",
       "1    0  \n",
       "2    0  \n",
       "3    0  \n",
       "4    0  \n",
       "\n",
       "[5 rows x 54 columns]"
      ]
     },
     "execution_count": 2,
     "metadata": {},
     "output_type": "execute_result"
    }
   ],
   "source": [
    "# changing Store_ID datatype and looking at the head\n",
    "\n",
    "data['Store_ID'] = data['Store_ID'].astype(object, inplace=True)\n",
    "\n",
    "data.head()"
   ]
  },
  {
   "cell_type": "markdown",
   "metadata": {},
   "source": [
    "There are many dummy variables in the dataset, but also numerical ones. For the numerical ones, I need to check if they are rather normally distributed so that they fit the regression approach. I will do this with the following ones: \n",
    "- Customers\n",
    "- Sales\n",
    "- DayOfMonth\n",
    "- DayOfWeek\n",
    "- Month\n",
    "- Year"
   ]
  },
  {
   "cell_type": "code",
   "execution_count": 3,
   "metadata": {},
   "outputs": [
    {
     "data": {
      "image/png": "[encoded data removed]",
      "text/plain": [
       "<Figure size 432x288 with 1 Axes>"
      ]
     },
     "metadata": {},
     "output_type": "display_data"
    }
   ],
   "source": [
    "# plotting customers\n",
    "\n",
    "pyplot.hist(data['Customers'], bins=100)\n",
    "pyplot.ylabel('Number of customers per day in dataset')\n",
    "pyplot.xlabel('Customers per day');"
   ]
  },
  {
   "cell_type": "code",
   "execution_count": 4,
   "metadata": {},
   "outputs": [
    {
     "data": {
      "text/plain": [
       "0      172869\n",
       "560      2414\n",
       "576      2363\n",
       "603      2337\n",
       "571      2330\n",
       "Name: Customers, dtype: int64"
      ]
     },
     "execution_count": 4,
     "metadata": {},
     "output_type": "execute_result"
    }
   ],
   "source": [
    "# checkig on the lower outlier\n",
    "\n",
    "# source: https://stackoverflow.com/questions/35364601/group-by-and-find-top-n-value-counts-pandas\n",
    "\n",
    "data['Customers'].value_counts().nlargest(5)"
   ]
  },
  {
   "cell_type": "markdown",
   "metadata": {},
   "source": [
    "This looks rather normally distributed. There are abnormalities where the customer number is zero. This might either indicated that the shop was not visited at all that day or it was a holiday etc., in that case I would expect the sales numbers to also be zero in many cases. "
   ]
  },
  {
   "cell_type": "code",
   "execution_count": 5,
   "metadata": {},
   "outputs": [
    {
     "data": {
      "image/png": "[encoded data removed]",
      "text/plain": [
       "<Figure size 432x288 with 1 Axes>"
      ]
     },
     "metadata": {},
     "output_type": "display_data"
    }
   ],
   "source": [
    "# plotting sales\n",
    "\n",
    "pyplot.hist(data['Sales'], bins=100)\n",
    "pyplot.ylabel('Number of sales per day in dataset')\n",
    "pyplot.xlabel('Sales per day');"
   ]
  },
  {
   "cell_type": "code",
   "execution_count": 6,
   "metadata": {},
   "outputs": [
    {
     "data": {
      "text/plain": [
       "0       172871\n",
       "5674       215\n",
       "5558       197\n",
       "5483       196\n",
       "6049       195\n",
       "Name: Sales, dtype: int64"
      ]
     },
     "execution_count": 6,
     "metadata": {},
     "output_type": "execute_result"
    }
   ],
   "source": [
    "# checkig on the lower outlier\n",
    "\n",
    "data['Sales'].value_counts().nlargest(5)"
   ]
  },
  {
   "cell_type": "markdown",
   "metadata": {},
   "source": [
    "Similar to customers, the data looks rather normally distributed except for the zero. The number of zeros is very high and almost the same as for the customers number. It might make sense to later on take a subset of the data to exclude the zeros and check how the regressions perform. The holidays will loose their relevancy in that case."
   ]
  },
  {
   "cell_type": "code",
   "execution_count": 7,
   "metadata": {},
   "outputs": [
    {
     "data": {
      "image/png": "[encoded data removed]",
      "text/plain": [
       "<Figure size 432x288 with 1 Axes>"
      ]
     },
     "metadata": {},
     "output_type": "display_data"
    }
   ],
   "source": [
    "# plotting day of month\n",
    "\n",
    "pyplot.hist(data['DayOfMonth'], bins=31)\n",
    "pyplot.ylabel('Number of day of month in dataset')\n",
    "pyplot.xlabel('Day of month');"
   ]
  },
  {
   "cell_type": "markdown",
   "metadata": {},
   "source": [
    "Days of month look well-distributed. I was testing if there are any ones really low, but that's not the case. After 28, they decrease due to February usually not having more than 28 days and many months not having 31 days."
   ]
  },
  {
   "cell_type": "code",
   "execution_count": 8,
   "metadata": {},
   "outputs": [
    {
     "data": {
      "image/png": "[encoded data removed]",
      "text/plain": [
       "<Figure size 432x288 with 1 Axes>"
      ]
     },
     "metadata": {},
     "output_type": "display_data"
    }
   ],
   "source": [
    "# plotting day of week\n",
    "\n",
    "pyplot.hist(data['DayOfWeek'], bins=7)\n",
    "pyplot.ylabel('Number of day of week in dataset')\n",
    "pyplot.xlabel('Day of week');"
   ]
  },
  {
   "cell_type": "code",
   "execution_count": 9,
   "metadata": {},
   "outputs": [
    {
     "data": {
      "text/plain": [
       "5    145845\n",
       "4    145845\n",
       "3    145665\n",
       "2    145664\n",
       "7    144730\n",
       "6    144730\n",
       "1    144730\n",
       "Name: DayOfWeek, dtype: int64"
      ]
     },
     "execution_count": 9,
     "metadata": {},
     "output_type": "execute_result"
    }
   ],
   "source": [
    "# checking some numbers\n",
    "\n",
    "data['DayOfWeek'].value_counts()"
   ]
  },
  {
   "cell_type": "markdown",
   "metadata": {},
   "source": [
    "Sundays are also included, might be days with low sales because shops would be closed most of the time."
   ]
  },
  {
   "cell_type": "code",
   "execution_count": 10,
   "metadata": {},
   "outputs": [
    {
     "data": {
      "image/png": "[encoded data removed]",
      "text/plain": [
       "<Figure size 432x288 with 1 Axes>"
      ]
     },
     "metadata": {},
     "output_type": "display_data"
    }
   ],
   "source": [
    "# plotting month\n",
    "\n",
    "pyplot.hist(data['Month'], bins=12)\n",
    "pyplot.ylabel('Number of months in dataset')\n",
    "pyplot.xlabel('Months (in numbers)');"
   ]
  },
  {
   "cell_type": "code",
   "execution_count": 11,
   "metadata": {},
   "outputs": [
    {
     "data": {
      "text/plain": [
       "5     103695\n",
       "3     103695\n",
       "1     103694\n",
       "6     100350\n",
       "4     100350\n",
       "7      98115\n",
       "2      93660\n",
       "12     63550\n",
       "10     63550\n",
       "8      63550\n",
       "11     61500\n",
       "9      61500\n",
       "Name: Month, dtype: int64"
      ]
     },
     "execution_count": 11,
     "metadata": {},
     "output_type": "execute_result"
    }
   ],
   "source": [
    "# checking some numbers\n",
    "\n",
    "data['Month'].value_counts()"
   ]
  },
  {
   "cell_type": "markdown",
   "metadata": {},
   "source": [
    "All months are included. The second half of the year a little less, due to the structure of the provided data, which is not covering full years 2013 through 2015."
   ]
  },
  {
   "cell_type": "code",
   "execution_count": 12,
   "metadata": {},
   "outputs": [
    {
     "data": {
      "image/png": "[encoded data removed]",
      "text/plain": [
       "<Figure size 432x288 with 1 Axes>"
      ]
     },
     "metadata": {},
     "output_type": "display_data"
    }
   ],
   "source": [
    "# plotting year\n",
    "\n",
    "pyplot.hist(data['Year'], bins=3)\n",
    "pyplot.xticks(rotation=45);"
   ]
  },
  {
   "cell_type": "code",
   "execution_count": 13,
   "metadata": {},
   "outputs": [
    {
     "data": {
      "text/plain": [
       "2013    406974\n",
       "2014    373855\n",
       "2015    236380\n",
       "Name: Year, dtype: int64"
      ]
     },
     "execution_count": 13,
     "metadata": {},
     "output_type": "execute_result"
    }
   ],
   "source": [
    "# checking some numbers\n",
    "\n",
    "data['Year'].value_counts()"
   ]
  },
  {
   "cell_type": "markdown",
   "metadata": {},
   "source": [
    "Here we can see that we have less data for 2015, as guessed above. So overall, the data looks good for analysis. Next step is to split the dataset into train, test and true set. "
   ]
  },
  {
   "cell_type": "markdown",
   "metadata": {},
   "source": [
    "#### Multiple instance time series split"
   ]
  },
  {
   "cell_type": "code",
   "execution_count": 14,
   "metadata": {},
   "outputs": [
    {
     "data": {
      "text/html": [
       "<div>\n",
       "<style scoped>\n",
       "    .dataframe tbody tr th:only-of-type {\n",
       "        vertical-align: middle;\n",
       "    }\n",
       "\n",
       "    .dataframe tbody tr th {\n",
       "        vertical-align: top;\n",
       "    }\n",
       "\n",
       "    .dataframe thead th {\n",
       "        text-align: right;\n",
       "    }\n",
       "</style>\n",
       "<table border=\"1\" class=\"dataframe\">\n",
       "  <thead>\n",
       "    <tr style=\"text-align: right;\">\n",
       "      <th></th>\n",
       "      <th>Intercept</th>\n",
       "      <th>Store_ID</th>\n",
       "      <th>Customers</th>\n",
       "      <th>Sales</th>\n",
       "      <th>Open</th>\n",
       "      <th>H_None</th>\n",
       "      <th>H_Public</th>\n",
       "      <th>H_Easter</th>\n",
       "      <th>H_X-Mas</th>\n",
       "      <th>SchoolHoliday</th>\n",
       "      <th>...</th>\n",
       "      <th>Oct</th>\n",
       "      <th>Nov</th>\n",
       "      <th>Dec</th>\n",
       "      <th>Mon</th>\n",
       "      <th>Tue</th>\n",
       "      <th>Wed</th>\n",
       "      <th>Thu</th>\n",
       "      <th>Fri</th>\n",
       "      <th>Sat</th>\n",
       "      <th>Sun</th>\n",
       "    </tr>\n",
       "  </thead>\n",
       "  <tbody>\n",
       "    <tr>\n",
       "      <th>1017208</th>\n",
       "      <td>1</td>\n",
       "      <td>1115</td>\n",
       "      <td>0</td>\n",
       "      <td>0</td>\n",
       "      <td>0</td>\n",
       "      <td>0</td>\n",
       "      <td>1</td>\n",
       "      <td>0</td>\n",
       "      <td>0</td>\n",
       "      <td>1</td>\n",
       "      <td>...</td>\n",
       "      <td>0</td>\n",
       "      <td>0</td>\n",
       "      <td>0</td>\n",
       "      <td>0</td>\n",
       "      <td>1</td>\n",
       "      <td>0</td>\n",
       "      <td>0</td>\n",
       "      <td>0</td>\n",
       "      <td>0</td>\n",
       "      <td>0</td>\n",
       "    </tr>\n",
       "    <tr>\n",
       "      <th>679363</th>\n",
       "      <td>1</td>\n",
       "      <td>746</td>\n",
       "      <td>0</td>\n",
       "      <td>0</td>\n",
       "      <td>0</td>\n",
       "      <td>0</td>\n",
       "      <td>1</td>\n",
       "      <td>0</td>\n",
       "      <td>0</td>\n",
       "      <td>1</td>\n",
       "      <td>...</td>\n",
       "      <td>0</td>\n",
       "      <td>0</td>\n",
       "      <td>0</td>\n",
       "      <td>0</td>\n",
       "      <td>1</td>\n",
       "      <td>0</td>\n",
       "      <td>0</td>\n",
       "      <td>0</td>\n",
       "      <td>0</td>\n",
       "      <td>0</td>\n",
       "    </tr>\n",
       "    <tr>\n",
       "      <th>155193</th>\n",
       "      <td>1</td>\n",
       "      <td>171</td>\n",
       "      <td>0</td>\n",
       "      <td>0</td>\n",
       "      <td>0</td>\n",
       "      <td>0</td>\n",
       "      <td>1</td>\n",
       "      <td>0</td>\n",
       "      <td>0</td>\n",
       "      <td>1</td>\n",
       "      <td>...</td>\n",
       "      <td>0</td>\n",
       "      <td>0</td>\n",
       "      <td>0</td>\n",
       "      <td>0</td>\n",
       "      <td>1</td>\n",
       "      <td>0</td>\n",
       "      <td>0</td>\n",
       "      <td>0</td>\n",
       "      <td>0</td>\n",
       "      <td>0</td>\n",
       "    </tr>\n",
       "    <tr>\n",
       "      <th>632403</th>\n",
       "      <td>1</td>\n",
       "      <td>694</td>\n",
       "      <td>0</td>\n",
       "      <td>0</td>\n",
       "      <td>0</td>\n",
       "      <td>0</td>\n",
       "      <td>1</td>\n",
       "      <td>0</td>\n",
       "      <td>0</td>\n",
       "      <td>1</td>\n",
       "      <td>...</td>\n",
       "      <td>0</td>\n",
       "      <td>0</td>\n",
       "      <td>0</td>\n",
       "      <td>0</td>\n",
       "      <td>1</td>\n",
       "      <td>0</td>\n",
       "      <td>0</td>\n",
       "      <td>0</td>\n",
       "      <td>0</td>\n",
       "      <td>0</td>\n",
       "    </tr>\n",
       "    <tr>\n",
       "      <th>361623</th>\n",
       "      <td>1</td>\n",
       "      <td>396</td>\n",
       "      <td>0</td>\n",
       "      <td>0</td>\n",
       "      <td>0</td>\n",
       "      <td>0</td>\n",
       "      <td>1</td>\n",
       "      <td>0</td>\n",
       "      <td>0</td>\n",
       "      <td>1</td>\n",
       "      <td>...</td>\n",
       "      <td>0</td>\n",
       "      <td>0</td>\n",
       "      <td>0</td>\n",
       "      <td>0</td>\n",
       "      <td>1</td>\n",
       "      <td>0</td>\n",
       "      <td>0</td>\n",
       "      <td>0</td>\n",
       "      <td>0</td>\n",
       "      <td>0</td>\n",
       "    </tr>\n",
       "  </tbody>\n",
       "</table>\n",
       "<p>5 rows × 54 columns</p>\n",
       "</div>"
      ],
      "text/plain": [
       "         Intercept Store_ID  Customers  Sales  Open  H_None  H_Public  \\\n",
       "1017208          1     1115          0      0     0       0         1   \n",
       "679363           1      746          0      0     0       0         1   \n",
       "155193           1      171          0      0     0       0         1   \n",
       "632403           1      694          0      0     0       0         1   \n",
       "361623           1      396          0      0     0       0         1   \n",
       "\n",
       "         H_Easter  H_X-Mas  SchoolHoliday ...   Oct  Nov  Dec  Mon  Tue  Wed  \\\n",
       "1017208         0        0              1 ...     0    0    0    0    1    0   \n",
       "679363          0        0              1 ...     0    0    0    0    1    0   \n",
       "155193          0        0              1 ...     0    0    0    0    1    0   \n",
       "632403          0        0              1 ...     0    0    0    0    1    0   \n",
       "361623          0        0              1 ...     0    0    0    0    1    0   \n",
       "\n",
       "         Thu  Fri  Sat  Sun  \n",
       "1017208    0    0    0    0  \n",
       "679363     0    0    0    0  \n",
       "155193     0    0    0    0  \n",
       "632403     0    0    0    0  \n",
       "361623     0    0    0    0  \n",
       "\n",
       "[5 rows x 54 columns]"
      ]
     },
     "execution_count": 14,
     "metadata": {},
     "output_type": "execute_result"
    }
   ],
   "source": [
    "# making sure we sort the dataset by date to set ground for time series split\n",
    "\n",
    "data.sort_values('Date', inplace=True);\n",
    "\n",
    "data.head()"
   ]
  },
  {
   "cell_type": "code",
   "execution_count": 15,
   "metadata": {},
   "outputs": [
    {
     "data": {
      "text/plain": [
       "1017208    2013-01-01\n",
       "679363     2013-01-01\n",
       "155193     2013-01-01\n",
       "632403     2013-01-01\n",
       "361623     2013-01-01\n",
       "177271     2013-01-01\n",
       "246633     2013-01-01\n",
       "29407      2013-01-01\n",
       "401231     2013-01-01\n",
       "994762     2013-01-01\n",
       "Name: Date, dtype: object"
      ]
     },
     "execution_count": 15,
     "metadata": {},
     "output_type": "execute_result"
    }
   ],
   "source": [
    "data['Date'].head(10)"
   ]
  },
  {
   "cell_type": "code",
   "execution_count": 16,
   "metadata": {},
   "outputs": [
    {
     "data": {
      "text/plain": [
       "812458    2015-07-31\n",
       "559230    2015-07-31\n",
       "886552    2015-07-31\n",
       "94082     2015-07-31\n",
       "558288    2015-07-31\n",
       "557530    2015-07-31\n",
       "212332    2015-07-31\n",
       "982701    2015-07-31\n",
       "769288    2015-07-31\n",
       "0         2015-07-31\n",
       "Name: Date, dtype: object"
      ]
     },
     "execution_count": 16,
     "metadata": {},
     "output_type": "execute_result"
    }
   ],
   "source": [
    "data['Date'].tail(10)"
   ]
  },
  {
   "cell_type": "code",
   "execution_count": 17,
   "metadata": {},
   "outputs": [
    {
     "name": "stdout",
     "output_type": "stream",
     "text": [
      "Observations: 1017209\n",
      "Training Observations: 712046\n",
      "Testing Observations: 152581\n",
      "\"True\" Observations: 152582\n"
     ]
    }
   ],
   "source": [
    "# source: https://machinelearningmastery.com/backtest-machine-learning-models-time-series-forecasting/\n",
    "\n",
    "train_size = int(len(data['Date']) * 0.70)\n",
    "test_size = int(len(data['Date']) * 0.85)\n",
    "train, test, true = data[0:train_size], data[train_size:test_size], data[test_size:len(data['Date'])]\n",
    "print('Observations: %d' % (len(data)))\n",
    "print('Training Observations: %d' % (len(train)))\n",
    "print('Testing Observations: %d' % (len(test)))\n",
    "print('\"True\" Observations: %d' % (len(true)))"
   ]
  },
  {
   "cell_type": "code",
   "execution_count": 18,
   "metadata": {},
   "outputs": [
    {
     "data": {
      "text/html": [
       "<div>\n",
       "<style scoped>\n",
       "    .dataframe tbody tr th:only-of-type {\n",
       "        vertical-align: middle;\n",
       "    }\n",
       "\n",
       "    .dataframe tbody tr th {\n",
       "        vertical-align: top;\n",
       "    }\n",
       "\n",
       "    .dataframe thead th {\n",
       "        text-align: right;\n",
       "    }\n",
       "</style>\n",
       "<table border=\"1\" class=\"dataframe\">\n",
       "  <thead>\n",
       "    <tr style=\"text-align: right;\">\n",
       "      <th></th>\n",
       "      <th>Intercept</th>\n",
       "      <th>Store_ID</th>\n",
       "      <th>Customers</th>\n",
       "      <th>Sales</th>\n",
       "      <th>Open</th>\n",
       "      <th>H_None</th>\n",
       "      <th>H_Public</th>\n",
       "      <th>H_Easter</th>\n",
       "      <th>H_X-Mas</th>\n",
       "      <th>SchoolHoliday</th>\n",
       "      <th>...</th>\n",
       "      <th>Oct</th>\n",
       "      <th>Nov</th>\n",
       "      <th>Dec</th>\n",
       "      <th>Mon</th>\n",
       "      <th>Tue</th>\n",
       "      <th>Wed</th>\n",
       "      <th>Thu</th>\n",
       "      <th>Fri</th>\n",
       "      <th>Sat</th>\n",
       "      <th>Sun</th>\n",
       "    </tr>\n",
       "  </thead>\n",
       "  <tbody>\n",
       "    <tr>\n",
       "      <th>1017208</th>\n",
       "      <td>1</td>\n",
       "      <td>1115</td>\n",
       "      <td>0</td>\n",
       "      <td>0</td>\n",
       "      <td>0</td>\n",
       "      <td>0</td>\n",
       "      <td>1</td>\n",
       "      <td>0</td>\n",
       "      <td>0</td>\n",
       "      <td>1</td>\n",
       "      <td>...</td>\n",
       "      <td>0</td>\n",
       "      <td>0</td>\n",
       "      <td>0</td>\n",
       "      <td>0</td>\n",
       "      <td>1</td>\n",
       "      <td>0</td>\n",
       "      <td>0</td>\n",
       "      <td>0</td>\n",
       "      <td>0</td>\n",
       "      <td>0</td>\n",
       "    </tr>\n",
       "    <tr>\n",
       "      <th>679363</th>\n",
       "      <td>1</td>\n",
       "      <td>746</td>\n",
       "      <td>0</td>\n",
       "      <td>0</td>\n",
       "      <td>0</td>\n",
       "      <td>0</td>\n",
       "      <td>1</td>\n",
       "      <td>0</td>\n",
       "      <td>0</td>\n",
       "      <td>1</td>\n",
       "      <td>...</td>\n",
       "      <td>0</td>\n",
       "      <td>0</td>\n",
       "      <td>0</td>\n",
       "      <td>0</td>\n",
       "      <td>1</td>\n",
       "      <td>0</td>\n",
       "      <td>0</td>\n",
       "      <td>0</td>\n",
       "      <td>0</td>\n",
       "      <td>0</td>\n",
       "    </tr>\n",
       "    <tr>\n",
       "      <th>155193</th>\n",
       "      <td>1</td>\n",
       "      <td>171</td>\n",
       "      <td>0</td>\n",
       "      <td>0</td>\n",
       "      <td>0</td>\n",
       "      <td>0</td>\n",
       "      <td>1</td>\n",
       "      <td>0</td>\n",
       "      <td>0</td>\n",
       "      <td>1</td>\n",
       "      <td>...</td>\n",
       "      <td>0</td>\n",
       "      <td>0</td>\n",
       "      <td>0</td>\n",
       "      <td>0</td>\n",
       "      <td>1</td>\n",
       "      <td>0</td>\n",
       "      <td>0</td>\n",
       "      <td>0</td>\n",
       "      <td>0</td>\n",
       "      <td>0</td>\n",
       "    </tr>\n",
       "    <tr>\n",
       "      <th>632403</th>\n",
       "      <td>1</td>\n",
       "      <td>694</td>\n",
       "      <td>0</td>\n",
       "      <td>0</td>\n",
       "      <td>0</td>\n",
       "      <td>0</td>\n",
       "      <td>1</td>\n",
       "      <td>0</td>\n",
       "      <td>0</td>\n",
       "      <td>1</td>\n",
       "      <td>...</td>\n",
       "      <td>0</td>\n",
       "      <td>0</td>\n",
       "      <td>0</td>\n",
       "      <td>0</td>\n",
       "      <td>1</td>\n",
       "      <td>0</td>\n",
       "      <td>0</td>\n",
       "      <td>0</td>\n",
       "      <td>0</td>\n",
       "      <td>0</td>\n",
       "    </tr>\n",
       "    <tr>\n",
       "      <th>361623</th>\n",
       "      <td>1</td>\n",
       "      <td>396</td>\n",
       "      <td>0</td>\n",
       "      <td>0</td>\n",
       "      <td>0</td>\n",
       "      <td>0</td>\n",
       "      <td>1</td>\n",
       "      <td>0</td>\n",
       "      <td>0</td>\n",
       "      <td>1</td>\n",
       "      <td>...</td>\n",
       "      <td>0</td>\n",
       "      <td>0</td>\n",
       "      <td>0</td>\n",
       "      <td>0</td>\n",
       "      <td>1</td>\n",
       "      <td>0</td>\n",
       "      <td>0</td>\n",
       "      <td>0</td>\n",
       "      <td>0</td>\n",
       "      <td>0</td>\n",
       "    </tr>\n",
       "  </tbody>\n",
       "</table>\n",
       "<p>5 rows × 54 columns</p>\n",
       "</div>"
      ],
      "text/plain": [
       "         Intercept Store_ID  Customers  Sales  Open  H_None  H_Public  \\\n",
       "1017208          1     1115          0      0     0       0         1   \n",
       "679363           1      746          0      0     0       0         1   \n",
       "155193           1      171          0      0     0       0         1   \n",
       "632403           1      694          0      0     0       0         1   \n",
       "361623           1      396          0      0     0       0         1   \n",
       "\n",
       "         H_Easter  H_X-Mas  SchoolHoliday ...   Oct  Nov  Dec  Mon  Tue  Wed  \\\n",
       "1017208         0        0              1 ...     0    0    0    0    1    0   \n",
       "679363          0        0              1 ...     0    0    0    0    1    0   \n",
       "155193          0        0              1 ...     0    0    0    0    1    0   \n",
       "632403          0        0              1 ...     0    0    0    0    1    0   \n",
       "361623          0        0              1 ...     0    0    0    0    1    0   \n",
       "\n",
       "         Thu  Fri  Sat  Sun  \n",
       "1017208    0    0    0    0  \n",
       "679363     0    0    0    0  \n",
       "155193     0    0    0    0  \n",
       "632403     0    0    0    0  \n",
       "361623     0    0    0    0  \n",
       "\n",
       "[5 rows x 54 columns]"
      ]
     },
     "execution_count": 18,
     "metadata": {},
     "output_type": "execute_result"
    }
   ],
   "source": [
    "# comparing heads and info to make sure worked properly (train)\n",
    "\n",
    "train.head()"
   ]
  },
  {
   "cell_type": "code",
   "execution_count": 19,
   "metadata": {},
   "outputs": [
    {
     "data": {
      "text/plain": [
       "1017208    2013-01-01\n",
       "679363     2013-01-01\n",
       "155193     2013-01-01\n",
       "632403     2013-01-01\n",
       "361623     2013-01-01\n",
       "Name: Date, dtype: object"
      ]
     },
     "execution_count": 19,
     "metadata": {},
     "output_type": "execute_result"
    }
   ],
   "source": [
    "# comparing heads and info to make sure worked properly (train)\n",
    "\n",
    "train['Date'].head()"
   ]
  },
  {
   "cell_type": "code",
   "execution_count": 20,
   "metadata": {},
   "outputs": [
    {
     "data": {
      "text/plain": [
       "233157    2014-10-19\n",
       "507293    2014-10-19\n",
       "477311    2014-10-19\n",
       "799165    2014-10-19\n",
       "401517    2014-10-19\n",
       "Name: Date, dtype: object"
      ]
     },
     "execution_count": 20,
     "metadata": {},
     "output_type": "execute_result"
    }
   ],
   "source": [
    "# comparing heads and info to make sure worked properly (train)\n",
    "\n",
    "train['Date'].tail()"
   ]
  },
  {
   "cell_type": "code",
   "execution_count": 21,
   "metadata": {},
   "outputs": [
    {
     "data": {
      "image/png": "[encoded data removed]",
      "text/plain": [
       "<Figure size 432x288 with 1 Axes>"
      ]
     },
     "metadata": {},
     "output_type": "display_data"
    }
   ],
   "source": [
    "# plotting early 60% of sales per day for selected shop\n",
    "\n",
    "x = train.loc[train['Store_ID'] == 100]\n",
    "x = x['Date']\n",
    "y = train.loc[train['Store_ID'] == 100]\n",
    "y = y['Sales']\n",
    "\n",
    "pyplot.plot(x, y, linewidth = 0.6)\n",
    "pyplot.ylabel('Sales per Day')\n",
    "pyplot.xlabel('Date')\n",
    "pyplot.show;"
   ]
  },
  {
   "cell_type": "code",
   "execution_count": 22,
   "metadata": {},
   "outputs": [
    {
     "data": {
      "text/html": [
       "<div>\n",
       "<style scoped>\n",
       "    .dataframe tbody tr th:only-of-type {\n",
       "        vertical-align: middle;\n",
       "    }\n",
       "\n",
       "    .dataframe tbody tr th {\n",
       "        vertical-align: top;\n",
       "    }\n",
       "\n",
       "    .dataframe thead th {\n",
       "        text-align: right;\n",
       "    }\n",
       "</style>\n",
       "<table border=\"1\" class=\"dataframe\">\n",
       "  <thead>\n",
       "    <tr style=\"text-align: right;\">\n",
       "      <th></th>\n",
       "      <th>Intercept</th>\n",
       "      <th>Store_ID</th>\n",
       "      <th>Customers</th>\n",
       "      <th>Sales</th>\n",
       "      <th>Open</th>\n",
       "      <th>H_None</th>\n",
       "      <th>H_Public</th>\n",
       "      <th>H_Easter</th>\n",
       "      <th>H_X-Mas</th>\n",
       "      <th>SchoolHoliday</th>\n",
       "      <th>...</th>\n",
       "      <th>Oct</th>\n",
       "      <th>Nov</th>\n",
       "      <th>Dec</th>\n",
       "      <th>Mon</th>\n",
       "      <th>Tue</th>\n",
       "      <th>Wed</th>\n",
       "      <th>Thu</th>\n",
       "      <th>Fri</th>\n",
       "      <th>Sat</th>\n",
       "      <th>Sun</th>\n",
       "    </tr>\n",
       "  </thead>\n",
       "  <tbody>\n",
       "    <tr>\n",
       "      <th>422057</th>\n",
       "      <td>1</td>\n",
       "      <td>463</td>\n",
       "      <td>0</td>\n",
       "      <td>0</td>\n",
       "      <td>0</td>\n",
       "      <td>1</td>\n",
       "      <td>0</td>\n",
       "      <td>0</td>\n",
       "      <td>0</td>\n",
       "      <td>0</td>\n",
       "      <td>...</td>\n",
       "      <td>1</td>\n",
       "      <td>0</td>\n",
       "      <td>0</td>\n",
       "      <td>0</td>\n",
       "      <td>0</td>\n",
       "      <td>0</td>\n",
       "      <td>0</td>\n",
       "      <td>0</td>\n",
       "      <td>0</td>\n",
       "      <td>1</td>\n",
       "    </tr>\n",
       "    <tr>\n",
       "      <th>200555</th>\n",
       "      <td>1</td>\n",
       "      <td>222</td>\n",
       "      <td>0</td>\n",
       "      <td>0</td>\n",
       "      <td>0</td>\n",
       "      <td>1</td>\n",
       "      <td>0</td>\n",
       "      <td>0</td>\n",
       "      <td>0</td>\n",
       "      <td>0</td>\n",
       "      <td>...</td>\n",
       "      <td>1</td>\n",
       "      <td>0</td>\n",
       "      <td>0</td>\n",
       "      <td>0</td>\n",
       "      <td>0</td>\n",
       "      <td>0</td>\n",
       "      <td>0</td>\n",
       "      <td>0</td>\n",
       "      <td>0</td>\n",
       "      <td>1</td>\n",
       "    </tr>\n",
       "    <tr>\n",
       "      <th>963572</th>\n",
       "      <td>1</td>\n",
       "      <td>1057</td>\n",
       "      <td>0</td>\n",
       "      <td>0</td>\n",
       "      <td>0</td>\n",
       "      <td>1</td>\n",
       "      <td>0</td>\n",
       "      <td>0</td>\n",
       "      <td>0</td>\n",
       "      <td>0</td>\n",
       "      <td>...</td>\n",
       "      <td>1</td>\n",
       "      <td>0</td>\n",
       "      <td>0</td>\n",
       "      <td>0</td>\n",
       "      <td>0</td>\n",
       "      <td>0</td>\n",
       "      <td>0</td>\n",
       "      <td>0</td>\n",
       "      <td>0</td>\n",
       "      <td>1</td>\n",
       "    </tr>\n",
       "    <tr>\n",
       "      <th>217327</th>\n",
       "      <td>1</td>\n",
       "      <td>240</td>\n",
       "      <td>0</td>\n",
       "      <td>0</td>\n",
       "      <td>0</td>\n",
       "      <td>1</td>\n",
       "      <td>0</td>\n",
       "      <td>0</td>\n",
       "      <td>0</td>\n",
       "      <td>0</td>\n",
       "      <td>...</td>\n",
       "      <td>1</td>\n",
       "      <td>0</td>\n",
       "      <td>0</td>\n",
       "      <td>0</td>\n",
       "      <td>0</td>\n",
       "      <td>0</td>\n",
       "      <td>0</td>\n",
       "      <td>0</td>\n",
       "      <td>0</td>\n",
       "      <td>1</td>\n",
       "    </tr>\n",
       "    <tr>\n",
       "      <th>536701</th>\n",
       "      <td>1</td>\n",
       "      <td>589</td>\n",
       "      <td>0</td>\n",
       "      <td>0</td>\n",
       "      <td>0</td>\n",
       "      <td>1</td>\n",
       "      <td>0</td>\n",
       "      <td>0</td>\n",
       "      <td>0</td>\n",
       "      <td>0</td>\n",
       "      <td>...</td>\n",
       "      <td>1</td>\n",
       "      <td>0</td>\n",
       "      <td>0</td>\n",
       "      <td>0</td>\n",
       "      <td>0</td>\n",
       "      <td>0</td>\n",
       "      <td>0</td>\n",
       "      <td>0</td>\n",
       "      <td>0</td>\n",
       "      <td>1</td>\n",
       "    </tr>\n",
       "  </tbody>\n",
       "</table>\n",
       "<p>5 rows × 54 columns</p>\n",
       "</div>"
      ],
      "text/plain": [
       "        Intercept Store_ID  Customers  Sales  Open  H_None  H_Public  \\\n",
       "422057          1      463          0      0     0       1         0   \n",
       "200555          1      222          0      0     0       1         0   \n",
       "963572          1     1057          0      0     0       1         0   \n",
       "217327          1      240          0      0     0       1         0   \n",
       "536701          1      589          0      0     0       1         0   \n",
       "\n",
       "        H_Easter  H_X-Mas  SchoolHoliday ...   Oct  Nov  Dec  Mon  Tue  Wed  \\\n",
       "422057         0        0              0 ...     1    0    0    0    0    0   \n",
       "200555         0        0              0 ...     1    0    0    0    0    0   \n",
       "963572         0        0              0 ...     1    0    0    0    0    0   \n",
       "217327         0        0              0 ...     1    0    0    0    0    0   \n",
       "536701         0        0              0 ...     1    0    0    0    0    0   \n",
       "\n",
       "        Thu  Fri  Sat  Sun  \n",
       "422057    0    0    0    1  \n",
       "200555    0    0    0    1  \n",
       "963572    0    0    0    1  \n",
       "217327    0    0    0    1  \n",
       "536701    0    0    0    1  \n",
       "\n",
       "[5 rows x 54 columns]"
      ]
     },
     "execution_count": 22,
     "metadata": {},
     "output_type": "execute_result"
    }
   ],
   "source": [
    "# comparing heads to make sure worked properly (test)\n",
    "\n",
    "test.head()"
   ]
  },
  {
   "cell_type": "code",
   "execution_count": 23,
   "metadata": {},
   "outputs": [
    {
     "data": {
      "text/plain": [
       "422057    2014-10-19\n",
       "200555    2014-10-19\n",
       "963572    2014-10-19\n",
       "217327    2014-10-19\n",
       "536701    2014-10-19\n",
       "Name: Date, dtype: object"
      ]
     },
     "execution_count": 23,
     "metadata": {},
     "output_type": "execute_result"
    }
   ],
   "source": [
    "# comparing heads and info to make sure worked properly (test)\n",
    "\n",
    "test['Date'].head()"
   ]
  },
  {
   "cell_type": "code",
   "execution_count": 24,
   "metadata": {},
   "outputs": [
    {
     "data": {
      "text/plain": [
       "301450    2015-03-17\n",
       "300508    2015-03-17\n",
       "205116    2015-03-17\n",
       "515622    2015-03-17\n",
       "437554    2015-03-17\n",
       "Name: Date, dtype: object"
      ]
     },
     "execution_count": 24,
     "metadata": {},
     "output_type": "execute_result"
    }
   ],
   "source": [
    "# comparing heads and info to make sure worked properly (test)\n",
    "\n",
    "test['Date'].tail()"
   ]
  },
  {
   "cell_type": "code",
   "execution_count": 25,
   "metadata": {},
   "outputs": [
    {
     "data": {
      "image/png": "[encoded data removed]",
      "text/plain": [
       "<Figure size 432x288 with 1 Axes>"
      ]
     },
     "metadata": {},
     "output_type": "display_data"
    }
   ],
   "source": [
    "# plotting upper 60-80% of sales per day for selected shop\n",
    "\n",
    "x = test.loc[test['Store_ID'] == 100]\n",
    "x = x['Date']\n",
    "y = test.loc[test['Store_ID'] == 100]\n",
    "y = y['Sales']\n",
    "\n",
    "pyplot.plot(x, y, linewidth = 0.6)\n",
    "pyplot.ylabel('Sales per Day')\n",
    "pyplot.xlabel('Date')\n",
    "pyplot.show;"
   ]
  },
  {
   "cell_type": "code",
   "execution_count": 26,
   "metadata": {},
   "outputs": [
    {
     "data": {
      "text/html": [
       "<div>\n",
       "<style scoped>\n",
       "    .dataframe tbody tr th:only-of-type {\n",
       "        vertical-align: middle;\n",
       "    }\n",
       "\n",
       "    .dataframe tbody tr th {\n",
       "        vertical-align: top;\n",
       "    }\n",
       "\n",
       "    .dataframe thead th {\n",
       "        text-align: right;\n",
       "    }\n",
       "</style>\n",
       "<table border=\"1\" class=\"dataframe\">\n",
       "  <thead>\n",
       "    <tr style=\"text-align: right;\">\n",
       "      <th></th>\n",
       "      <th>Intercept</th>\n",
       "      <th>Store_ID</th>\n",
       "      <th>Customers</th>\n",
       "      <th>Sales</th>\n",
       "      <th>Open</th>\n",
       "      <th>H_None</th>\n",
       "      <th>H_Public</th>\n",
       "      <th>H_Easter</th>\n",
       "      <th>H_X-Mas</th>\n",
       "      <th>SchoolHoliday</th>\n",
       "      <th>...</th>\n",
       "      <th>Oct</th>\n",
       "      <th>Nov</th>\n",
       "      <th>Dec</th>\n",
       "      <th>Mon</th>\n",
       "      <th>Tue</th>\n",
       "      <th>Wed</th>\n",
       "      <th>Thu</th>\n",
       "      <th>Fri</th>\n",
       "      <th>Sat</th>\n",
       "      <th>Sun</th>\n",
       "    </tr>\n",
       "  </thead>\n",
       "  <tbody>\n",
       "    <tr>\n",
       "      <th>553140</th>\n",
       "      <td>1</td>\n",
       "      <td>607</td>\n",
       "      <td>523</td>\n",
       "      <td>5400</td>\n",
       "      <td>1</td>\n",
       "      <td>1</td>\n",
       "      <td>0</td>\n",
       "      <td>0</td>\n",
       "      <td>0</td>\n",
       "      <td>0</td>\n",
       "      <td>...</td>\n",
       "      <td>0</td>\n",
       "      <td>0</td>\n",
       "      <td>0</td>\n",
       "      <td>0</td>\n",
       "      <td>1</td>\n",
       "      <td>0</td>\n",
       "      <td>0</td>\n",
       "      <td>0</td>\n",
       "      <td>0</td>\n",
       "      <td>0</td>\n",
       "    </tr>\n",
       "    <tr>\n",
       "      <th>253754</th>\n",
       "      <td>1</td>\n",
       "      <td>280</td>\n",
       "      <td>512</td>\n",
       "      <td>6653</td>\n",
       "      <td>1</td>\n",
       "      <td>1</td>\n",
       "      <td>0</td>\n",
       "      <td>0</td>\n",
       "      <td>0</td>\n",
       "      <td>0</td>\n",
       "      <td>...</td>\n",
       "      <td>0</td>\n",
       "      <td>0</td>\n",
       "      <td>0</td>\n",
       "      <td>0</td>\n",
       "      <td>1</td>\n",
       "      <td>0</td>\n",
       "      <td>0</td>\n",
       "      <td>0</td>\n",
       "      <td>0</td>\n",
       "      <td>0</td>\n",
       "    </tr>\n",
       "    <tr>\n",
       "      <th>491866</th>\n",
       "      <td>1</td>\n",
       "      <td>540</td>\n",
       "      <td>500</td>\n",
       "      <td>8025</td>\n",
       "      <td>1</td>\n",
       "      <td>1</td>\n",
       "      <td>0</td>\n",
       "      <td>0</td>\n",
       "      <td>0</td>\n",
       "      <td>0</td>\n",
       "      <td>...</td>\n",
       "      <td>0</td>\n",
       "      <td>0</td>\n",
       "      <td>0</td>\n",
       "      <td>0</td>\n",
       "      <td>1</td>\n",
       "      <td>0</td>\n",
       "      <td>0</td>\n",
       "      <td>0</td>\n",
       "      <td>0</td>\n",
       "      <td>0</td>\n",
       "    </tr>\n",
       "    <tr>\n",
       "      <th>297682</th>\n",
       "      <td>1</td>\n",
       "      <td>328</td>\n",
       "      <td>571</td>\n",
       "      <td>5069</td>\n",
       "      <td>1</td>\n",
       "      <td>1</td>\n",
       "      <td>0</td>\n",
       "      <td>0</td>\n",
       "      <td>0</td>\n",
       "      <td>0</td>\n",
       "      <td>...</td>\n",
       "      <td>0</td>\n",
       "      <td>0</td>\n",
       "      <td>0</td>\n",
       "      <td>0</td>\n",
       "      <td>1</td>\n",
       "      <td>0</td>\n",
       "      <td>0</td>\n",
       "      <td>0</td>\n",
       "      <td>0</td>\n",
       "      <td>0</td>\n",
       "    </tr>\n",
       "    <tr>\n",
       "      <th>654618</th>\n",
       "      <td>1</td>\n",
       "      <td>720</td>\n",
       "      <td>712</td>\n",
       "      <td>7987</td>\n",
       "      <td>1</td>\n",
       "      <td>1</td>\n",
       "      <td>0</td>\n",
       "      <td>0</td>\n",
       "      <td>0</td>\n",
       "      <td>0</td>\n",
       "      <td>...</td>\n",
       "      <td>0</td>\n",
       "      <td>0</td>\n",
       "      <td>0</td>\n",
       "      <td>0</td>\n",
       "      <td>1</td>\n",
       "      <td>0</td>\n",
       "      <td>0</td>\n",
       "      <td>0</td>\n",
       "      <td>0</td>\n",
       "      <td>0</td>\n",
       "    </tr>\n",
       "  </tbody>\n",
       "</table>\n",
       "<p>5 rows × 54 columns</p>\n",
       "</div>"
      ],
      "text/plain": [
       "        Intercept Store_ID  Customers  Sales  Open  H_None  H_Public  \\\n",
       "553140          1      607        523   5400     1       1         0   \n",
       "253754          1      280        512   6653     1       1         0   \n",
       "491866          1      540        500   8025     1       1         0   \n",
       "297682          1      328        571   5069     1       1         0   \n",
       "654618          1      720        712   7987     1       1         0   \n",
       "\n",
       "        H_Easter  H_X-Mas  SchoolHoliday ...   Oct  Nov  Dec  Mon  Tue  Wed  \\\n",
       "553140         0        0              0 ...     0    0    0    0    1    0   \n",
       "253754         0        0              0 ...     0    0    0    0    1    0   \n",
       "491866         0        0              0 ...     0    0    0    0    1    0   \n",
       "297682         0        0              0 ...     0    0    0    0    1    0   \n",
       "654618         0        0              0 ...     0    0    0    0    1    0   \n",
       "\n",
       "        Thu  Fri  Sat  Sun  \n",
       "553140    0    0    0    0  \n",
       "253754    0    0    0    0  \n",
       "491866    0    0    0    0  \n",
       "297682    0    0    0    0  \n",
       "654618    0    0    0    0  \n",
       "\n",
       "[5 rows x 54 columns]"
      ]
     },
     "execution_count": 26,
     "metadata": {},
     "output_type": "execute_result"
    }
   ],
   "source": [
    "# comparing heads to make sure worked properly (true)\n",
    "\n",
    "true.head()"
   ]
  },
  {
   "cell_type": "code",
   "execution_count": 27,
   "metadata": {},
   "outputs": [
    {
     "data": {
      "text/plain": [
       "553140    2015-03-17\n",
       "253754    2015-03-17\n",
       "491866    2015-03-17\n",
       "297682    2015-03-17\n",
       "654618    2015-03-17\n",
       "Name: Date, dtype: object"
      ]
     },
     "execution_count": 27,
     "metadata": {},
     "output_type": "execute_result"
    }
   ],
   "source": [
    "# comparing heads to make sure worked properly (true)\n",
    "\n",
    "true['Date'].head()"
   ]
  },
  {
   "cell_type": "code",
   "execution_count": 28,
   "metadata": {},
   "outputs": [
    {
     "data": {
      "text/plain": [
       "557530    2015-07-31\n",
       "212332    2015-07-31\n",
       "982701    2015-07-31\n",
       "769288    2015-07-31\n",
       "0         2015-07-31\n",
       "Name: Date, dtype: object"
      ]
     },
     "execution_count": 28,
     "metadata": {},
     "output_type": "execute_result"
    }
   ],
   "source": [
    "# comparing heads to make sure worked properly (true)\n",
    "\n",
    "true['Date'].tail()"
   ]
  },
  {
   "cell_type": "code",
   "execution_count": 29,
   "metadata": {},
   "outputs": [
    {
     "data": {
      "image/png": "[encoded data removed]",
      "text/plain": [
       "<Figure size 432x288 with 1 Axes>"
      ]
     },
     "metadata": {},
     "output_type": "display_data"
    }
   ],
   "source": [
    "# plotting upper 20% of sales per day for selected shop\n",
    "\n",
    "x = true.loc[true['Store_ID'] == 100]\n",
    "x = x['Date']\n",
    "y = true.loc[true['Store_ID'] == 100]\n",
    "y = y['Sales']\n",
    "\n",
    "pyplot.plot(x, y, linewidth = 0.6)\n",
    "pyplot.ylabel('Sales per Day')\n",
    "pyplot.xlabel('Date')\n",
    "pyplot.show;"
   ]
  },
  {
   "cell_type": "markdown",
   "metadata": {},
   "source": [
    "# Correlation heatmap"
   ]
  },
  {
   "cell_type": "code",
   "execution_count": 30,
   "metadata": {},
   "outputs": [
    {
     "name": "stdout",
     "output_type": "stream",
     "text": [
      "<class 'pandas.core.frame.DataFrame'>\n",
      "Int64Index: 712046 entries, 1017208 to 401517\n",
      "Data columns (total 54 columns):\n",
      "Intercept                    712046 non-null int64\n",
      "Store_ID                     712046 non-null object\n",
      "Customers                    712046 non-null int64\n",
      "Sales                        712046 non-null int64\n",
      "Open                         712046 non-null int64\n",
      "H_None                       712046 non-null int64\n",
      "H_Public                     712046 non-null int64\n",
      "H_Easter                     712046 non-null int64\n",
      "H_X-Mas                      712046 non-null int64\n",
      "SchoolHoliday                712046 non-null int64\n",
      "Type_A                       712046 non-null int64\n",
      "Type_B                       712046 non-null int64\n",
      "Type_C                       712046 non-null int64\n",
      "Type_D                       712046 non-null int64\n",
      "Assort_Basic                 712046 non-null int64\n",
      "Assort_Extra                 712046 non-null int64\n",
      "Assort_Extended              712046 non-null int64\n",
      "Promo1                       712046 non-null int64\n",
      "Promo2                       712046 non-null int64\n",
      "Promo2SinceWeek              357603 non-null float64\n",
      "Promo2SinceYear              357603 non-null float64\n",
      "Promo2_Feb,May,Aug,Nov       712046 non-null int64\n",
      "Promo2_Jan,Apr,Jul,Oct       712046 non-null int64\n",
      "Promo2_Mar,Jun,Sept,Dec      712046 non-null int64\n",
      "CompetitionDistance          710187 non-null float64\n",
      "CompetitionOpenSinceMonth    485748 non-null float64\n",
      "CompetitionOpenSinceYear     485748 non-null float64\n",
      "Date                         712046 non-null object\n",
      "DayOfMonth                   712046 non-null int64\n",
      "DayOfWeek                    712046 non-null int64\n",
      "Month                        712046 non-null int64\n",
      "Year                         712046 non-null int64\n",
      "2013                         712046 non-null int64\n",
      "2014                         712046 non-null int64\n",
      "2015                         712046 non-null int64\n",
      "Jan                          712046 non-null int64\n",
      "Feb                          712046 non-null int64\n",
      "Mar                          712046 non-null int64\n",
      "Apr                          712046 non-null int64\n",
      "May                          712046 non-null int64\n",
      "Jun                          712046 non-null int64\n",
      "Jul                          712046 non-null int64\n",
      "Aug                          712046 non-null int64\n",
      "Sep                          712046 non-null int64\n",
      "Oct                          712046 non-null int64\n",
      "Nov                          712046 non-null int64\n",
      "Dec                          712046 non-null int64\n",
      "Mon                          712046 non-null int64\n",
      "Tue                          712046 non-null int64\n",
      "Wed                          712046 non-null int64\n",
      "Thu                          712046 non-null int64\n",
      "Fri                          712046 non-null int64\n",
      "Sat                          712046 non-null int64\n",
      "Sun                          712046 non-null int64\n",
      "dtypes: float64(5), int64(47), object(2)\n",
      "memory usage: 298.8+ MB\n"
     ]
    }
   ],
   "source": [
    "# looking at variables to find numeric ones for correlation checks\n",
    "\n",
    "train.info()"
   ]
  },
  {
   "cell_type": "code",
   "execution_count": 31,
   "metadata": {},
   "outputs": [
    {
     "data": {
      "image/png": "[encoded data removed]",
      "text/plain": [
       "<Figure size 432x288 with 2 Axes>"
      ]
     },
     "metadata": {},
     "output_type": "display_data"
    }
   ],
   "source": [
    "# plotting a correlation heatmap\n",
    "# source: https://seaborn.pydata.org/examples/many_pairwise_correlations.html\n",
    "\n",
    "sns.set(style=\"white\")\n",
    "\n",
    "train_corr = train[['Customers', 'Sales', 'DayOfMonth', 'DayOfWeek']]\n",
    "\n",
    "corr = train_corr.corr()\n",
    "\n",
    "f, ax = pyplot.subplots()\n",
    "\n",
    "cmap = sns.diverging_palette(220, 10, as_cmap=True)\n",
    "\n",
    "sns.heatmap(corr, cmap=cmap, vmax=.3, center=0, annot=True, fmt='.2f',\n",
    "            square=True, linewidths=.5, cbar_kws={\"shrink\": .5});"
   ]
  },
  {
   "cell_type": "markdown",
   "metadata": {},
   "source": [
    "# Benchmark model"
   ]
  },
  {
   "cell_type": "markdown",
   "metadata": {},
   "source": [
    "### \"All in one\" linear regression model"
   ]
  },
  {
   "cell_type": "code",
   "execution_count": 32,
   "metadata": {},
   "outputs": [
    {
     "name": "stdout",
     "output_type": "stream",
     "text": [
      "Coefficients: \n",
      " [-9.41520159e-14  7.09126272e+00  1.09805865e+03  9.32160900e+01\n",
      " -1.90264285e+02 -6.59785226e+02 -3.94834889e+02  1.46313787e+02\n",
      "  5.64124251e+02 -2.45831092e+03  4.51367966e+02  1.44281870e+03\n",
      "  1.20115462e+03 -2.65816308e+03  1.45700846e+03  1.24839707e+03\n",
      "  1.29160730e+02  5.78995376e+00 -4.89661320e+01  5.72815240e+01\n",
      "  1.26596866e+02 -5.47176602e+01  1.92087015e-02 -3.57295000e+00\n",
      " -2.05497568e+00  8.02679038e-01 -1.01386626e+01  3.26479349e+01\n",
      "  4.57311853e+01 -4.57311853e+01  4.57311853e+01 -1.70530257e-13\n",
      "  1.01989014e+02  7.98786361e+01  6.53644674e+01 -1.80830772e+01\n",
      "  3.88284421e+00 -1.10668740e+01 -6.29655511e+01 -2.02729146e+02\n",
      " -2.38262312e+02 -2.56539106e+02 -4.09822180e+00  5.42629325e+02\n",
      "  3.82857139e+02 -1.08871071e+02 -2.13040191e+02 -2.76736892e+02\n",
      " -1.40395737e+02  2.20514100e+02  1.35672653e+02]\n",
      "Mean squared error: 1459139.90\n",
      "Variance score: 0.91\n"
     ]
    }
   ],
   "source": [
    "# setting up the linear regression benchmark model\n",
    "\n",
    "# source: http://scikit-learn.org/stable/auto_examples/linear_model/plot_ols.html#sphx-glr-auto-examples-linear-model-plot-ols-py\n",
    "# source: https://stackoverflow.com/questions/33113947/using-scikit-learn-sklearn-how-to-handle-missing-data-for-linear-regression\n",
    "\n",
    "from sklearn import datasets, linear_model\n",
    "from sklearn.metrics import mean_squared_error, r2_score\n",
    "from sklearn.preprocessing import Imputer, normalize\n",
    "\n",
    "imputer = Imputer()\n",
    "\n",
    "X_train = train.drop(['Store_ID', 'Sales', 'Date'], axis=1)\n",
    "X_train = imputer.fit_transform(X_train)\n",
    "\n",
    "y_train = train['Sales']\n",
    "\n",
    "X_test = test.drop(['Store_ID', 'Sales', 'Date'], axis=1)\n",
    "X_test = imputer.transform(X_test)\n",
    "\n",
    "y_test = test['Sales']\n",
    "\n",
    "l_reg = linear_model.LinearRegression()\n",
    "l_reg.fit(X_train, y_train)\n",
    "sales_lr_pred = l_reg.predict(X_test)\n",
    "\n",
    "# printing output coefficients\n",
    "\n",
    "print('Coefficients: \\n', l_reg.coef_)\n",
    "\n",
    "# mean squared error\n",
    "print('Mean squared error: %.2f'\n",
    "      % mean_squared_error(y_test, sales_lr_pred))\n",
    "\n",
    "# explained variance score: 1 is perfect prediction\n",
    "print('Variance score: %.2f' % r2_score(y_test, sales_lr_pred))"
   ]
  },
  {
   "cell_type": "code",
   "execution_count": 33,
   "metadata": {
    "scrolled": true
   },
   "outputs": [
    {
     "name": "stdout",
     "output_type": "stream",
     "text": [
      "                            OLS Regression Results                            \n",
      "==============================================================================\n",
      "Dep. Variable:                  Sales   R-squared:                       0.906\n",
      "Model:                            OLS   Adj. R-squared:                  0.906\n",
      "Method:                 Least Squares   F-statistic:                 1.726e+05\n",
      "Date:                Tue, 09 Apr 2019   Prob (F-statistic):               0.00\n",
      "Time:                        22:40:25   Log-Likelihood:            -6.0346e+06\n",
      "No. Observations:              712046   AIC:                         1.207e+07\n",
      "Df Residuals:                  712005   BIC:                         1.207e+07\n",
      "Df Model:                          40                                         \n",
      "Covariance Type:            nonrobust                                         \n",
      "==============================================================================\n",
      "                 coef    std err          t      P>|t|      [0.025      0.975]\n",
      "------------------------------------------------------------------------------\n",
      "const          0.0029      0.001      2.205      0.027       0.000       0.005\n",
      "x1             7.0913      0.005   1570.481      0.000       7.082       7.100\n",
      "x2          1098.0586     17.238     63.701      0.000    1064.273    1131.844\n",
      "x3            93.2161      5.067     18.398      0.000      83.286     103.147\n",
      "x4          -190.2643     19.480     -9.767      0.000    -228.445    -152.084\n",
      "x5          -659.7852     24.887    -26.512      0.000    -708.562    -611.008\n",
      "x6          -394.8349     31.029    -12.725      0.000    -455.650    -334.020\n",
      "x7           146.3138      4.108     35.618      0.000     138.262     154.365\n",
      "x8           564.1250      4.559    123.735      0.000     555.189     573.061\n",
      "x9         -2458.3102     12.866   -191.071      0.000   -2483.527   -2433.093\n",
      "x10          451.3687      5.121     88.138      0.000     441.331     461.406\n",
      "x11         1442.8194      4.995    288.861      0.000    1433.030    1452.609\n",
      "x12         1201.1556      7.463    160.941      0.000    1186.528    1215.783\n",
      "x13        -2658.1621     14.778   -179.869      0.000   -2687.127   -2629.197\n",
      "x14         1457.0094      7.598    191.774      0.000    1442.118    1471.900\n",
      "x15         1248.3971      3.364    371.112      0.000    1241.804    1254.990\n",
      "x16          129.1607      2.273     56.813      0.000     124.705     133.617\n",
      "x17            5.7900      0.143     40.596      0.000       5.510       6.069\n",
      "x18          -48.9661      1.221    -40.119      0.000     -51.358     -46.574\n",
      "x19           57.2815      3.346     17.119      0.000      50.723      63.840\n",
      "x20          126.5969      2.510     50.433      0.000     121.677     131.517\n",
      "x21          -54.7177      3.643    -15.018      0.000     -61.859     -47.577\n",
      "x22            0.0192      0.000    102.482      0.000       0.019       0.020\n",
      "x23           -3.5729      0.524     -6.824      0.000      -4.599      -2.547\n",
      "x24           -2.0550      0.279     -7.372      0.000      -2.601      -1.509\n",
      "x25            0.8027      0.160      5.031      0.000       0.490       1.115\n",
      "x26          -10.1383      1.849     -5.484      0.000     -13.761      -6.515\n",
      "x27           32.6481      0.458     71.227      0.000      31.750      33.546\n",
      "x28           49.5905      1.253     39.578      0.000      47.135      52.046\n",
      "x29          -43.8001      1.929    -22.712      0.000     -47.580     -40.020\n",
      "x30           43.8030      1.927     22.727      0.000      40.025      47.581\n",
      "x31          2.62e-13   3.55e-15     73.801      0.000    2.55e-13    2.69e-13\n",
      "x32          101.9900      3.832     26.615      0.000      94.479     109.501\n",
      "x33           79.8795      4.345     18.383      0.000      71.363      88.396\n",
      "x34           65.3652      4.081     16.017      0.000      57.366      73.364\n",
      "x35          -18.0825      4.410     -4.100      0.000     -26.727      -9.438\n",
      "x36            3.8833      4.434      0.876      0.381      -4.806      12.573\n",
      "x37          -11.0666      4.484     -2.468      0.014     -19.855      -2.278\n",
      "x38          -62.9654      4.559    -13.810      0.000     -71.901     -54.029\n",
      "x39         -202.7291      4.904    -41.340      0.000    -212.341    -193.118\n",
      "x40         -238.2624      4.648    -51.260      0.000    -247.373    -229.152\n",
      "x41         -256.5393      4.829    -53.121      0.000    -266.005    -247.074\n",
      "x42           -4.0986      5.521     -0.742      0.458     -14.920       6.723\n",
      "x43          542.6289      5.200    104.357      0.000     532.437     552.820\n",
      "x44          382.8587      3.877     98.747      0.000     375.260     390.458\n",
      "x45         -108.8699      3.260    -33.400      0.000    -115.258    -102.481\n",
      "x46         -213.0394      3.379    -63.050      0.000    -219.662    -206.417\n",
      "x47         -276.7365      4.168    -66.399      0.000    -284.905    -268.568\n",
      "x48         -140.3957      5.292    -26.529      0.000    -150.768    -130.023\n",
      "x49          220.5137      6.550     33.667      0.000     207.676     233.351\n",
      "x50          135.6719      9.351     14.509      0.000     117.345     153.999\n",
      "==============================================================================\n",
      "Omnibus:                   195538.726   Durbin-Watson:                   1.822\n",
      "Prob(Omnibus):                  0.000   Jarque-Bera (JB):          2449976.110\n",
      "Skew:                           0.969   Prob(JB):                         0.00\n",
      "Kurtosis:                      11.878   Cond. No.                     3.16e+17\n",
      "==============================================================================\n",
      "\n",
      "Warnings:\n",
      "[1] Standard Errors assume that the covariance matrix of the errors is correctly specified.\n",
      "[2] The smallest eigenvalue is 6.66e-22. This might indicate that there are\n",
      "strong multicollinearity problems or that the design matrix is singular.\n"
     ]
    }
   ],
   "source": [
    "# conducting a regression with statsmodel for better coefficient summary\n",
    "\n",
    "import statsmodels.api as sm\n",
    "\n",
    "imputer = Imputer()\n",
    "\n",
    "X_train = train.drop(['Store_ID', 'Sales', 'Date'], axis=1)\n",
    "X_train = imputer.fit_transform(X_train)\n",
    "\n",
    "y_train = train['Sales']\n",
    "\n",
    "X_test = test.drop(['Store_ID', 'Sales', 'Date'], axis=1)\n",
    "X_test = imputer.fit_transform(X_test)\n",
    "\n",
    "y_test = test['Sales']\n",
    "\n",
    "sm_lr_model = sm.OLS(y_train, X_train)\n",
    "results = sm_lr_model.fit()\n",
    "print(results.summary())"
   ]
  },
  {
   "cell_type": "markdown",
   "metadata": {},
   "source": [
    "This is a warning as expected because I included all dummy variables in the model. As a next step, I will build a basic model and add complexity to see how many variables and which variables should be included. "
   ]
  },
  {
   "cell_type": "markdown",
   "metadata": {},
   "source": [
    "## \"Basic\" model"
   ]
  },
  {
   "cell_type": "code",
   "execution_count": 34,
   "metadata": {},
   "outputs": [
    {
     "name": "stdout",
     "output_type": "stream",
     "text": [
      "Coefficients: \n",
      " [   6.92371801 -253.8037436 ]\n",
      "Mean squared error: 2906582.11\n",
      "Variance score: 0.82\n"
     ]
    }
   ],
   "source": [
    "# running l_reg for basic model, day of month is out due to missing correlation identified above\n",
    "\n",
    "X_train = train[['Customers', 'DayOfWeek']]\n",
    "X_train = imputer.fit_transform(X_train)\n",
    "y_train = train['Sales']\n",
    "\n",
    "X_test = test[['Customers', 'DayOfWeek']]\n",
    "X_test = imputer.fit_transform(X_test)\n",
    "y_test = test['Sales']\n",
    "\n",
    "l_reg = linear_model.LinearRegression()\n",
    "l_reg.fit(X_train, y_train)\n",
    "sales_lr_pred = l_reg.predict(X_test)\n",
    "\n",
    "# printing output coefficients\n",
    "\n",
    "print('Coefficients: \\n', l_reg.coef_)\n",
    "\n",
    "# mean squared error\n",
    "print('Mean squared error: %.2f'\n",
    "      % mean_squared_error(y_test, sales_lr_pred))\n",
    "\n",
    "# explained variance score: 1 is perfect prediction\n",
    "print('Variance score: %.2f' % r2_score(y_test, sales_lr_pred))"
   ]
  },
  {
   "cell_type": "code",
   "execution_count": 35,
   "metadata": {},
   "outputs": [
    {
     "name": "stdout",
     "output_type": "stream",
     "text": [
      "                            OLS Regression Results                            \n",
      "==============================================================================\n",
      "Dep. Variable:                  Sales   R-squared:                       0.820\n",
      "Model:                            OLS   Adj. R-squared:                  0.820\n",
      "Method:                 Least Squares   F-statistic:                 1.617e+06\n",
      "Date:                Tue, 09 Apr 2019   Prob (F-statistic):               0.00\n",
      "Time:                        22:40:26   Log-Likelihood:            -6.2686e+06\n",
      "No. Observations:              712046   AIC:                         1.254e+07\n",
      "Df Residuals:                  712043   BIC:                         1.254e+07\n",
      "Df Model:                           2                                         \n",
      "Covariance Type:            nonrobust                                         \n",
      "==============================================================================\n",
      "                 coef    std err          t      P>|t|      [0.025      0.975]\n",
      "------------------------------------------------------------------------------\n",
      "const       2322.2143      6.135    378.507      0.000    2310.190    2334.239\n",
      "x1             6.9237      0.004   1551.994      0.000       6.915       6.932\n",
      "x2          -253.8037      1.035   -245.270      0.000    -255.832    -251.776\n",
      "==============================================================================\n",
      "Omnibus:                   117955.801   Durbin-Watson:                   1.516\n",
      "Prob(Omnibus):                  0.000   Jarque-Bera (JB):          2382481.227\n",
      "Skew:                          -0.134   Prob(JB):                         0.00\n",
      "Kurtosis:                      11.957   Cond. No.                     2.54e+03\n",
      "==============================================================================\n",
      "\n",
      "Warnings:\n",
      "[1] Standard Errors assume that the covariance matrix of the errors is correctly specified.\n",
      "[2] The condition number is large, 2.54e+03. This might indicate that there are\n",
      "strong multicollinearity or other numerical problems.\n"
     ]
    }
   ],
   "source": [
    "# running statsmodel regression with basic model with an intercept\n",
    "\n",
    "X_train = train[['Intercept', 'Customers', 'DayOfWeek']]\n",
    "X_train = imputer.fit_transform(X_train)\n",
    "y_train = train['Sales']\n",
    "\n",
    "X_test = test[['Intercept', 'Customers', 'DayOfWeek']]\n",
    "X_test = imputer.fit_transform(X_test)\n",
    "y_test = test['Sales']\n",
    "\n",
    "sm_lr_model = sm.OLS(y_train, X_train)\n",
    "results = sm_lr_model.fit()\n",
    "print(results.summary())"
   ]
  },
  {
   "cell_type": "markdown",
   "metadata": {},
   "source": [
    "## \"Store type\" model"
   ]
  },
  {
   "cell_type": "code",
   "execution_count": 36,
   "metadata": {},
   "outputs": [
    {
     "name": "stdout",
     "output_type": "stream",
     "text": [
      "Coefficients: \n",
      " [    7.86043875  -170.56133689 -6087.04841445  -129.95954114\n",
      "  1126.4133212 ]\n",
      "Mean squared error: 2075448.45\n",
      "Variance score: 0.87\n"
     ]
    }
   ],
   "source": [
    "# running l_reg for store type model\n",
    "\n",
    "X_train = train[['Customers', 'DayOfWeek', 'Type_B', 'Type_C', 'Type_D']]\n",
    "X_train = imputer.fit_transform(X_train)\n",
    "y_train = train['Sales']\n",
    "\n",
    "X_test = test[['Customers', 'DayOfWeek', 'Type_B', 'Type_C', 'Type_D']]\n",
    "X_test = imputer.fit_transform(X_test)\n",
    "y_test = test['Sales']\n",
    "\n",
    "l_reg = linear_model.LinearRegression()\n",
    "l_reg.fit(X_train, y_train)\n",
    "sales_lr_pred = l_reg.predict(X_test)\n",
    "\n",
    "# printing output coefficients\n",
    "\n",
    "print('Coefficients: \\n', l_reg.coef_)\n",
    "\n",
    "# mean squared error\n",
    "print('Mean squared error: %.2f'\n",
    "      % mean_squared_error(y_test, sales_lr_pred))\n",
    "\n",
    "# explained variance score: 1 is perfect prediction\n",
    "print('Variance score: %.2f' % r2_score(y_test, sales_lr_pred))"
   ]
  },
  {
   "cell_type": "code",
   "execution_count": 37,
   "metadata": {},
   "outputs": [
    {
     "name": "stdout",
     "output_type": "stream",
     "text": [
      "                            OLS Regression Results                            \n",
      "==============================================================================\n",
      "Dep. Variable:                  Sales   R-squared:                       0.872\n",
      "Model:                            OLS   Adj. R-squared:                  0.872\n",
      "Method:                 Least Squares   F-statistic:                 9.690e+05\n",
      "Date:                Tue, 09 Apr 2019   Prob (F-statistic):               0.00\n",
      "Time:                        22:40:27   Log-Likelihood:            -6.1468e+06\n",
      "No. Observations:              712046   AIC:                         1.229e+07\n",
      "Df Residuals:                  712040   BIC:                         1.229e+07\n",
      "Df Model:                           5                                         \n",
      "Covariance Type:            nonrobust                                         \n",
      "==============================================================================\n",
      "                 coef    std err          t      P>|t|      [0.025      0.975]\n",
      "------------------------------------------------------------------------------\n",
      "const       1162.8277      5.740    202.595      0.000    1151.578    1174.077\n",
      "x1             7.8604      0.004   1892.512      0.000       7.852       7.869\n",
      "x2          -170.5613      0.886   -192.499      0.000    -172.298    -168.825\n",
      "x3         -6087.0484     14.150   -430.181      0.000   -6114.782   -6059.315\n",
      "x4          -129.9595      4.905    -26.493      0.000    -139.574    -120.345\n",
      "x5          1126.4133      3.692    305.068      0.000    1119.176    1133.650\n",
      "==============================================================================\n",
      "Omnibus:                   133888.291   Durbin-Watson:                   1.555\n",
      "Prob(Omnibus):                  0.000   Jarque-Bera (JB):          1567278.955\n",
      "Skew:                           0.565   Prob(JB):                         0.00\n",
      "Kurtosis:                      10.180   Cond. No.                     6.92e+03\n",
      "==============================================================================\n",
      "\n",
      "Warnings:\n",
      "[1] Standard Errors assume that the covariance matrix of the errors is correctly specified.\n",
      "[2] The condition number is large, 6.92e+03. This might indicate that there are\n",
      "strong multicollinearity or other numerical problems.\n"
     ]
    }
   ],
   "source": [
    "# running statsmodel regression with store type model with an intercept\n",
    "\n",
    "X_train = train[['Intercept', 'Customers', 'DayOfWeek', 'Type_B', 'Type_C', 'Type_D']]\n",
    "X_train = imputer.fit_transform(X_train)\n",
    "y_train = train['Sales']\n",
    "\n",
    "X_test = test[['Intercept', 'Customers', 'DayOfWeek', 'Type_B', 'Type_C', 'Type_D']]\n",
    "X_test = imputer.fit_transform(X_test)\n",
    "y_test = test['Sales']\n",
    "\n",
    "sm_lr_model = sm.OLS(y_train, X_train)\n",
    "results = sm_lr_model.fit()\n",
    "print(results.summary())"
   ]
  },
  {
   "cell_type": "markdown",
   "metadata": {},
   "source": [
    "Store type added value for clearing more r squared, I keep it in. Statsmodels shows a multicollinearity or \"other numerical problems\" warning, I will carefully watch not adding to any multicollinearity problems when selecting dummy variables. "
   ]
  },
  {
   "cell_type": "markdown",
   "metadata": {},
   "source": [
    "## \"Store type and assortment\" model"
   ]
  },
  {
   "cell_type": "code",
   "execution_count": 38,
   "metadata": {},
   "outputs": [
    {
     "name": "stdout",
     "output_type": "stream",
     "text": [
      "Coefficients: \n",
      " [    7.84841803  -171.62432495 -3977.01720985  -155.90621552\n",
      "  1061.89214182 -3850.46700855   236.16605129]\n",
      "Mean squared error: 1970282.80\n",
      "Variance score: 0.88\n"
     ]
    }
   ],
   "source": [
    "# running l_reg for store type and assortment model\n",
    "\n",
    "X_train = train[['Customers', 'DayOfWeek', 'Type_B', 'Type_C', 'Type_D', 'Assort_Extra', 'Assort_Extended']]\n",
    "X_train = imputer.fit_transform(X_train)\n",
    "y_train = train['Sales']\n",
    "\n",
    "X_test = test[['Customers', 'DayOfWeek', 'Type_B', 'Type_C', 'Type_D', 'Assort_Extra', 'Assort_Extended']]\n",
    "X_test = imputer.fit_transform(X_test)\n",
    "y_test = test['Sales']\n",
    "\n",
    "l_reg = linear_model.LinearRegression()\n",
    "l_reg.fit(X_train, y_train)\n",
    "sales_lr_pred = l_reg.predict(X_test)\n",
    "\n",
    "# printing output coefficients\n",
    "\n",
    "print('Coefficients: \\n', l_reg.coef_)\n",
    "\n",
    "# mean squared error\n",
    "print('Mean squared error: %.2f'\n",
    "      % mean_squared_error(y_test, sales_lr_pred))\n",
    "\n",
    "# explained variance score: 1 is perfect prediction\n",
    "print('Variance score: %.2f' % r2_score(y_test, sales_lr_pred))"
   ]
  },
  {
   "cell_type": "code",
   "execution_count": 39,
   "metadata": {},
   "outputs": [
    {
     "name": "stdout",
     "output_type": "stream",
     "text": [
      "                            OLS Regression Results                            \n",
      "==============================================================================\n",
      "Dep. Variable:                  Sales   R-squared:                       0.877\n",
      "Model:                            OLS   Adj. R-squared:                  0.877\n",
      "Method:                 Least Squares   F-statistic:                 7.240e+05\n",
      "Date:                Tue, 09 Apr 2019   Prob (F-statistic):               0.00\n",
      "Time:                        22:40:27   Log-Likelihood:            -6.1328e+06\n",
      "No. Observations:              712046   AIC:                         1.227e+07\n",
      "Df Residuals:                  712038   BIC:                         1.227e+07\n",
      "Df Model:                           7                                         \n",
      "Covariance Type:            nonrobust                                         \n",
      "==============================================================================\n",
      "                 coef    std err          t      P>|t|      [0.025      0.975]\n",
      "------------------------------------------------------------------------------\n",
      "const       1087.3105      5.710    190.433      0.000    1076.120    1098.501\n",
      "x1             7.8484      0.004   1923.440      0.000       7.840       7.856\n",
      "x2          -171.6243      0.869   -197.484      0.000    -173.328    -169.921\n",
      "x3         -3977.0172     19.223   -206.886      0.000   -4014.694   -3939.340\n",
      "x4          -155.9062      4.823    -32.325      0.000    -165.359    -146.453\n",
      "x5          1061.8921      3.733    284.464      0.000    1054.576    1069.209\n",
      "x6         -3850.4670     25.363   -151.815      0.000   -3900.177   -3800.757\n",
      "x7           236.1661      3.281     71.990      0.000     229.736     242.596\n",
      "==============================================================================\n",
      "Omnibus:                   138379.974   Durbin-Watson:                   1.535\n",
      "Prob(Omnibus):                  0.000   Jarque-Bera (JB):          1258940.364\n",
      "Skew:                           0.679   Prob(JB):                         0.00\n",
      "Kurtosis:                       9.371   Cond. No.                     1.46e+04\n",
      "==============================================================================\n",
      "\n",
      "Warnings:\n",
      "[1] Standard Errors assume that the covariance matrix of the errors is correctly specified.\n",
      "[2] The condition number is large, 1.46e+04. This might indicate that there are\n",
      "strong multicollinearity or other numerical problems.\n"
     ]
    }
   ],
   "source": [
    "# running statsmodel regression with store type and assortment model with an intercept\n",
    "\n",
    "X_train = train[['Intercept', 'Customers', 'DayOfWeek', 'Type_B', 'Type_C', 'Type_D', 'Assort_Extra', 'Assort_Extended']]\n",
    "X_train = imputer.fit_transform(X_train)\n",
    "y_train = train['Sales']\n",
    "\n",
    "X_test = test[['Intercept', 'Customers', 'DayOfWeek', 'Type_B', 'Type_C', 'Type_D', 'Assort_Extra', 'Assort_Extended']]\n",
    "X_test = imputer.fit_transform(X_test)\n",
    "y_test = test['Sales']\n",
    "\n",
    "sm_lr_model = sm.OLS(y_train, X_train)\n",
    "results = sm_lr_model.fit()\n",
    "print(results.summary())"
   ]
  },
  {
   "cell_type": "markdown",
   "metadata": {},
   "source": [
    "This added a little more explanatory value. I'll now build the full linear regression model with correct dummy variables."
   ]
  },
  {
   "cell_type": "markdown",
   "metadata": {},
   "source": [
    "## Scoring setup and final benchmark model"
   ]
  },
  {
   "cell_type": "code",
   "execution_count": 40,
   "metadata": {},
   "outputs": [],
   "source": [
    "# building the scores and time dataframe for performance comparison\n",
    "\n",
    "scores = pd.DataFrame(columns=['Regressor', 'RMSPE', 'MSE', 'R2', 'Time'])"
   ]
  },
  {
   "cell_type": "code",
   "execution_count": 41,
   "metadata": {},
   "outputs": [],
   "source": [
    "# building the RMSPE function, sourced from kaggle discussion forum\n",
    "# https://www.kaggle.com/c/rossmann-store-sales/discussion/16908#latest-95593\n",
    "\n",
    "def ToWeight(y):\n",
    "    w = np.zeros(y.shape, dtype=float)\n",
    "    ind = y != 0\n",
    "    w[ind] = 1./(y[ind]**2)\n",
    "    return w\n",
    "\n",
    "def RMSPE_fct(y, yhat):\n",
    "    w = ToWeight(y)\n",
    "    rmspe = np.sqrt(np.mean( w * (y - yhat)**2 ))\n",
    "    return rmspe"
   ]
  },
  {
   "cell_type": "code",
   "execution_count": 42,
   "metadata": {},
   "outputs": [],
   "source": [
    "# preparing the final datasets for train and test\n",
    "\n",
    "imputer = Imputer()\n",
    "\n",
    "X_train = train.drop(['Intercept',\n",
    "                      'Store_ID', \n",
    "                      'Sales', \n",
    "                      'Date', \n",
    "                      'DayOfMonth', \n",
    "                      'Type_A', \n",
    "                      'Assort_Basic', \n",
    "                      'Promo2_Feb,May,Aug,Nov',\n",
    "                      'Year',\n",
    "                      '2013',\n",
    "                      'Jan',\n",
    "                      'Mon'], axis=1)\n",
    "\n",
    "X_train = imputer.fit_transform(X_train)\n",
    "\n",
    "y_train = train['Sales']\n",
    "\n",
    "X_test = test.drop(['Intercept',\n",
    "                      'Store_ID', \n",
    "                      'Sales', \n",
    "                      'Date', \n",
    "                      'DayOfMonth', \n",
    "                      'Type_A', \n",
    "                      'Assort_Basic', \n",
    "                      'Promo2_Feb,May,Aug,Nov',\n",
    "                      'Year',\n",
    "                      '2013',\n",
    "                      'Jan',\n",
    "                      'Mon'], axis=1)\n",
    "\n",
    "X_test = imputer.fit_transform(X_test)\n",
    "\n",
    "y_test = test['Sales']"
   ]
  },
  {
   "cell_type": "code",
   "execution_count": 43,
   "metadata": {},
   "outputs": [
    {
     "name": "stdout",
     "output_type": "stream",
     "text": [
      "Mean squared error: 1474975.36\n",
      "Root mean squared percentage error: 0.18\n",
      "Variance score: 0.91\n",
      "Time elapsed (hh:mm:ss.ms) 0:00:00.999722\n"
     ]
    }
   ],
   "source": [
    "# setting up the linear regression benchmark model\n",
    "\n",
    "start_time = datetime.now()\n",
    "\n",
    "l_reg = linear_model.LinearRegression()\n",
    "l_reg.fit(X_train, y_train)\n",
    "sales_lr_pred = l_reg.predict(X_test)\n",
    "\n",
    "regressor = 'Linear Reg'\n",
    "RMSPE = RMSPE_fct(y_test, sales_lr_pred)\n",
    "MSE = mean_squared_error(y_test, sales_lr_pred)\n",
    "R2 = r2_score(y_test, sales_lr_pred)\n",
    "\n",
    "# time \n",
    "\n",
    "time_elapsed = datetime.now() - start_time \n",
    "\n",
    "# scores \n",
    "\n",
    "scores = scores.append(pd.Series([regressor, RMSPE, MSE, R2, time_elapsed], index=scores.columns), ignore_index=True)\n",
    "\n",
    "print('Mean squared error: %.2f' % MSE)\n",
    "print('Root mean squared percentage error: %.2f' % RMSPE)\n",
    "print('Variance score: %.2f' % R2)\n",
    "print('Time elapsed (hh:mm:ss.ms) {}'.format(time_elapsed))"
   ]
  },
  {
   "cell_type": "code",
   "execution_count": 44,
   "metadata": {},
   "outputs": [
    {
     "name": "stdout",
     "output_type": "stream",
     "text": [
      "                            OLS Regression Results                            \n",
      "==============================================================================\n",
      "Dep. Variable:                  Sales   R-squared:                       0.906\n",
      "Model:                            OLS   Adj. R-squared:                  0.906\n",
      "Method:                 Least Squares   F-statistic:                 1.770e+05\n",
      "Date:                Tue, 09 Apr 2019   Prob (F-statistic):               0.00\n",
      "Time:                        22:40:34   Log-Likelihood:            -6.0347e+06\n",
      "No. Observations:              712046   AIC:                         1.207e+07\n",
      "Df Residuals:                  712006   BIC:                         1.207e+07\n",
      "Df Model:                          39                                         \n",
      "Covariance Type:            nonrobust                                         \n",
      "==============================================================================\n",
      "                 coef    std err          t      P>|t|      [0.025      0.975]\n",
      "------------------------------------------------------------------------------\n",
      "const       1.008e+05   2490.914     40.484      0.000     9.6e+04    1.06e+05\n",
      "x1             7.0910      0.005   1570.512      0.000       7.082       7.100\n",
      "x2          1098.8642     17.237     63.750      0.000    1065.080    1132.649\n",
      "x3            92.0803      5.062     18.192      0.000      82.160     102.001\n",
      "x4          -196.2430     19.444    -10.093      0.000    -234.353    -158.133\n",
      "x5          -659.0961     24.887    -26.484      0.000    -707.873    -610.319\n",
      "x6          -388.4273     31.003    -12.529      0.000    -449.192    -327.662\n",
      "x7           146.4470      4.108     35.650      0.000     138.396     154.498\n",
      "x8         -3022.2305     17.082   -176.925      0.000   -3055.711   -2988.750\n",
      "x9          -112.7542      4.239    -26.596      0.000    -121.063    -104.445\n",
      "x10          878.6650      3.299    266.382      0.000     872.200     885.130\n",
      "x11        -3859.2798     22.147   -174.257      0.000   -3902.687   -3815.872\n",
      "x12          255.8580      2.907     88.027      0.000     250.161     261.555\n",
      "x13         1246.6084      3.345    372.662      0.000    1240.052    1253.165\n",
      "x14          186.4261      4.557     40.909      0.000     177.494     195.358\n",
      "x15            5.7912      0.143     40.604      0.000       5.512       6.071\n",
      "x16          -48.9609      1.221    -40.114      0.000     -51.353     -46.569\n",
      "x17           69.3406      4.795     14.461      0.000      59.943      78.739\n",
      "x18         -112.0114      6.080    -18.422      0.000    -123.929    -100.094\n",
      "x19            0.0192      0.000    102.471      0.000       0.019       0.020\n",
      "x20           -3.5737      0.524     -6.825      0.000      -4.600      -2.547\n",
      "x21           -2.0553      0.279     -7.373      0.000      -2.602      -1.509\n",
      "x22          998.4964     27.106     36.837      0.000     945.369    1051.624\n",
      "x23          218.1956      4.949     44.086      0.000     208.495     227.896\n",
      "x24          136.3473      3.633     37.529      0.000     129.227     143.468\n",
      "x25         1.677e-12   6.32e-14     26.543      0.000    1.55e-12     1.8e-12\n",
      "x26         -209.3123      7.929    -26.399      0.000    -224.853    -193.772\n",
      "x27         -407.8002     11.279    -36.156      0.000    -429.906    -385.694\n",
      "x28         -677.0117     15.699    -43.125      0.000    -707.781    -646.242\n",
      "x29         -839.6091     20.286    -41.389      0.000    -879.368    -799.850\n",
      "x30        -1040.9026     25.028    -41.589      0.000   -1089.957    -991.848\n",
      "x31        -1278.3580     29.877    -42.788      0.000   -1336.915   -1219.801\n",
      "x32        -1603.9920     34.760    -46.144      0.000   -1672.121   -1535.863\n",
      "x33        -1825.3599     39.591    -46.105      0.000   -1902.958   -1747.762\n",
      "x34        -2029.9633     44.492    -45.625      0.000   -2117.167   -1942.760\n",
      "x35        -1962.1776     49.454    -39.677      0.000   -2059.105   -1865.250\n",
      "x36        -1601.1812     54.334    -29.469      0.000   -1707.675   -1494.688\n",
      "x37        -1500.5581     27.484    -54.597      0.000   -1554.426   -1446.690\n",
      "x38        -2613.3245     54.340    -48.093      0.000   -2719.828   -2506.821\n",
      "x39        -3685.1793     81.359    -45.295      0.000   -3844.641   -3525.718\n",
      "x40        -4557.8952    108.418    -42.040      0.000   -4770.392   -4345.399\n",
      "x41        -5206.5846    135.492    -38.427      0.000   -5472.145   -4941.024\n",
      "x42        -6299.4596    162.838    -38.685      0.000   -6618.617   -5980.302\n",
      "==============================================================================\n",
      "Omnibus:                   195657.969   Durbin-Watson:                   1.822\n",
      "Prob(Omnibus):                  0.000   Jarque-Bera (JB):          2451904.557\n",
      "Skew:                           0.970   Prob(JB):                         0.00\n",
      "Kurtosis:                      11.882   Cond. No.                     1.41e+16\n",
      "==============================================================================\n",
      "\n",
      "Warnings:\n",
      "[1] Standard Errors assume that the covariance matrix of the errors is correctly specified.\n",
      "[2] The smallest eigenvalue is 3.27e-19. This might indicate that there are\n",
      "strong multicollinearity problems or that the design matrix is singular.\n"
     ]
    }
   ],
   "source": [
    "# running statsmodel regression with store type and assortment model with an intercept\n",
    "\n",
    "X_train = train.drop(['Store_ID', \n",
    "                      'Sales', \n",
    "                      'Date', \n",
    "                      'DayOfMonth', \n",
    "                      'Type_A', \n",
    "                      'Assort_Basic', \n",
    "                      'Promo2_Feb,May,Aug,Nov',\n",
    "                      'Year',\n",
    "                      '2013',\n",
    "                      'Jan',\n",
    "                      'Mon'], axis=1)\n",
    "\n",
    "X_train = imputer.fit_transform(X_train)\n",
    "y_train = train['Sales']\n",
    "\n",
    "X_test = test.drop(['Store_ID', \n",
    "                      'Sales', \n",
    "                      'Date', \n",
    "                      'DayOfMonth', \n",
    "                      'Type_A', \n",
    "                      'Assort_Basic', \n",
    "                      'Promo2_Feb,May,Aug,Nov',\n",
    "                      'Year',\n",
    "                      '2013',\n",
    "                      'Mon',\n",
    "                      'Jan'], axis=1)\n",
    "\n",
    "X_test = imputer.fit_transform(X_test)\n",
    "y_test = test['Sales']\n",
    "\n",
    "sm_lr_model = sm.OLS(y_train, X_train)\n",
    "results = sm_lr_model.fit()\n",
    "print(results.summary())"
   ]
  },
  {
   "cell_type": "markdown",
   "metadata": {},
   "source": [
    "The overall r squared and mean squared error values are just about the same as in the \"all in one model\", I have cleared out some multicollinear variables and will use this final benchmark model going forward. "
   ]
  },
  {
   "cell_type": "markdown",
   "metadata": {},
   "source": [
    "# Model preparation"
   ]
  },
  {
   "cell_type": "markdown",
   "metadata": {},
   "source": [
    "## Preparing the data"
   ]
  },
  {
   "cell_type": "code",
   "execution_count": 45,
   "metadata": {},
   "outputs": [
    {
     "name": "stdout",
     "output_type": "stream",
     "text": [
      "<class 'pandas.core.frame.DataFrame'>\n",
      "Int64Index: 712046 entries, 1017208 to 401517\n",
      "Data columns (total 42 columns):\n",
      "Customers                    712046 non-null int64\n",
      "Open                         712046 non-null int64\n",
      "H_None                       712046 non-null int64\n",
      "H_Public                     712046 non-null int64\n",
      "H_Easter                     712046 non-null int64\n",
      "H_X-Mas                      712046 non-null int64\n",
      "SchoolHoliday                712046 non-null int64\n",
      "Type_B                       712046 non-null int64\n",
      "Type_C                       712046 non-null int64\n",
      "Type_D                       712046 non-null int64\n",
      "Assort_Extra                 712046 non-null int64\n",
      "Assort_Extended              712046 non-null int64\n",
      "Promo1                       712046 non-null int64\n",
      "Promo2                       712046 non-null int64\n",
      "Promo2SinceWeek              357603 non-null float64\n",
      "Promo2SinceYear              357603 non-null float64\n",
      "Promo2_Jan,Apr,Jul,Oct       712046 non-null int64\n",
      "Promo2_Mar,Jun,Sept,Dec      712046 non-null int64\n",
      "CompetitionDistance          710187 non-null float64\n",
      "CompetitionOpenSinceMonth    485748 non-null float64\n",
      "CompetitionOpenSinceYear     485748 non-null float64\n",
      "DayOfWeek                    712046 non-null int64\n",
      "Month                        712046 non-null int64\n",
      "2014                         712046 non-null int64\n",
      "2015                         712046 non-null int64\n",
      "Feb                          712046 non-null int64\n",
      "Mar                          712046 non-null int64\n",
      "Apr                          712046 non-null int64\n",
      "May                          712046 non-null int64\n",
      "Jun                          712046 non-null int64\n",
      "Jul                          712046 non-null int64\n",
      "Aug                          712046 non-null int64\n",
      "Sep                          712046 non-null int64\n",
      "Oct                          712046 non-null int64\n",
      "Nov                          712046 non-null int64\n",
      "Dec                          712046 non-null int64\n",
      "Tue                          712046 non-null int64\n",
      "Wed                          712046 non-null int64\n",
      "Thu                          712046 non-null int64\n",
      "Fri                          712046 non-null int64\n",
      "Sat                          712046 non-null int64\n",
      "Sun                          712046 non-null int64\n",
      "dtypes: float64(5), int64(37)\n",
      "memory usage: 233.6 MB\n"
     ]
    }
   ],
   "source": [
    "X_train = train.drop(['Intercept',\n",
    "                      'Store_ID', \n",
    "                      'Sales', \n",
    "                      'Date', \n",
    "                      'DayOfMonth', \n",
    "                      'Type_A', \n",
    "                      'Assort_Basic', \n",
    "                      'Promo2_Feb,May,Aug,Nov',\n",
    "                      'Year',\n",
    "                      '2013',\n",
    "                      'Jan',\n",
    "                      'Mon'], axis=1)\n",
    "\n",
    "X_train.info()\n",
    "\n",
    "X_train = imputer.fit_transform(X_train)\n",
    "\n",
    "y_train = train['Sales']\n",
    "\n",
    "X_test = test.drop(['Intercept',\n",
    "                      'Store_ID', \n",
    "                      'Sales', \n",
    "                      'Date', \n",
    "                      'DayOfMonth', \n",
    "                      'Type_A', \n",
    "                      'Assort_Basic', \n",
    "                      'Promo2_Feb,May,Aug,Nov',\n",
    "                      'Year',\n",
    "                      '2013',\n",
    "                      'Jan',\n",
    "                      'Mon'], axis=1)\n",
    "\n",
    "X_test = imputer.fit_transform(X_test)\n",
    "\n",
    "y_test = test['Sales']\n"
   ]
  },
  {
   "cell_type": "markdown",
   "metadata": {},
   "source": [
    "## Support Vector Regression (Linear SVR)"
   ]
  },
  {
   "cell_type": "code",
   "execution_count": 46,
   "metadata": {},
   "outputs": [
    {
     "name": "stdout",
     "output_type": "stream",
     "text": [
      "Mean squared error: 21940944.71\n",
      "Root mean squared percentage error: 1.02\n",
      "Variance score: -0.38\n",
      "Time elapsed (hh:mm:ss.ms) 0:04:20.598299\n"
     ]
    }
   ],
   "source": [
    "# source: http://scikit-learn.org/stable/modules/generated/sklearn.svm.LinearSVR.html#sklearn.svm.LinearSVR\n",
    "\n",
    "from sklearn.svm import LinearSVR\n",
    "\n",
    "start_time = datetime.now()\n",
    "\n",
    "SVR = LinearSVR()\n",
    "SVR.fit(X_train, y_train)\n",
    "SVR_pred = SVR.predict(X_test)\n",
    "\n",
    "regressor = 'LinearSVR'\n",
    "RMSPE = RMSPE_fct(y_test, SVR_pred)\n",
    "MSE = mean_squared_error(y_test, SVR_pred)\n",
    "R2 = r2_score(y_test, SVR_pred)\n",
    "\n",
    "# time \n",
    "\n",
    "time_elapsed = datetime.now() - start_time \n",
    "\n",
    "# scores \n",
    "\n",
    "scores = scores.append(pd.Series([regressor, RMSPE, MSE, R2, time_elapsed], index=scores.columns), ignore_index=True)\n",
    "\n",
    "print('Mean squared error: %.2f' % MSE)\n",
    "print('Root mean squared percentage error: %.2f' % RMSPE)\n",
    "print('Variance score: %.2f' % R2)\n",
    "print('Time elapsed (hh:mm:ss.ms) {}'.format(time_elapsed))"
   ]
  },
  {
   "cell_type": "markdown",
   "metadata": {},
   "source": [
    "## ElasticNet"
   ]
  },
  {
   "cell_type": "code",
   "execution_count": 47,
   "metadata": {},
   "outputs": [
    {
     "name": "stdout",
     "output_type": "stream",
     "text": [
      "Mean squared error: 2348652.10\n",
      "Root mean squared percentage error: 0.20\n",
      "Variance score: 0.85\n",
      "Time elapsed (hh:mm:ss.ms) 0:00:01.245563\n"
     ]
    }
   ],
   "source": [
    "# source: http://scikit-learn.org/stable/modules/linear_model.html#elastic-net\n",
    "\n",
    "from sklearn.linear_model import ElasticNet\n",
    "\n",
    "start_time = datetime.now()\n",
    "\n",
    "Elastic = ElasticNet()\n",
    "Elastic.fit(X_train, y_train)\n",
    "Elastic_pred = Elastic.predict(X_test)\n",
    "\n",
    "regressor = 'ElasticNet'\n",
    "RMSPE = RMSPE_fct(y_test, Elastic_pred)\n",
    "MSE = mean_squared_error(y_test, Elastic_pred)\n",
    "R2 = r2_score(y_test, Elastic_pred)\n",
    "\n",
    "# time \n",
    "\n",
    "time_elapsed = datetime.now() - start_time \n",
    "\n",
    "# scores \n",
    "\n",
    "scores = scores.append(pd.Series([regressor, RMSPE, MSE, R2, time_elapsed], index=scores.columns), ignore_index=True)\n",
    "\n",
    "print('Mean squared error: %.2f' % MSE)\n",
    "print('Root mean squared percentage error: %.2f' % RMSPE)\n",
    "print('Variance score: %.2f' % R2)\n",
    "print('Time elapsed (hh:mm:ss.ms) {}'.format(time_elapsed))"
   ]
  },
  {
   "cell_type": "markdown",
   "metadata": {},
   "source": [
    "## Lasso"
   ]
  },
  {
   "cell_type": "code",
   "execution_count": 48,
   "metadata": {},
   "outputs": [
    {
     "name": "stdout",
     "output_type": "stream",
     "text": [
      "Mean squared error: 1474663.93\n",
      "Root mean squared percentage error: 0.18\n",
      "Variance score: 0.91\n",
      "Time elapsed (hh:mm:ss.ms) 0:00:07.476967\n"
     ]
    }
   ],
   "source": [
    "# source: http://scikit-learn.org/stable/modules/linear_model.html#lasso\n",
    "\n",
    "start_time = datetime.now()\n",
    "\n",
    "lasso = linear_model.Lasso()\n",
    "lasso.fit(X_train, y_train)\n",
    "lasso_pred = lasso.predict(X_test)\n",
    "\n",
    "regressor = 'Lasso'\n",
    "RMSPE = RMSPE_fct(y_test, lasso_pred)\n",
    "MSE = mean_squared_error(y_test, lasso_pred)\n",
    "R2 = r2_score(y_test, lasso_pred)\n",
    "\n",
    "# time \n",
    "\n",
    "time_elapsed = datetime.now() - start_time \n",
    "\n",
    "# scores \n",
    "\n",
    "scores = scores.append(pd.Series([regressor, RMSPE, MSE, R2, time_elapsed], index=scores.columns), ignore_index=True)\n",
    "\n",
    "print('Mean squared error: %.2f' % MSE)\n",
    "print('Root mean squared percentage error: %.2f' % RMSPE)\n",
    "print('Variance score: %.2f' % R2)\n",
    "print('Time elapsed (hh:mm:ss.ms) {}'.format(time_elapsed))"
   ]
  },
  {
   "cell_type": "markdown",
   "metadata": {},
   "source": [
    "## Light Gradient Boosting Machine"
   ]
  },
  {
   "cell_type": "code",
   "execution_count": 49,
   "metadata": {},
   "outputs": [
    {
     "name": "stderr",
     "output_type": "stream",
     "text": [
      "/Users/manuelfreude/anaconda3/envs/tensorflow/lib/python3.6/site-packages/lightgbm/__init__.py:46: UserWarning: Starting from version 2.2.1, the library file in distribution wheels for macOS is built by the Apple Clang (Xcode_8.3.1) compiler.\n",
      "This means that in case of installing LightGBM from PyPI via the ``pip install lightgbm`` command, you don't need to install the gcc compiler anymore.\n",
      "Instead of that, you need to install the OpenMP library, which is required for running LightGBM on the system with the Apple Clang compiler.\n",
      "You can install the OpenMP library by the following command: ``brew install libomp``.\n",
      "  \"You can install the OpenMP library by the following command: ``brew install libomp``.\", UserWarning)\n"
     ]
    },
    {
     "name": "stdout",
     "output_type": "stream",
     "text": [
      "Mean squared error: 626775.16\n",
      "Root mean squared percentage error: 0.13\n",
      "Variance score: 0.96\n",
      "Time elapsed (hh:mm:ss.ms) 0:00:05.742142\n"
     ]
    }
   ],
   "source": [
    "# https://lightgbm.readthedocs.io/en/latest/_modules/lightgbm/sklearn.html\n",
    "\n",
    "import lightgbm as lgb\n",
    "\n",
    "start_time = datetime.now()\n",
    "\n",
    "train_data = lgb.Dataset(X_train, label=y_train)\n",
    "\n",
    "lgb = lgb.LGBMRegressor()\n",
    "lgb.fit(X_train, y_train)\n",
    "lgb_pred = lgb.predict(X_test)\n",
    "\n",
    "regressor = 'LGBM'\n",
    "RMSPE = RMSPE_fct(y_test, lgb_pred)\n",
    "MSE = mean_squared_error(y_test, lgb_pred)\n",
    "R2 = r2_score(y_test, lgb_pred)\n",
    "\n",
    "# time \n",
    "\n",
    "time_elapsed = datetime.now() - start_time \n",
    "\n",
    "# scores \n",
    "\n",
    "scores = scores.append(pd.Series([regressor, RMSPE, MSE, R2, time_elapsed], index=scores.columns), ignore_index=True)\n",
    "\n",
    "print('Mean squared error: %.2f' % MSE)\n",
    "print('Root mean squared percentage error: %.2f' % RMSPE)\n",
    "print('Variance score: %.2f' % R2)\n",
    "print('Time elapsed (hh:mm:ss.ms) {}'.format(time_elapsed))"
   ]
  },
  {
   "cell_type": "markdown",
   "metadata": {},
   "source": [
    "## XGBoost regressor"
   ]
  },
  {
   "cell_type": "code",
   "execution_count": 50,
   "metadata": {},
   "outputs": [
    {
     "name": "stdout",
     "output_type": "stream",
     "text": [
      "Mean squared error: 947606.79\n",
      "Root mean squared percentage error: 0.13\n",
      "Variance score: 0.94\n",
      "Time elapsed (hh:mm:ss.ms) 0:01:22.458597\n"
     ]
    }
   ],
   "source": [
    "# source: https://machinelearningmastery.com/develop-first-xgboost-model-python-scikit-learn/\n",
    "\n",
    "from xgboost import XGBRegressor\n",
    "\n",
    "start_time = datetime.now()\n",
    "\n",
    "XGB = XGBRegressor()\n",
    "XGB.fit(X_train, y_train)\n",
    "XGB_pred = XGB.predict(X_test)\n",
    "\n",
    "regressor = 'XGBoost'\n",
    "RMSPE = RMSPE_fct(y_test, XGB_pred)\n",
    "MSE = mean_squared_error(y_test, XGB_pred)\n",
    "R2 = r2_score(y_test, XGB_pred)\n",
    "\n",
    "# time \n",
    "\n",
    "time_elapsed = datetime.now() - start_time \n",
    "\n",
    "# scores \n",
    "\n",
    "scores = scores.append(pd.Series([regressor, RMSPE, MSE, R2, time_elapsed], index=scores.columns), ignore_index=True)\n",
    "\n",
    "print('Mean squared error: %.2f' % MSE)\n",
    "print('Root mean squared percentage error: %.2f' % RMSPE)\n",
    "print('Variance score: %.2f' % R2)\n",
    "print('Time elapsed (hh:mm:ss.ms) {}'.format(time_elapsed))"
   ]
  },
  {
   "cell_type": "markdown",
   "metadata": {},
   "source": [
    "## MLP regressor"
   ]
  },
  {
   "cell_type": "code",
   "execution_count": 51,
   "metadata": {},
   "outputs": [
    {
     "name": "stdout",
     "output_type": "stream",
     "text": [
      "Mean squared error: 941626.04\n",
      "Root mean squared percentage error: 0.13\n",
      "Variance score: 0.94\n",
      "Time elapsed (hh:mm:ss.ms) 0:07:59.506354\n"
     ]
    }
   ],
   "source": [
    "# source: http://scikit-learn.org/stable/modules/generated/sklearn.neural_network.MLPRegressor.html\n",
    "\n",
    "from sklearn.neural_network import MLPRegressor\n",
    "\n",
    "start_time = datetime.now()\n",
    "\n",
    "MLP = MLPRegressor()\n",
    "MLP.fit(X_train, y_train)\n",
    "MLP_pred = MLP.predict(X_test)\n",
    "\n",
    "regressor = 'Neural Net'\n",
    "RMSPE = RMSPE_fct(y_test, MLP_pred)\n",
    "MSE = mean_squared_error(y_test, MLP_pred)\n",
    "R2 = r2_score(y_test, MLP_pred)\n",
    "\n",
    "# time \n",
    "\n",
    "time_elapsed = datetime.now() - start_time \n",
    "\n",
    "# scores \n",
    "\n",
    "scores = scores.append(pd.Series([regressor, RMSPE, MSE, R2, time_elapsed], index=scores.columns), ignore_index=True)\n",
    "\n",
    "print('Mean squared error: %.2f' % MSE)\n",
    "print('Root mean squared percentage error: %.2f' % RMSPE)\n",
    "print('Variance score: %.2f' % R2)\n",
    "print('Time elapsed (hh:mm:ss.ms) {}'.format(time_elapsed))"
   ]
  },
  {
   "cell_type": "markdown",
   "metadata": {},
   "source": [
    "## AdaBoost regressor"
   ]
  },
  {
   "cell_type": "code",
   "execution_count": 52,
   "metadata": {},
   "outputs": [
    {
     "name": "stderr",
     "output_type": "stream",
     "text": [
      "/Users/manuelfreude/anaconda3/envs/tensorflow/lib/python3.6/site-packages/sklearn/ensemble/weight_boosting.py:29: DeprecationWarning: numpy.core.umath_tests is an internal NumPy module and should not be imported. It will be removed in a future NumPy release.\n",
      "  from numpy.core.umath_tests import inner1d\n"
     ]
    },
    {
     "name": "stdout",
     "output_type": "stream",
     "text": [
      "Mean squared error: 1474299.82\n",
      "Root mean squared percentage error: 0.18\n",
      "Variance score: 0.91\n",
      "Time elapsed (hh:mm:ss.ms) 0:01:47.173080\n"
     ]
    }
   ],
   "source": [
    "# source: http://scikit-learn.org/stable/modules/generated/sklearn.ensemble.AdaBoostRegressor.html\n",
    "\n",
    "from sklearn.ensemble import AdaBoostRegressor\n",
    "\n",
    "start_time = datetime.now()\n",
    "\n",
    "Ada = AdaBoostRegressor(base_estimator=linear_model.LinearRegression(), learning_rate=0.005)\n",
    "Ada.fit(X_train, y_train)\n",
    "Ada_pred = Ada.predict(X_test)\n",
    "\n",
    "regressor = 'AdaBoost'\n",
    "RMSPE = RMSPE_fct(y_test, Ada_pred)\n",
    "MSE = mean_squared_error(y_test, Ada_pred)\n",
    "R2 = r2_score(y_test, Ada_pred)\n",
    "\n",
    "# time \n",
    "\n",
    "time_elapsed = datetime.now() - start_time \n",
    "\n",
    "# scores \n",
    "\n",
    "scores = scores.append(pd.Series([regressor, RMSPE, MSE, R2, time_elapsed], index=scores.columns), ignore_index=True)\n",
    "\n",
    "print('Mean squared error: %.2f' % MSE)\n",
    "print('Root mean squared percentage error: %.2f' % RMSPE)\n",
    "print('Variance score: %.2f' % R2)\n",
    "print('Time elapsed (hh:mm:ss.ms) {}'.format(time_elapsed))"
   ]
  },
  {
   "cell_type": "markdown",
   "metadata": {},
   "source": [
    "## Performance comparison"
   ]
  },
  {
   "cell_type": "code",
   "execution_count": 53,
   "metadata": {},
   "outputs": [
    {
     "data": {
      "text/html": [
       "<div>\n",
       "<style scoped>\n",
       "    .dataframe tbody tr th:only-of-type {\n",
       "        vertical-align: middle;\n",
       "    }\n",
       "\n",
       "    .dataframe tbody tr th {\n",
       "        vertical-align: top;\n",
       "    }\n",
       "\n",
       "    .dataframe thead th {\n",
       "        text-align: right;\n",
       "    }\n",
       "</style>\n",
       "<table border=\"1\" class=\"dataframe\">\n",
       "  <thead>\n",
       "    <tr style=\"text-align: right;\">\n",
       "      <th></th>\n",
       "      <th>Regressor</th>\n",
       "      <th>RMSPE</th>\n",
       "      <th>MSE</th>\n",
       "      <th>R2</th>\n",
       "      <th>Time</th>\n",
       "    </tr>\n",
       "  </thead>\n",
       "  <tbody>\n",
       "    <tr>\n",
       "      <th>0</th>\n",
       "      <td>Linear Reg</td>\n",
       "      <td>0.184117</td>\n",
       "      <td>1.474975e+06</td>\n",
       "      <td>0.907479</td>\n",
       "      <td>00:00:00.999722</td>\n",
       "    </tr>\n",
       "    <tr>\n",
       "      <th>1</th>\n",
       "      <td>LinearSVR</td>\n",
       "      <td>1.016006</td>\n",
       "      <td>2.194094e+07</td>\n",
       "      <td>-0.376297</td>\n",
       "      <td>00:04:20.598299</td>\n",
       "    </tr>\n",
       "    <tr>\n",
       "      <th>2</th>\n",
       "      <td>ElasticNet</td>\n",
       "      <td>0.199590</td>\n",
       "      <td>2.348652e+06</td>\n",
       "      <td>0.852675</td>\n",
       "      <td>00:00:01.245563</td>\n",
       "    </tr>\n",
       "    <tr>\n",
       "      <th>3</th>\n",
       "      <td>Lasso</td>\n",
       "      <td>0.182485</td>\n",
       "      <td>1.474664e+06</td>\n",
       "      <td>0.907498</td>\n",
       "      <td>00:00:07.476967</td>\n",
       "    </tr>\n",
       "    <tr>\n",
       "      <th>4</th>\n",
       "      <td>LGBM</td>\n",
       "      <td>0.134949</td>\n",
       "      <td>6.267752e+05</td>\n",
       "      <td>0.960684</td>\n",
       "      <td>00:00:05.742142</td>\n",
       "    </tr>\n",
       "    <tr>\n",
       "      <th>5</th>\n",
       "      <td>XGBoost</td>\n",
       "      <td>0.128395</td>\n",
       "      <td>9.476068e+05</td>\n",
       "      <td>0.940559</td>\n",
       "      <td>00:01:22.458597</td>\n",
       "    </tr>\n",
       "    <tr>\n",
       "      <th>6</th>\n",
       "      <td>Neural Net</td>\n",
       "      <td>0.131720</td>\n",
       "      <td>9.416260e+05</td>\n",
       "      <td>0.940934</td>\n",
       "      <td>00:07:59.506354</td>\n",
       "    </tr>\n",
       "    <tr>\n",
       "      <th>7</th>\n",
       "      <td>AdaBoost</td>\n",
       "      <td>0.184656</td>\n",
       "      <td>1.474300e+06</td>\n",
       "      <td>0.907521</td>\n",
       "      <td>00:01:47.173080</td>\n",
       "    </tr>\n",
       "  </tbody>\n",
       "</table>\n",
       "</div>"
      ],
      "text/plain": [
       "    Regressor     RMSPE           MSE        R2            Time\n",
       "0  Linear Reg  0.184117  1.474975e+06  0.907479 00:00:00.999722\n",
       "1   LinearSVR  1.016006  2.194094e+07 -0.376297 00:04:20.598299\n",
       "2  ElasticNet  0.199590  2.348652e+06  0.852675 00:00:01.245563\n",
       "3       Lasso  0.182485  1.474664e+06  0.907498 00:00:07.476967\n",
       "4        LGBM  0.134949  6.267752e+05  0.960684 00:00:05.742142\n",
       "5     XGBoost  0.128395  9.476068e+05  0.940559 00:01:22.458597\n",
       "6  Neural Net  0.131720  9.416260e+05  0.940934 00:07:59.506354\n",
       "7    AdaBoost  0.184656  1.474300e+06  0.907521 00:01:47.173080"
      ]
     },
     "execution_count": 53,
     "metadata": {},
     "output_type": "execute_result"
    }
   ],
   "source": [
    "scores"
   ]
  },
  {
   "cell_type": "code",
   "execution_count": 54,
   "metadata": {},
   "outputs": [
    {
     "data": {
      "image/png": "[encoded data removed]",
      "text/plain": [
       "<Figure size 432x288 with 1 Axes>"
      ]
     },
     "metadata": {},
     "output_type": "display_data"
    }
   ],
   "source": [
    "pyplot.bar(scores['Regressor'], scores['MSE'], color='C7')\n",
    "pyplot.xticks(rotation=45)\n",
    "pyplot.ylabel('Mean squared error')\n",
    "pyplot.xlabel('Algorithms');"
   ]
  },
  {
   "cell_type": "code",
   "execution_count": 55,
   "metadata": {},
   "outputs": [
    {
     "data": {
      "image/png": "[encoded data removed]",
      "text/plain": [
       "<Figure size 432x288 with 1 Axes>"
      ]
     },
     "metadata": {},
     "output_type": "display_data"
    }
   ],
   "source": [
    "pyplot.bar(scores['Regressor'], scores['RMSPE'], color='C7')\n",
    "pyplot.xticks(rotation=45)\n",
    "pyplot.ylabel('Root mean squared percentage error')\n",
    "pyplot.xlabel('Algorithms');"
   ]
  },
  {
   "cell_type": "code",
   "execution_count": 56,
   "metadata": {},
   "outputs": [
    {
     "data": {
      "image/png": "[encoded data removed]",
      "text/plain": [
       "<Figure size 432x288 with 1 Axes>"
      ]
     },
     "metadata": {},
     "output_type": "display_data"
    }
   ],
   "source": [
    "pyplot.bar(scores['Regressor'], scores['R2'], color='C7')\n",
    "pyplot.xticks(rotation=45)\n",
    "pyplot.ylabel('r2 score')\n",
    "pyplot.xlabel('Algorithms');"
   ]
  },
  {
   "cell_type": "markdown",
   "metadata": {},
   "source": [
    "# Fine-tuning of three top-performing models"
   ]
  },
  {
   "cell_type": "markdown",
   "metadata": {},
   "source": [
    "### Grid search of LGBM"
   ]
  },
  {
   "cell_type": "code",
   "execution_count": 57,
   "metadata": {},
   "outputs": [
    {
     "name": "stdout",
     "output_type": "stream",
     "text": [
      "Best: -0.088474 using {'learning_rate': 0.1, 'max_depth': 10, 'n_estimators': 200, 'num_leaves': 50}\n",
      "-0.242222 (0.012632) with: {'learning_rate': 0.01, 'max_depth': 5, 'n_estimators': 100, 'num_leaves': 10}\n",
      "-0.229083 (0.014457) with: {'learning_rate': 0.01, 'max_depth': 5, 'n_estimators': 100, 'num_leaves': 25}\n",
      "-0.226792 (0.014307) with: {'learning_rate': 0.01, 'max_depth': 5, 'n_estimators': 100, 'num_leaves': 50}\n",
      "-0.181722 (0.008691) with: {'learning_rate': 0.01, 'max_depth': 5, 'n_estimators': 200, 'num_leaves': 10}\n",
      "-0.168152 (0.009673) with: {'learning_rate': 0.01, 'max_depth': 5, 'n_estimators': 200, 'num_leaves': 25}\n",
      "-0.167268 (0.010216) with: {'learning_rate': 0.01, 'max_depth': 5, 'n_estimators': 200, 'num_leaves': 50}\n",
      "-0.242222 (0.012632) with: {'learning_rate': 0.01, 'max_depth': 10, 'n_estimators': 100, 'num_leaves': 10}\n",
      "-0.228498 (0.013919) with: {'learning_rate': 0.01, 'max_depth': 10, 'n_estimators': 100, 'num_leaves': 25}\n",
      "-0.222288 (0.013746) with: {'learning_rate': 0.01, 'max_depth': 10, 'n_estimators': 100, 'num_leaves': 50}\n",
      "-0.181744 (0.008641) with: {'learning_rate': 0.01, 'max_depth': 10, 'n_estimators': 200, 'num_leaves': 10}\n",
      "-0.167932 (0.009446) with: {'learning_rate': 0.01, 'max_depth': 10, 'n_estimators': 200, 'num_leaves': 25}\n",
      "-0.160221 (0.009168) with: {'learning_rate': 0.01, 'max_depth': 10, 'n_estimators': 200, 'num_leaves': 50}\n",
      "-0.135225 (0.006079) with: {'learning_rate': 0.1, 'max_depth': 5, 'n_estimators': 100, 'num_leaves': 10}\n",
      "-0.123701 (0.005091) with: {'learning_rate': 0.1, 'max_depth': 5, 'n_estimators': 100, 'num_leaves': 25}\n",
      "-0.123314 (0.005933) with: {'learning_rate': 0.1, 'max_depth': 5, 'n_estimators': 100, 'num_leaves': 50}\n",
      "-0.125445 (0.005417) with: {'learning_rate': 0.1, 'max_depth': 5, 'n_estimators': 200, 'num_leaves': 10}\n",
      "-0.109161 (0.004445) with: {'learning_rate': 0.1, 'max_depth': 5, 'n_estimators': 200, 'num_leaves': 25}\n",
      "-0.107967 (0.005270) with: {'learning_rate': 0.1, 'max_depth': 5, 'n_estimators': 200, 'num_leaves': 50}\n",
      "-0.134950 (0.006285) with: {'learning_rate': 0.1, 'max_depth': 10, 'n_estimators': 100, 'num_leaves': 10}\n",
      "-0.118944 (0.004281) with: {'learning_rate': 0.1, 'max_depth': 10, 'n_estimators': 100, 'num_leaves': 25}\n",
      "-0.105487 (0.003670) with: {'learning_rate': 0.1, 'max_depth': 10, 'n_estimators': 100, 'num_leaves': 50}\n",
      "-0.124081 (0.005327) with: {'learning_rate': 0.1, 'max_depth': 10, 'n_estimators': 200, 'num_leaves': 10}\n",
      "-0.102795 (0.003989) with: {'learning_rate': 0.1, 'max_depth': 10, 'n_estimators': 200, 'num_leaves': 25}\n",
      "-0.088474 (0.003967) with: {'learning_rate': 0.1, 'max_depth': 10, 'n_estimators': 200, 'num_leaves': 50}\n",
      "Time elapsed (hh:mm:ss.ms) 0:15:33.605036\n"
     ]
    }
   ],
   "source": [
    "# Use grid search for https://lightgbm.readthedocs.io/en/latest/_modules/lightgbm/sklearn.html\n",
    "# Params useful for grid search in LGB: num_leaves, max_depth, n_estimators and learning rate\n",
    "\n",
    "from sklearn.model_selection import GridSearchCV\n",
    "from sklearn.metrics import mean_squared_error\n",
    "from sklearn.metrics import make_scorer\n",
    "import lightgbm as lgb\n",
    "\n",
    "start_time = datetime.now() \n",
    "\n",
    "train_data = lgb.Dataset(X_train, label=y_train)\n",
    "\n",
    "lgb_simple = lgb.LGBMRegressor(boosting_type='gbdt')\n",
    "\n",
    "rmspe_scorer = make_scorer(RMSPE_fct, greater_is_better=False)\n",
    "\n",
    "num_leaves = [10, 25, 50]\n",
    "\n",
    "max_depth = [5, 10]\n",
    "\n",
    "n_estimators = [100, 200]\n",
    "\n",
    "learning_rate = [0.01, 0.1]\n",
    "\n",
    "param_grid = dict(num_leaves= num_leaves, max_depth=max_depth, learning_rate=learning_rate, n_estimators=n_estimators)\n",
    "\n",
    "grid_search = GridSearchCV(lgb_simple, param_grid, scoring=rmspe_scorer, n_jobs=-1, cv=5, return_train_score=True)\n",
    "grid_result = grid_search.fit(X_train, y_train)\n",
    "\n",
    "# Summarize results\n",
    "print(\"Best: %f using %s\" % (grid_result.best_score_, grid_result.best_params_))\n",
    "means = grid_result.cv_results_['mean_test_score']\n",
    "stds = grid_result.cv_results_['std_test_score']\n",
    "params = grid_result.cv_results_['params']\n",
    "for mean, stdev, param in zip(means, stds, params):\n",
    "    print(\"%f (%f) with: %r\" % (mean, stdev, param))\n",
    "    \n",
    "time_elapsed = datetime.now() - start_time \n",
    "\n",
    "print('Time elapsed (hh:mm:ss.ms) {}'.format(time_elapsed))"
   ]
  },
  {
   "cell_type": "markdown",
   "metadata": {},
   "source": [
    "#### Best LGBM performer"
   ]
  },
  {
   "cell_type": "code",
   "execution_count": 58,
   "metadata": {},
   "outputs": [
    {
     "name": "stdout",
     "output_type": "stream",
     "text": [
      "Mean squared error: 404587.30\n",
      "Root mean squared percentage error: 0.12\n",
      "Variance score: 0.97\n",
      "Time elapsed (hh:mm:ss.ms) 0:00:08.645948\n"
     ]
    }
   ],
   "source": [
    "# https://lightgbm.readthedocs.io/en/latest/_modules/lightgbm/sklearn.html\n",
    "# Grid search results 0.088474 (0.003967) with: {'learning_rate': 0.1, 'max_depth': 10, 'n_estimators': 200, 'num_leaves': 50}\n",
    "\n",
    "import lightgbm as lgb\n",
    "\n",
    "start_time = datetime.now()\n",
    "\n",
    "train_data = lgb.Dataset(X_train, label=y_train)\n",
    "\n",
    "lgb = lgb.LGBMRegressor(learning_rate=0.1,\n",
    "                        max_depth=10,\n",
    "                        n_estimators=200,\n",
    "                        num_leaves=50)\n",
    "\n",
    "lgb.fit(X_train, y_train)\n",
    "lgb_pred = lgb.predict(X_test)\n",
    "\n",
    "regressor = 'LGBM (tuned)'\n",
    "RMSPE = RMSPE_fct(y_test, lgb_pred)\n",
    "MSE = mean_squared_error(y_test, lgb_pred)\n",
    "R2 = r2_score(y_test, lgb_pred)\n",
    "\n",
    "# time \n",
    "\n",
    "time_elapsed = datetime.now() - start_time \n",
    "\n",
    "# scores \n",
    "\n",
    "scores = scores.append(pd.Series([regressor, RMSPE, MSE, R2, time_elapsed], index=scores.columns), ignore_index=True)\n",
    "\n",
    "print('Mean squared error: %.2f' % MSE)\n",
    "print('Root mean squared percentage error: %.2f' % RMSPE)\n",
    "print('Variance score: %.2f' % R2)\n",
    "print('Time elapsed (hh:mm:ss.ms) {}'.format(time_elapsed))"
   ]
  },
  {
   "cell_type": "markdown",
   "metadata": {},
   "source": [
    "### Grid search of MLP"
   ]
  },
  {
   "cell_type": "code",
   "execution_count": 59,
   "metadata": {},
   "outputs": [
    {
     "name": "stdout",
     "output_type": "stream",
     "text": [
      "Best: -0.132289 using {'alpha': 0.01, 'hidden_layer_sizes': (300,)}\n",
      "-0.136769 (0.002783) with: {'alpha': 0.0001, 'hidden_layer_sizes': (100,)}\n",
      "-0.137921 (0.007542) with: {'alpha': 0.0001, 'hidden_layer_sizes': (200,)}\n",
      "-0.133982 (0.003209) with: {'alpha': 0.0001, 'hidden_layer_sizes': (300,)}\n",
      "-0.141891 (0.008426) with: {'alpha': 0.001, 'hidden_layer_sizes': (100,)}\n",
      "-0.134168 (0.003076) with: {'alpha': 0.001, 'hidden_layer_sizes': (200,)}\n",
      "-0.133947 (0.002414) with: {'alpha': 0.001, 'hidden_layer_sizes': (300,)}\n",
      "-0.136833 (0.004220) with: {'alpha': 0.01, 'hidden_layer_sizes': (100,)}\n",
      "-0.135260 (0.003269) with: {'alpha': 0.01, 'hidden_layer_sizes': (200,)}\n",
      "-0.132289 (0.005734) with: {'alpha': 0.01, 'hidden_layer_sizes': (300,)}\n"
     ]
    },
    {
     "ename": "ValueError",
     "evalue": "cannot reshape array of size 9 into shape (3,2)",
     "output_type": "error",
     "traceback": [
      "\u001b[0;31m---------------------------------------------------------------------------\u001b[0m",
      "\u001b[0;31mValueError\u001b[0m                                Traceback (most recent call last)",
      "\u001b[0;32m<ipython-input-59-72e0c9ec1227>\u001b[0m in \u001b[0;36m<module>\u001b[0;34m()\u001b[0m\n\u001b[1;32m     31\u001b[0m \u001b[0;34m\u001b[0m\u001b[0m\n\u001b[1;32m     32\u001b[0m \u001b[0;31m# Plot results\u001b[0m\u001b[0;34m\u001b[0m\u001b[0;34m\u001b[0m\u001b[0;34m\u001b[0m\u001b[0m\n\u001b[0;32m---> 33\u001b[0;31m \u001b[0mresults\u001b[0m \u001b[0;34m=\u001b[0m \u001b[0mnp\u001b[0m\u001b[0;34m.\u001b[0m\u001b[0marray\u001b[0m\u001b[0;34m(\u001b[0m\u001b[0mmeans\u001b[0m\u001b[0;34m)\u001b[0m\u001b[0;34m.\u001b[0m\u001b[0mreshape\u001b[0m\u001b[0;34m(\u001b[0m\u001b[0mlen\u001b[0m\u001b[0;34m(\u001b[0m\u001b[0mhidden_layer_sizes\u001b[0m\u001b[0;34m)\u001b[0m\u001b[0;34m,\u001b[0m \u001b[0mlen\u001b[0m\u001b[0;34m(\u001b[0m\u001b[0mn_estimators\u001b[0m\u001b[0;34m)\u001b[0m\u001b[0;34m)\u001b[0m\u001b[0;34m\u001b[0m\u001b[0;34m\u001b[0m\u001b[0m\n\u001b[0m\u001b[1;32m     34\u001b[0m \u001b[0;32mfor\u001b[0m \u001b[0mi\u001b[0m\u001b[0;34m,\u001b[0m \u001b[0mvalue\u001b[0m \u001b[0;32min\u001b[0m \u001b[0menumerate\u001b[0m\u001b[0;34m(\u001b[0m\u001b[0mhidden_layer_sizes\u001b[0m\u001b[0;34m)\u001b[0m\u001b[0;34m:\u001b[0m\u001b[0;34m\u001b[0m\u001b[0;34m\u001b[0m\u001b[0m\n\u001b[1;32m     35\u001b[0m     \u001b[0mplt\u001b[0m\u001b[0;34m.\u001b[0m\u001b[0mplot\u001b[0m\u001b[0;34m(\u001b[0m\u001b[0mn_estimators\u001b[0m\u001b[0;34m,\u001b[0m \u001b[0mresults\u001b[0m\u001b[0;34m[\u001b[0m\u001b[0mi\u001b[0m\u001b[0;34m]\u001b[0m\u001b[0;34m,\u001b[0m \u001b[0mlabel\u001b[0m\u001b[0;34m=\u001b[0m\u001b[0;34m'Hidden layer sizes: '\u001b[0m \u001b[0;34m+\u001b[0m \u001b[0mstr\u001b[0m\u001b[0;34m(\u001b[0m\u001b[0mvalue\u001b[0m\u001b[0;34m)\u001b[0m\u001b[0;34m)\u001b[0m\u001b[0;34m\u001b[0m\u001b[0;34m\u001b[0m\u001b[0m\n",
      "\u001b[0;31mValueError\u001b[0m: cannot reshape array of size 9 into shape (3,2)"
     ]
    }
   ],
   "source": [
    "# Using grid search for https://scikit-learn.org/stable/modules/generated/sklearn.neural_network.MLPRegressor.html\n",
    "# Params useful for grid search in MLP: alpha, hidden layer sizes\n",
    "\n",
    "from sklearn.model_selection import GridSearchCV\n",
    "from sklearn.metrics import mean_squared_error\n",
    "from sklearn.metrics import make_scorer\n",
    "\n",
    "start_time = datetime.now()\n",
    "\n",
    "MLP_simple = MLPRegressor()\n",
    "\n",
    "rmspe_scorer = make_scorer(RMSPE_fct, greater_is_better=False)\n",
    "\n",
    "hidden_layer_sizes = [(100, ), (200, ), (300, )]\n",
    "\n",
    "alpha = [0.0001, 0.001, 0.01]\n",
    "\n",
    "#param_grid = dict(learning_rate=eta, max_depth=max_depth, alpha=alpha, tree_method=tree_method)\n",
    "param_grid = dict(hidden_layer_sizes=hidden_layer_sizes, alpha=alpha)\n",
    "\n",
    "grid_search = GridSearchCV(MLP_simple, param_grid, scoring=rmspe_scorer, n_jobs=-1, cv=5, return_train_score=True)\n",
    "grid_result = grid_search.fit(X_train, y_train)\n",
    "\n",
    "# Summarize results\n",
    "print(\"Best: %f using %s\" % (grid_result.best_score_, grid_result.best_params_))\n",
    "means = grid_result.cv_results_['mean_test_score']\n",
    "stds = grid_result.cv_results_['std_test_score']\n",
    "params = grid_result.cv_results_['params']\n",
    "for mean, stdev, param in zip(means, stds, params):\n",
    "    print(\"%f (%f) with: %r\" % (mean, stdev, param))\n",
    "\n",
    "time_elapsed = datetime.now() - start_time \n",
    "\n",
    "print('Time elapsed (hh:mm:ss.ms) {}'.format(time_elapsed))"
   ]
  },
  {
   "cell_type": "markdown",
   "metadata": {},
   "source": [
    "#### Best MLP performer"
   ]
  },
  {
   "cell_type": "code",
   "execution_count": 61,
   "metadata": {},
   "outputs": [
    {
     "name": "stdout",
     "output_type": "stream",
     "text": [
      "Mean squared error: 961660.59\n",
      "Root mean squared percentage error: 0.13\n",
      "Variance score: 0.94\n",
      "Time elapsed (hh:mm:ss.ms) 0:18:18.715265\n"
     ]
    }
   ],
   "source": [
    "# https://scikit-learn.org/stable/modules/generated/sklearn.neural_network.MLPRegressor.html\n",
    "# Grid search results -0.132289 using {'alpha': 0.01, 'hidden_layer_sizes': (300,)}\n",
    "\n",
    "start_time = datetime.now()\n",
    "\n",
    "MLP = MLPRegressor(activation='relu', \n",
    "                   solver='adam', \n",
    "                   alpha=0.01, \n",
    "                   batch_size=500, \n",
    "                   hidden_layer_sizes=(300,))\n",
    "\n",
    "MLP.fit(X_train, y_train)\n",
    "MLP_pred = MLP.predict(X_test)\n",
    "\n",
    "regressor = 'MLP (tuned)'\n",
    "RMSPE = RMSPE_fct(y_test, MLP_pred)\n",
    "MSE = mean_squared_error(y_test, MLP_pred)\n",
    "R2 = r2_score(y_test, MLP_pred)\n",
    "\n",
    "# time \n",
    "\n",
    "time_elapsed = datetime.now() - start_time \n",
    "\n",
    "# scores \n",
    "\n",
    "scores = scores.append(pd.Series([regressor, RMSPE, MSE, R2, time_elapsed], index=scores.columns), ignore_index=True)\n",
    "\n",
    "print('Mean squared error: %.2f' % MSE)\n",
    "print('Root mean squared percentage error: %.2f' % RMSPE)\n",
    "print('Variance score: %.2f' % R2)\n",
    "print('Time elapsed (hh:mm:ss.ms) {}'.format(time_elapsed))"
   ]
  },
  {
   "cell_type": "markdown",
   "metadata": {},
   "source": [
    "### GridSearch of XGBoost"
   ]
  },
  {
   "cell_type": "code",
   "execution_count": 62,
   "metadata": {},
   "outputs": [
    {
     "name": "stdout",
     "output_type": "stream",
     "text": [
      "Best: -0.067737 using {'learning_rate': 0.1, 'max_depth': 20}\n",
      "-0.821740 (0.002517) with: {'learning_rate': 0.001, 'max_depth': 1}\n",
      "-0.823083 (0.002923) with: {'learning_rate': 0.001, 'max_depth': 10}\n",
      "-0.824069 (0.003020) with: {'learning_rate': 0.001, 'max_depth': 20}\n",
      "-0.346348 (0.005231) with: {'learning_rate': 0.01, 'max_depth': 1}\n",
      "-0.332482 (0.007152) with: {'learning_rate': 0.01, 'max_depth': 10}\n",
      "-0.335710 (0.007333) with: {'learning_rate': 0.01, 'max_depth': 20}\n",
      "-0.171330 (0.005457) with: {'learning_rate': 0.1, 'max_depth': 1}\n",
      "-0.076699 (0.003363) with: {'learning_rate': 0.1, 'max_depth': 10}\n",
      "-0.067737 (0.005679) with: {'learning_rate': 0.1, 'max_depth': 20}\n"
     ]
    },
    {
     "ename": "AttributeError",
     "evalue": "module 'matplotlib' has no attribute 'plot'",
     "output_type": "error",
     "traceback": [
      "\u001b[0;31m---------------------------------------------------------------------------\u001b[0m",
      "\u001b[0;31mAttributeError\u001b[0m                            Traceback (most recent call last)",
      "\u001b[0;32m<ipython-input-62-d14667a2f9e0>\u001b[0m in \u001b[0;36m<module>\u001b[0;34m()\u001b[0m\n\u001b[1;32m     33\u001b[0m \u001b[0mresults\u001b[0m \u001b[0;34m=\u001b[0m \u001b[0mnp\u001b[0m\u001b[0;34m.\u001b[0m\u001b[0marray\u001b[0m\u001b[0;34m(\u001b[0m\u001b[0mmeans\u001b[0m\u001b[0;34m)\u001b[0m\u001b[0;34m.\u001b[0m\u001b[0mreshape\u001b[0m\u001b[0;34m(\u001b[0m\u001b[0mlen\u001b[0m\u001b[0;34m(\u001b[0m\u001b[0meta\u001b[0m\u001b[0;34m)\u001b[0m\u001b[0;34m,\u001b[0m \u001b[0mlen\u001b[0m\u001b[0;34m(\u001b[0m\u001b[0mmax_depth\u001b[0m\u001b[0;34m)\u001b[0m\u001b[0;34m)\u001b[0m\u001b[0;34m\u001b[0m\u001b[0;34m\u001b[0m\u001b[0m\n\u001b[1;32m     34\u001b[0m \u001b[0;32mfor\u001b[0m \u001b[0mi\u001b[0m\u001b[0;34m,\u001b[0m \u001b[0mvalue\u001b[0m \u001b[0;32min\u001b[0m \u001b[0menumerate\u001b[0m\u001b[0;34m(\u001b[0m\u001b[0meta\u001b[0m\u001b[0;34m)\u001b[0m\u001b[0;34m:\u001b[0m\u001b[0;34m\u001b[0m\u001b[0;34m\u001b[0m\u001b[0m\n\u001b[0;32m---> 35\u001b[0;31m     \u001b[0mplt\u001b[0m\u001b[0;34m.\u001b[0m\u001b[0mplot\u001b[0m\u001b[0;34m(\u001b[0m\u001b[0mmax_depth\u001b[0m\u001b[0;34m,\u001b[0m \u001b[0mresults\u001b[0m\u001b[0;34m[\u001b[0m\u001b[0mi\u001b[0m\u001b[0;34m]\u001b[0m\u001b[0;34m,\u001b[0m \u001b[0mlabel\u001b[0m\u001b[0;34m=\u001b[0m\u001b[0;34m'Learning rate: '\u001b[0m \u001b[0;34m+\u001b[0m \u001b[0mstr\u001b[0m\u001b[0;34m(\u001b[0m\u001b[0mvalue\u001b[0m\u001b[0;34m)\u001b[0m\u001b[0;34m)\u001b[0m\u001b[0;34m\u001b[0m\u001b[0;34m\u001b[0m\u001b[0m\n\u001b[0m\u001b[1;32m     36\u001b[0m \u001b[0mplt\u001b[0m\u001b[0;34m.\u001b[0m\u001b[0mlegend\u001b[0m\u001b[0;34m(\u001b[0m\u001b[0;34m)\u001b[0m\u001b[0;34m\u001b[0m\u001b[0;34m\u001b[0m\u001b[0m\n\u001b[1;32m     37\u001b[0m \u001b[0mplt\u001b[0m\u001b[0;34m.\u001b[0m\u001b[0mtitle\u001b[0m\u001b[0;34m(\u001b[0m\u001b[0;34m'XGBoost learning rate / max_depth / RMSPE'\u001b[0m\u001b[0;34m)\u001b[0m\u001b[0;34m\u001b[0m\u001b[0;34m\u001b[0m\u001b[0m\n",
      "\u001b[0;31mAttributeError\u001b[0m: module 'matplotlib' has no attribute 'plot'"
     ]
    }
   ],
   "source": [
    "# Using grid search for https://xgboost.readthedocs.io/en/latest/parameter.html\n",
    "# Params useful for grid search in XGBoost: eta (learning rate), max_depth, alpha L1 regularization, tree_method\n",
    "\n",
    "from sklearn.model_selection import GridSearchCV\n",
    "from sklearn.metrics import mean_squared_error\n",
    "from sklearn.metrics import make_scorer\n",
    "\n",
    "start_time = datetime.now()\n",
    "\n",
    "XGBoost_simple = XGBRegressor()\n",
    "\n",
    "rmspe_scorer = make_scorer(RMSPE_fct, greater_is_better=False)\n",
    "\n",
    "eta = [0.001, 0.01, 0.1]\n",
    "\n",
    "max_depth = [1, 10, 20]\n",
    "\n",
    "#param_grid = dict(learning_rate=eta, max_depth=max_depth, alpha=alpha, tree_method=tree_method)\n",
    "param_grid = dict(learning_rate=eta, max_depth=max_depth)\n",
    "\n",
    "grid_search = GridSearchCV(XGBoost_simple, param_grid, scoring=rmspe_scorer, n_jobs=-1, cv=5, return_train_score=True)\n",
    "grid_result = grid_search.fit(X_train, y_train)\n",
    "\n",
    "# Summarize results\n",
    "print(\"Best: %f using %s\" % (grid_result.best_score_, grid_result.best_params_))\n",
    "means = grid_result.cv_results_['mean_test_score']\n",
    "stds = grid_result.cv_results_['std_test_score']\n",
    "params = grid_result.cv_results_['params']\n",
    "for mean, stdev, param in zip(means, stds, params):\n",
    "    print(\"%f (%f) with: %r\" % (mean, stdev, param))\n",
    "\n",
    "time_elapsed = datetime.now() - start_time \n",
    "\n",
    "print('Time elapsed (hh:mm:ss.ms) {}'.format(time_elapsed))"
   ]
  },
  {
   "cell_type": "markdown",
   "metadata": {},
   "source": [
    "#### Best XGBoost performer"
   ]
  },
  {
   "cell_type": "code",
   "execution_count": 63,
   "metadata": {},
   "outputs": [
    {
     "name": "stdout",
     "output_type": "stream",
     "text": [
      "Mean squared error: 275619.56\n",
      "Root mean squared percentage error: 0.07\n",
      "Variance score: 0.98\n",
      "Time elapsed (hh:mm:ss.ms) 0:10:17.230833\n"
     ]
    }
   ],
   "source": [
    "# https://machinelearningmastery.com/develop-first-xgboost-model-python-scikit-learn/\n",
    "# Grid search results -0.067737 using {'learning_rate': 0.1, 'max_depth': 20}\n",
    "\n",
    "from xgboost import XGBRegressor\n",
    "\n",
    "start_time = datetime.now()\n",
    "\n",
    "XGB = XGBRegressor(eta=0.1, max_depth=20)\n",
    "XGB.fit(X_train, y_train)\n",
    "XGB_pred = XGB.predict(X_test)\n",
    "\n",
    "regressor = 'XGBoost (tuned)'\n",
    "RMSPE = RMSPE_fct(y_test, XGB_pred)\n",
    "MSE = mean_squared_error(y_test, XGB_pred)\n",
    "R2 = r2_score(y_test, XGB_pred)\n",
    "\n",
    "# time \n",
    "\n",
    "time_elapsed = datetime.now() - start_time \n",
    "\n",
    "# scores \n",
    "\n",
    "scores = scores.append(pd.Series([regressor, RMSPE, MSE, R2, time_elapsed], index=scores.columns), ignore_index=True)\n",
    "\n",
    "print('Mean squared error: %.2f' % MSE)\n",
    "print('Root mean squared percentage error: %.2f' % RMSPE)\n",
    "print('Variance score: %.2f' % R2)\n",
    "print('Time elapsed (hh:mm:ss.ms) {}'.format(time_elapsed))"
   ]
  },
  {
   "cell_type": "code",
   "execution_count": 64,
   "metadata": {},
   "outputs": [
    {
     "data": {
      "text/html": [
       "<div>\n",
       "<style scoped>\n",
       "    .dataframe tbody tr th:only-of-type {\n",
       "        vertical-align: middle;\n",
       "    }\n",
       "\n",
       "    .dataframe tbody tr th {\n",
       "        vertical-align: top;\n",
       "    }\n",
       "\n",
       "    .dataframe thead th {\n",
       "        text-align: right;\n",
       "    }\n",
       "</style>\n",
       "<table border=\"1\" class=\"dataframe\">\n",
       "  <thead>\n",
       "    <tr style=\"text-align: right;\">\n",
       "      <th></th>\n",
       "      <th>Regressor</th>\n",
       "      <th>RMSPE</th>\n",
       "      <th>MSE</th>\n",
       "      <th>R2</th>\n",
       "      <th>Time</th>\n",
       "    </tr>\n",
       "  </thead>\n",
       "  <tbody>\n",
       "    <tr>\n",
       "      <th>0</th>\n",
       "      <td>Linear Reg</td>\n",
       "      <td>0.184117</td>\n",
       "      <td>1.474975e+06</td>\n",
       "      <td>0.907479</td>\n",
       "      <td>00:00:00.999722</td>\n",
       "    </tr>\n",
       "    <tr>\n",
       "      <th>1</th>\n",
       "      <td>LinearSVR</td>\n",
       "      <td>1.016006</td>\n",
       "      <td>2.194094e+07</td>\n",
       "      <td>-0.376297</td>\n",
       "      <td>00:04:20.598299</td>\n",
       "    </tr>\n",
       "    <tr>\n",
       "      <th>2</th>\n",
       "      <td>ElasticNet</td>\n",
       "      <td>0.199590</td>\n",
       "      <td>2.348652e+06</td>\n",
       "      <td>0.852675</td>\n",
       "      <td>00:00:01.245563</td>\n",
       "    </tr>\n",
       "    <tr>\n",
       "      <th>3</th>\n",
       "      <td>Lasso</td>\n",
       "      <td>0.182485</td>\n",
       "      <td>1.474664e+06</td>\n",
       "      <td>0.907498</td>\n",
       "      <td>00:00:07.476967</td>\n",
       "    </tr>\n",
       "    <tr>\n",
       "      <th>4</th>\n",
       "      <td>LGBM</td>\n",
       "      <td>0.134949</td>\n",
       "      <td>6.267752e+05</td>\n",
       "      <td>0.960684</td>\n",
       "      <td>00:00:05.742142</td>\n",
       "    </tr>\n",
       "    <tr>\n",
       "      <th>5</th>\n",
       "      <td>XGBoost</td>\n",
       "      <td>0.128395</td>\n",
       "      <td>9.476068e+05</td>\n",
       "      <td>0.940559</td>\n",
       "      <td>00:01:22.458597</td>\n",
       "    </tr>\n",
       "    <tr>\n",
       "      <th>6</th>\n",
       "      <td>Neural Net</td>\n",
       "      <td>0.131720</td>\n",
       "      <td>9.416260e+05</td>\n",
       "      <td>0.940934</td>\n",
       "      <td>00:07:59.506354</td>\n",
       "    </tr>\n",
       "    <tr>\n",
       "      <th>7</th>\n",
       "      <td>AdaBoost</td>\n",
       "      <td>0.184656</td>\n",
       "      <td>1.474300e+06</td>\n",
       "      <td>0.907521</td>\n",
       "      <td>00:01:47.173080</td>\n",
       "    </tr>\n",
       "    <tr>\n",
       "      <th>8</th>\n",
       "      <td>LGBM (tuned)</td>\n",
       "      <td>0.120544</td>\n",
       "      <td>4.045873e+05</td>\n",
       "      <td>0.974621</td>\n",
       "      <td>00:00:08.645948</td>\n",
       "    </tr>\n",
       "    <tr>\n",
       "      <th>9</th>\n",
       "      <td>MLP (tuned)</td>\n",
       "      <td>0.125380</td>\n",
       "      <td>9.616606e+05</td>\n",
       "      <td>0.939678</td>\n",
       "      <td>00:18:18.715265</td>\n",
       "    </tr>\n",
       "    <tr>\n",
       "      <th>10</th>\n",
       "      <td>XGBoost (tuned)</td>\n",
       "      <td>0.067484</td>\n",
       "      <td>2.756196e+05</td>\n",
       "      <td>0.982711</td>\n",
       "      <td>00:10:17.230833</td>\n",
       "    </tr>\n",
       "  </tbody>\n",
       "</table>\n",
       "</div>"
      ],
      "text/plain": [
       "          Regressor     RMSPE           MSE        R2            Time\n",
       "0        Linear Reg  0.184117  1.474975e+06  0.907479 00:00:00.999722\n",
       "1         LinearSVR  1.016006  2.194094e+07 -0.376297 00:04:20.598299\n",
       "2        ElasticNet  0.199590  2.348652e+06  0.852675 00:00:01.245563\n",
       "3             Lasso  0.182485  1.474664e+06  0.907498 00:00:07.476967\n",
       "4              LGBM  0.134949  6.267752e+05  0.960684 00:00:05.742142\n",
       "5           XGBoost  0.128395  9.476068e+05  0.940559 00:01:22.458597\n",
       "6        Neural Net  0.131720  9.416260e+05  0.940934 00:07:59.506354\n",
       "7          AdaBoost  0.184656  1.474300e+06  0.907521 00:01:47.173080\n",
       "8      LGBM (tuned)  0.120544  4.045873e+05  0.974621 00:00:08.645948\n",
       "9       MLP (tuned)  0.125380  9.616606e+05  0.939678 00:18:18.715265\n",
       "10  XGBoost (tuned)  0.067484  2.756196e+05  0.982711 00:10:17.230833"
      ]
     },
     "execution_count": 64,
     "metadata": {},
     "output_type": "execute_result"
    }
   ],
   "source": [
    "scores"
   ]
  },
  {
   "cell_type": "markdown",
   "metadata": {},
   "source": [
    "# Predicting the \"true\" dataset with top 3 algorithms"
   ]
  },
  {
   "cell_type": "code",
   "execution_count": 65,
   "metadata": {},
   "outputs": [],
   "source": [
    "# preparing the true dataset\n",
    "\n",
    "imputer = Imputer()\n",
    "\n",
    "X_true = true.drop(['Intercept',\n",
    "                    'Store_ID', \n",
    "                    'Sales', \n",
    "                    'Date', \n",
    "                    'DayOfMonth', \n",
    "                    'Type_A', \n",
    "                    'Assort_Basic', \n",
    "                    'Promo2_Feb,May,Aug,Nov',\n",
    "                    'Year',\n",
    "                    '2013',\n",
    "                    'Jan', \n",
    "                    'Mon'], axis=1)\n",
    "\n",
    "X_true = imputer.fit_transform(X_true)\n",
    "\n",
    "y_true = true['Sales']"
   ]
  },
  {
   "cell_type": "code",
   "execution_count": 68,
   "metadata": {},
   "outputs": [
    {
     "name": "stdout",
     "output_type": "stream",
     "text": [
      "Mean squared error: 1298959.10\n",
      "Root mean squared percentage error: 0.13\n",
      "Variance score: 0.92\n"
     ]
    }
   ],
   "source": [
    "# MLP\n",
    "\n",
    "MLP_pred = MLP.predict(X_true)\n",
    "\n",
    "regressor = 'MLP (true)'\n",
    "RMSPE = RMSPE_fct(y_true, MLP_pred)\n",
    "MSE = mean_squared_error(y_true, MLP_pred)\n",
    "R2 = r2_score(y_true, MLP_pred)\n",
    "\n",
    "# time \n",
    "\n",
    "time_elapsed = 'n/a (prediction only)'\n",
    "\n",
    "# scores \n",
    "\n",
    "scores = scores.append(pd.Series([regressor, RMSPE, MSE, R2, time_elapsed], index=scores.columns), ignore_index=True)\n",
    "\n",
    "print('Mean squared error: %.2f' % MSE)\n",
    "print('Root mean squared percentage error: %.2f' % RMSPE)\n",
    "print('Variance score: %.2f' % R2)"
   ]
  },
  {
   "cell_type": "code",
   "execution_count": 69,
   "metadata": {},
   "outputs": [
    {
     "name": "stdout",
     "output_type": "stream",
     "text": [
      "Mean squared error: 594451.16\n",
      "Root mean squared percentage error: 0.09\n",
      "Variance score: 0.96\n"
     ]
    }
   ],
   "source": [
    "# LGBM\n",
    "\n",
    "lgb_pred = lgb.predict(X_true)\n",
    "\n",
    "regressor = 'LGBM (true)'\n",
    "RMSPE = RMSPE_fct(y_true, lgb_pred)\n",
    "MSE = mean_squared_error(y_true, lgb_pred)\n",
    "R2 = r2_score(y_true, lgb_pred)\n",
    "\n",
    "# time\n",
    "\n",
    "time_elapsed = 'n/a (prediction only)'\n",
    "\n",
    "# scores \n",
    "\n",
    "scores = scores.append(pd.Series([regressor, RMSPE, MSE, R2, time_elapsed], index=scores.columns), ignore_index=True)\n",
    "\n",
    "print('Mean squared error: %.2f' % MSE)\n",
    "print('Root mean squared percentage error: %.2f' % RMSPE)\n",
    "print('Variance score: %.2f' % R2)"
   ]
  },
  {
   "cell_type": "code",
   "execution_count": 70,
   "metadata": {},
   "outputs": [
    {
     "name": "stdout",
     "output_type": "stream",
     "text": [
      "Mean squared error: 459358.96\n",
      "Root mean squared percentage error: 0.08\n",
      "Variance score: 0.97\n"
     ]
    }
   ],
   "source": [
    "# XGBoost\n",
    "\n",
    "XGB_pred = XGB.predict(X_true)\n",
    "\n",
    "regressor = 'XGBoost (true)'\n",
    "RMSPE = RMSPE_fct(y_true, XGB_pred)\n",
    "MSE = mean_squared_error(y_true, XGB_pred)\n",
    "R2 = r2_score(y_true, XGB_pred)\n",
    "\n",
    "# time \n",
    "\n",
    "time_elapsed = 'n/a (prediction only)'\n",
    "\n",
    "# scores \n",
    "\n",
    "scores = scores.append(pd.Series([regressor, RMSPE, MSE, R2, time_elapsed], index=scores.columns), ignore_index=True)\n",
    "\n",
    "print('Mean squared error: %.2f' % MSE)\n",
    "print('Root mean squared percentage error: %.2f' % RMSPE)\n",
    "print('Variance score: %.2f' % R2)"
   ]
  },
  {
   "cell_type": "markdown",
   "metadata": {},
   "source": [
    "# Final performance comparison"
   ]
  },
  {
   "cell_type": "code",
   "execution_count": 71,
   "metadata": {},
   "outputs": [
    {
     "data": {
      "text/html": [
       "<div>\n",
       "<style scoped>\n",
       "    .dataframe tbody tr th:only-of-type {\n",
       "        vertical-align: middle;\n",
       "    }\n",
       "\n",
       "    .dataframe tbody tr th {\n",
       "        vertical-align: top;\n",
       "    }\n",
       "\n",
       "    .dataframe thead th {\n",
       "        text-align: right;\n",
       "    }\n",
       "</style>\n",
       "<table border=\"1\" class=\"dataframe\">\n",
       "  <thead>\n",
       "    <tr style=\"text-align: right;\">\n",
       "      <th></th>\n",
       "      <th>Regressor</th>\n",
       "      <th>RMSPE</th>\n",
       "      <th>MSE</th>\n",
       "      <th>R2</th>\n",
       "      <th>Time</th>\n",
       "    </tr>\n",
       "  </thead>\n",
       "  <tbody>\n",
       "    <tr>\n",
       "      <th>0</th>\n",
       "      <td>Linear Reg</td>\n",
       "      <td>0.184117</td>\n",
       "      <td>1.474975e+06</td>\n",
       "      <td>0.907479</td>\n",
       "      <td>0 days 00:00:00.999722</td>\n",
       "    </tr>\n",
       "    <tr>\n",
       "      <th>1</th>\n",
       "      <td>LinearSVR</td>\n",
       "      <td>1.016006</td>\n",
       "      <td>2.194094e+07</td>\n",
       "      <td>-0.376297</td>\n",
       "      <td>0 days 00:04:20.598299</td>\n",
       "    </tr>\n",
       "    <tr>\n",
       "      <th>2</th>\n",
       "      <td>ElasticNet</td>\n",
       "      <td>0.199590</td>\n",
       "      <td>2.348652e+06</td>\n",
       "      <td>0.852675</td>\n",
       "      <td>0 days 00:00:01.245563</td>\n",
       "    </tr>\n",
       "    <tr>\n",
       "      <th>3</th>\n",
       "      <td>Lasso</td>\n",
       "      <td>0.182485</td>\n",
       "      <td>1.474664e+06</td>\n",
       "      <td>0.907498</td>\n",
       "      <td>0 days 00:00:07.476967</td>\n",
       "    </tr>\n",
       "    <tr>\n",
       "      <th>4</th>\n",
       "      <td>LGBM</td>\n",
       "      <td>0.134949</td>\n",
       "      <td>6.267752e+05</td>\n",
       "      <td>0.960684</td>\n",
       "      <td>0 days 00:00:05.742142</td>\n",
       "    </tr>\n",
       "    <tr>\n",
       "      <th>5</th>\n",
       "      <td>XGBoost</td>\n",
       "      <td>0.128395</td>\n",
       "      <td>9.476068e+05</td>\n",
       "      <td>0.940559</td>\n",
       "      <td>0 days 00:01:22.458597</td>\n",
       "    </tr>\n",
       "    <tr>\n",
       "      <th>6</th>\n",
       "      <td>Neural Net</td>\n",
       "      <td>0.131720</td>\n",
       "      <td>9.416260e+05</td>\n",
       "      <td>0.940934</td>\n",
       "      <td>0 days 00:07:59.506354</td>\n",
       "    </tr>\n",
       "    <tr>\n",
       "      <th>7</th>\n",
       "      <td>AdaBoost</td>\n",
       "      <td>0.184656</td>\n",
       "      <td>1.474300e+06</td>\n",
       "      <td>0.907521</td>\n",
       "      <td>0 days 00:01:47.173080</td>\n",
       "    </tr>\n",
       "    <tr>\n",
       "      <th>8</th>\n",
       "      <td>LGBM (tuned)</td>\n",
       "      <td>0.120544</td>\n",
       "      <td>4.045873e+05</td>\n",
       "      <td>0.974621</td>\n",
       "      <td>0 days 00:00:08.645948</td>\n",
       "    </tr>\n",
       "    <tr>\n",
       "      <th>9</th>\n",
       "      <td>MLP (tuned)</td>\n",
       "      <td>0.125380</td>\n",
       "      <td>9.616606e+05</td>\n",
       "      <td>0.939678</td>\n",
       "      <td>0 days 00:18:18.715265</td>\n",
       "    </tr>\n",
       "    <tr>\n",
       "      <th>10</th>\n",
       "      <td>XGBoost (tuned)</td>\n",
       "      <td>0.067484</td>\n",
       "      <td>2.756196e+05</td>\n",
       "      <td>0.982711</td>\n",
       "      <td>0 days 00:10:17.230833</td>\n",
       "    </tr>\n",
       "    <tr>\n",
       "      <th>11</th>\n",
       "      <td>MLP (true)</td>\n",
       "      <td>0.134345</td>\n",
       "      <td>1.298959e+06</td>\n",
       "      <td>0.916553</td>\n",
       "      <td>n/a (prediction only)</td>\n",
       "    </tr>\n",
       "    <tr>\n",
       "      <th>12</th>\n",
       "      <td>LGBM (true)</td>\n",
       "      <td>0.091219</td>\n",
       "      <td>5.944512e+05</td>\n",
       "      <td>0.961812</td>\n",
       "      <td>n/a (prediction only)</td>\n",
       "    </tr>\n",
       "    <tr>\n",
       "      <th>13</th>\n",
       "      <td>XGBoost (true)</td>\n",
       "      <td>0.079036</td>\n",
       "      <td>4.593590e+05</td>\n",
       "      <td>0.970490</td>\n",
       "      <td>n/a (prediction only)</td>\n",
       "    </tr>\n",
       "  </tbody>\n",
       "</table>\n",
       "</div>"
      ],
      "text/plain": [
       "          Regressor     RMSPE           MSE        R2                    Time\n",
       "0        Linear Reg  0.184117  1.474975e+06  0.907479  0 days 00:00:00.999722\n",
       "1         LinearSVR  1.016006  2.194094e+07 -0.376297  0 days 00:04:20.598299\n",
       "2        ElasticNet  0.199590  2.348652e+06  0.852675  0 days 00:00:01.245563\n",
       "3             Lasso  0.182485  1.474664e+06  0.907498  0 days 00:00:07.476967\n",
       "4              LGBM  0.134949  6.267752e+05  0.960684  0 days 00:00:05.742142\n",
       "5           XGBoost  0.128395  9.476068e+05  0.940559  0 days 00:01:22.458597\n",
       "6        Neural Net  0.131720  9.416260e+05  0.940934  0 days 00:07:59.506354\n",
       "7          AdaBoost  0.184656  1.474300e+06  0.907521  0 days 00:01:47.173080\n",
       "8      LGBM (tuned)  0.120544  4.045873e+05  0.974621  0 days 00:00:08.645948\n",
       "9       MLP (tuned)  0.125380  9.616606e+05  0.939678  0 days 00:18:18.715265\n",
       "10  XGBoost (tuned)  0.067484  2.756196e+05  0.982711  0 days 00:10:17.230833\n",
       "11       MLP (true)  0.134345  1.298959e+06  0.916553   n/a (prediction only)\n",
       "12      LGBM (true)  0.091219  5.944512e+05  0.961812   n/a (prediction only)\n",
       "13   XGBoost (true)  0.079036  4.593590e+05  0.970490   n/a (prediction only)"
      ]
     },
     "execution_count": 71,
     "metadata": {},
     "output_type": "execute_result"
    }
   ],
   "source": [
    "scores"
   ]
  },
  {
   "cell_type": "markdown",
   "metadata": {},
   "source": [
    "Capture your position on final leaderboard with screenshot, create a new scores chart. \n",
    "Also for git readme (needs to be udpated)\n",
    "\n",
    "https://www.kaggle.com/c/rossmann-store-sales/leaderboard"
   ]
  },
  {
   "cell_type": "code",
   "execution_count": null,
   "metadata": {},
   "outputs": [],
   "source": []
  }
 ],
 "metadata": {
  "kernelspec": {
   "display_name": "Python 3",
   "language": "python",
   "name": "python3"
  },
  "language_info": {
   "codemirror_mode": {
    "name": "ipython",
    "version": 3
   },
   "file_extension": ".py",
   "mimetype": "text/x-python",
   "name": "python",
   "nbconvert_exporter": "python",
   "pygments_lexer": "ipython3",
   "version": "3.6.8"
  }
 },
 "nbformat": 4,
 "nbformat_minor": 2
}
